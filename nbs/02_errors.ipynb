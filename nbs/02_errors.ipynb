{
 "cells": [
  {
   "cell_type": "code",
   "execution_count": 1,
   "metadata": {},
   "outputs": [],
   "source": [
    "# default_exp core.errors"
   ]
  },
  {
   "attachments": {},
   "cell_type": "markdown",
   "metadata": {},
   "source": [
    "# Errors\n",
    "\n",
    "> Provides error handling objects."
   ]
  },
  {
   "cell_type": "code",
   "execution_count": 2,
   "metadata": {},
   "outputs": [],
   "source": [
    "#hide\n",
    "from nbdev.showdoc import *"
   ]
  },
  {
   "cell_type": "code",
   "execution_count": 3,
   "metadata": {},
   "outputs": [],
   "source": [
    "#exporti\n",
    "\n",
    "class DifferentScoreLengthError(Exception):\n",
    "    def __init__(self,score_1_len:int,score_2_len)->None:\n",
    "        self.score_1_len = score_1_len\n",
    "        self.score_2_len = score_2_len\n",
    "        \n",
    "        self.message = \"Input scores have length %s and length %s and do not match.\"%(self.score_1_len,self.score_2_len)\n",
    "        super().__init__(self.message)\n",
    "        \n",
    "class InvalidScoreError(Exception):\n",
    "    def __init__(self,idx:int,val_1:int,val_2:int)->None:\n",
    "        \n",
    "        self.idx = idx\n",
    "        self.val_1 = val_1\n",
    "        self.val_2 = val_2\n",
    "        self.message = \"Input end scores of %s and %s for end %s are both greater than 0 and the end score is not valid.\"%(self.val_1,self.val_2,self.idx)\n",
    "        super().__init__(self.message)\n",
    "        \n",
    "class InvalidEventError(Exception):\n",
    "    def __init__(self,cz_event_id:int)->None:\n",
    "        self.cz_event_id = cz_event_id\n",
    "        \n",
    "        self.message = \"Inputted Event ID of %s is not valid, please check you have the right one.\"%self.cz_event_id\n",
    "        super().__init__(self.message)"
   ]
  },
  {
   "cell_type": "code",
   "execution_count": 4,
   "metadata": {},
   "outputs": [
    {
     "data": {
      "text/plain": [
       "'Input scores have length 1 and length 2 and do not match.'"
      ]
     },
     "execution_count": 4,
     "metadata": {},
     "output_type": "execute_result"
    }
   ],
   "source": [
    "# hide\n",
    "\n",
    "DifferentScoreLengthError(1,2).message"
   ]
  },
  {
   "cell_type": "code",
   "execution_count": 5,
   "metadata": {},
   "outputs": [
    {
     "data": {
      "text/plain": [
       "'Input end scores of 1 and 2 for end 1 are both greater than 0 and the end score is not valid.'"
      ]
     },
     "execution_count": 5,
     "metadata": {},
     "output_type": "execute_result"
    }
   ],
   "source": [
    "# hide\n",
    "InvalidScoreError(1,1,2).message"
   ]
  },
  {
   "cell_type": "code",
   "execution_count": 6,
   "metadata": {},
   "outputs": [
    {
     "data": {
      "text/plain": [
       "'Inputted Event ID of 0 is not valid, please check you have the right one.'"
      ]
     },
     "execution_count": 6,
     "metadata": {},
     "output_type": "execute_result"
    }
   ],
   "source": [
    "# hide\n",
    "InvalidEventError(0).message"
   ]
  }
 ],
 "metadata": {
  "kernelspec": {
   "display_name": "Python 3 (ipykernel)",
   "language": "python",
   "name": "python3"
  },
  "language_info": {
   "codemirror_mode": {
    "name": "ipython",
    "version": 3
   },
   "file_extension": ".py",
   "mimetype": "text/x-python",
   "name": "python",
   "nbconvert_exporter": "python",
   "pygments_lexer": "ipython3",
   "version": "3.7.9"
  }
 },
 "nbformat": 4,
 "nbformat_minor": 2
}
