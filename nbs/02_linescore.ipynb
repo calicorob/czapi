{
 "cells": [
  {
   "cell_type": "code",
   "execution_count": null,
   "metadata": {},
   "outputs": [],
   "source": [
    "# default_exp core.scraping.linescore"
   ]
  },
  {
   "cell_type": "markdown",
   "metadata": {},
   "source": [
    "# Linescore\n",
    "\n",
    "> Scrapes CZ linescore information."
   ]
  },
  {
   "cell_type": "code",
   "execution_count": null,
   "metadata": {},
   "outputs": [],
   "source": [
    "#hide\n",
    "from nbdev.showdoc import *"
   ]
  },
  {
   "cell_type": "code",
   "execution_count": null,
   "metadata": {},
   "outputs": [],
   "source": [
    "#export\n",
    "\n",
    "from czapi.core.scraping.base import make_soup\n",
    "from czapi.core.scraping.constants import BOXSCORE_KWARGS\n",
    "from bs4 import BeautifulSoup, Tag\n",
    "from collections import defaultdict\n",
    "from typing import List, Union"
   ]
  },
  {
   "cell_type": "code",
   "execution_count": null,
   "metadata": {},
   "outputs": [],
   "source": [
    "#export\n",
    "def generate_dict_from_table(\n",
    "\n",
    "    table : Tag\n",
    "\n",
    ")->Union[dict,defaultdict]:\n",
    "    \"\"\"Helper function for returning the curling boxscore from a bs4 Tag object.\"\"\"\n",
    "    d = defaultdict(list)\n",
    "    team = None\n",
    "    \n",
    "    # TODO : add error handling for when no table is passed / None\n",
    "    \n",
    "    if table is None:\n",
    "        raise ValueError('Table tag is NoneType.')\n",
    "    \n",
    "    # loop through tags in table\n",
    "    for tag in table.find_all('td'):\n",
    "        if tag.attrs.get('class') == ['linescoreteam']:\n",
    "            team = tag.a.string\n",
    "            d[team] = defaultdict(list)\n",
    "            d[team]['href'] = tag.a['href']\n",
    "        elif tag.attrs.get('class') == ['linescorehammer']:\n",
    "            d[team]['hammer'] = not bool(tag.string) # opposite for some reason\n",
    "        elif tag.attrs.get('class') == ['linescoreend']:\n",
    "            d[team]['score'].append(tag.string.strip())\n",
    "        elif tag.attrs.get('class') == ['linescorefinal']:\n",
    "            d[team]['finalscore'] = tag.b.string.strip()\n",
    "        \n",
    "    return d"
   ]
  },
  {
   "cell_type": "code",
   "execution_count": null,
   "metadata": {},
   "outputs": [],
   "source": [
    "#export\n",
    "\n",
    "def get_boxscore_from_table(\n",
    "\n",
    "    table : Tag\n",
    "\n",
    ")->Union[dict,defaultdict]:\n",
    "    \"\"\"Wraps generate_dict_from_table for clarity / error handling.\"\"\"\n",
    "    try:\n",
    "        return generate_dict_from_table(table = table)\n",
    "    \n",
    "    except ValueError as e:\n",
    "        # TODO : change return value based on what makes sense for the API\n",
    "        return {}\n",
    "\n",
    "def get_boxscore_from_game_id(\n",
    "\n",
    "     cz_game_id : str\n",
    "    ,**request_kwargs\n",
    ")->Union[dict,defaultdict]:\n",
    "    \"\"\"Returns a curling boxscore (dict) based on the cz_game_id.\"\"\"\n",
    "    \n",
    "    url = 'https://www.curlingzone.com/game.php?1=1&showgameid=%s#1'%cz_game_id\n",
    "    soup = make_soup(url=url,**request_kwargs)\n",
    "    table = soup.find(**BOXSCORE_KWARGS)\n",
    "    \n",
    "    \n",
    "    return get_boxscore_from_table(table=table)\n"
   ]
  },
  {
   "cell_type": "markdown",
   "metadata": {},
   "source": [
    "> The picture below highlights where the cz_game_id is found in the CurlingZone [URL](https://curlingzone.com/game.php?1=1&showgameid=271145#1). "
   ]
  },
  {
   "cell_type": "markdown",
   "metadata": {},
   "source": [
    "![game by gameid](./imgs/game_by_game_id.png)"
   ]
  },
  {
   "cell_type": "code",
   "execution_count": null,
   "metadata": {},
   "outputs": [],
   "source": [
    "expected_dict = {\n",
    "    \n",
    "    'Wayne Tuck Jr.' : {\n",
    "        \n",
    "         'href' : 'event.php?view=Team&eventid=6400&teamid=144353&profileid=12486#1'\n",
    "        ,'hammer' : True\n",
    "        ,'score' : ['0','2','0','0','0','0','1','1','1','0']\n",
    "        ,'finalscore' : '5'\n",
    "        \n",
    "    }\n",
    "    ,'Matthew Hall' : {\n",
    "        \n",
    "         'href' : 'event.php?view=Team&eventid=6400&teamid=144347&profileid=12435#1'\n",
    "        ,'hammer' : False\n",
    "        ,'score' : ['0','0','4','0','0','1','0','0','0','2']\n",
    "        ,'finalscore' : '7'\n",
    "    }\n",
    "    \n",
    "}\n",
    "\n",
    "actual_dict = get_boxscore_from_game_id(cz_game_id = 271145)\n",
    "\n",
    "assert actual_dict == expected_dict"
   ]
  },
  {
   "cell_type": "code",
   "execution_count": null,
   "metadata": {},
   "outputs": [],
   "source": [
    "#export\n",
    "\n",
    "def get_table_from_index(\n",
    "\n",
    "     tables : List[Tag]\n",
    "    ,game_number : int\n",
    "\n",
    ")->Tag:\n",
    "    \"\"\"Returns a 'table' Tag object from a list of 'table' Tag objects. This helper function allows for 1 indexing instead of 0.\"\"\"\n",
    "    # TODO confirm this is the kind of error handling we want\n",
    "    if game_number < 1 :\n",
    "        raise ValueError('Table number must be greater than 0.')\n",
    "        \n",
    "    game_idx = game_number -1 \n",
    "    \n",
    "    try:\n",
    "        return tables[game_idx]\n",
    "    except IndexError as e:\n",
    "        raise IndexError(\". \".join([str(e),\"Are you sure that game number is valid?\"]))\n",
    "    \n",
    "def get_boxscore_from_event_draw_game_number(\n",
    "\n",
    "     cz_event_id : str\n",
    "    ,cz_draw_id : int\n",
    "    ,game_number : int \n",
    "    ,**request_kwargs\n",
    "):\n",
    "    \"\"\"Returns a curling boxscore (dict) based on the cz_event_id, cz_draw_id and game_number.\"\"\"\n",
    "    url = 'https://curlingzone.com/event.php?eventid=%s&view=Scores&showdrawid=%s#1'%(cz_event_id,cz_draw_id)\n",
    "    soup = make_soup(url=url,**request_kwargs)\n",
    "    \n",
    "    tables = soup.find_all(**BOXSCORE_KWARGS)\n",
    "    try:\n",
    "        table = get_table_from_index(tables = tables, game_number = game_number)\n",
    "        return get_boxscore_from_table(table = table)\n",
    "    \n",
    "    except IndexError as e:\n",
    "        return {}\n",
    "    \n",
    "    except ValueError as e:\n",
    "        return {}  "
   ]
  },
  {
   "cell_type": "markdown",
   "metadata": {},
   "source": [
    "> The picture below highlights where the cz_event_id and cz_draw_id are found and how the games are numbered (game_number) on the CurlingZone [page](https://curlingzone.com/event.php?eventid=6400&view=Scores&showdrawid=2#1). "
   ]
  },
  {
   "cell_type": "markdown",
   "metadata": {},
   "source": [
    "![game by event id, draw and game number](./imgs/game_by_event_draw_game_number.png)"
   ]
  },
  {
   "cell_type": "code",
   "execution_count": null,
   "metadata": {},
   "outputs": [],
   "source": [
    "actual_dict =  get_boxscore_from_event_draw_game_number(\n",
    "\n",
    "     cz_event_id = 6400\n",
    "    ,cz_draw_id = 2\n",
    "    ,game_number = 1\n",
    "\n",
    ") == expected_dict"
   ]
  }
 ],
 "metadata": {
  "kernelspec": {
   "display_name": "Python 3 (ipykernel)",
   "language": "python",
   "name": "python3"
  }
 },
 "nbformat": 4,
 "nbformat_minor": 2
}
