{
 "cells": [
  {
   "cell_type": "code",
   "execution_count": 1,
   "metadata": {},
   "outputs": [],
   "source": [
    "# default_exp core.scraping.base"
   ]
  },
  {
   "cell_type": "markdown",
   "metadata": {},
   "source": [
    "# Base\n",
    "\n",
    "> Provides basic scraping functionality."
   ]
  },
  {
   "cell_type": "code",
   "execution_count": 2,
   "metadata": {},
   "outputs": [],
   "source": [
    "#hide\n",
    "from nbdev.showdoc import *"
   ]
  },
  {
   "cell_type": "code",
   "execution_count": 3,
   "metadata": {},
   "outputs": [],
   "source": [
    "#export\n",
    "\n",
    "import requests \n",
    "from requests.models import Response\n",
    "from bs4 import BeautifulSoup\n",
    "from abc import ABC, abstractproperty\n",
    "from dataclasses import dataclass\n",
    "from typing import Optional"
   ]
  },
  {
   "cell_type": "code",
   "execution_count": 4,
   "metadata": {},
   "outputs": [],
   "source": [
    "#exporti\n",
    "\n",
    "\n",
    "class URL(ABC):\n",
    "    \n",
    "    @abstractproperty\n",
    "    def url(self)->str:\n",
    "        ...\n",
    "        \n",
    "@dataclass\n",
    "class LinescoreURL:\n",
    "    cz_event_id : int\n",
    "        \n",
    "    @property\n",
    "    def url(self)->str:\n",
    "        return 'https://curlingzone.com/event.php?view=Scores&eventid=%s#1'%self.cz_event_id\n",
    "    \n",
    "@dataclass\n",
    "class BoxscoreURL:\n",
    "    cz_event_id : int\n",
    "    cz_draw_id: int\n",
    "    \n",
    "    \n",
    "    @property\n",
    "    def url(self)->str:\n",
    "        return 'https://curlingzone.com/event.php?eventid=%s&view=Scores&showdrawid=%s#1'%(self.cz_event_id,self.cz_draw_id)\n",
    "    \n",
    "def make_url(\n",
    "    cz_event_id : Optional[int] = None\n",
    "    ,cz_draw_id : Optional[int] = None\n",
    "\n",
    ")->URL:\n",
    "    if cz_event_id:\n",
    "        return LinescoreURL(cz_event_id = cz_event_id)\n",
    "    \n",
    "    if cz_draw_id:\n",
    "        return BoxscoreURL(cz_event_id = cz_event_id, cz_draw_id = cz_draw_id)\n",
    "    \n",
    "    raise ValueError('One of cz_event_id or cz_draw_id must be populated.')"
   ]
  },
  {
   "cell_type": "code",
   "execution_count": 5,
   "metadata": {},
   "outputs": [
    {
     "name": "stdout",
     "output_type": "stream",
     "text": [
      "https://curlingzone.com/event.php?view=Scores&eventid=5000#1\n",
      "https://curlingzone.com/event.php?eventid=5000&view=Scores&showdrawid=5#1\n",
      "https://curlingzone.com/event.php?view=Scores&eventid=5000#1\n"
     ]
    }
   ],
   "source": [
    "# hide\n",
    "print(LinescoreURL(cz_event_id = 5000).url)\n",
    "print(BoxscoreURL(cz_event_id = 5000,cz_draw_id = 5).url)\n",
    "print(make_url(cz_event_id = 5000).url)"
   ]
  },
  {
   "cell_type": "code",
   "execution_count": 6,
   "metadata": {},
   "outputs": [],
   "source": [
    "#export\n",
    "    \n",
    "def make_request_from(\n",
    "\n",
    "     *\n",
    "    ,url : URL\n",
    "    ,**kwargs\n",
    "\n",
    ")->Response:\n",
    "    return requests.get(url=url.url,**kwargs)\n",
    "        \n",
    "\n",
    "def make_soup_from(\n",
    "    \n",
    "     *\n",
    "    ,response : Response\n",
    "    ,**kwargs\n",
    "\n",
    ")->BeautifulSoup:\n",
    "    \"\"\" Returns a Beautifulsoup object for the passed URL.\"\"\"\n",
    "    \n",
    "    return BeautifulSoup(response.content,**kwargs)"
   ]
  },
  {
   "cell_type": "code",
   "execution_count": 7,
   "metadata": {},
   "outputs": [],
   "source": [
    "# tests\n",
    "\n",
    "url = make_url(cz_event_id = 6938)\n",
    "parser = 'html.parser'\n",
    "\n",
    "response = make_request_from(url = url)\n",
    "soup = make_soup_from(response = response)\n",
    "assert isinstance(soup,BeautifulSoup)"
   ]
  },
  {
   "cell_type": "code",
   "execution_count": 8,
   "metadata": {},
   "outputs": [],
   "source": [
    "#export\n",
    "    \n",
    "def make_request_from(\n",
    "\n",
    "     *\n",
    "    ,url : URL\n",
    "    ,**kwargs\n",
    "\n",
    ")->Response:\n",
    "    return requests.get(url=url.url,**kwargs)\n",
    "        \n",
    "\n",
    "def make_soup_from(\n",
    "    \n",
    "     *\n",
    "    ,response : Response\n",
    "    ,**kwargs\n",
    "\n",
    ")->BeautifulSoup:\n",
    "    \"\"\" Returns a Beautifulsoup object for the passed URL.\"\"\"\n",
    "    \n"
   ]
  },
  {
   "cell_type": "code",
   "execution_count": 9,
   "metadata": {},
   "outputs": [],
   "source": [
    "#exporti\n",
    "class Page(ABC):\n",
    "        \n",
    "    @abstractproperty\n",
    "    def event_name(self)->str:\n",
    "        ...\n",
    "\n",
    "@dataclass\n",
    "class LinescorePage(Page):\n",
    "    soup : BeautifulSoup\n",
    "        \n",
    "    @property\n",
    "    def event_name(self)->str:\n",
    "        return soup.find('title').string\n",
    "    \n",
    "@dataclass\n",
    "class BoxscorePage(Page):\n",
    "    soup : BeautifulSoup\n",
    "        \n",
    "    @property\n",
    "    def event_name(self)->str:\n",
    "        return soup.find('h3',attrs={'class':'entry-title-widget'}).string\n"
   ]
  },
  {
   "cell_type": "code",
   "execution_count": 10,
   "metadata": {},
   "outputs": [
    {
     "data": {
      "text/plain": [
       "'Hokkaido Bank Curling Classic'"
      ]
     },
     "execution_count": 10,
     "metadata": {},
     "output_type": "execute_result"
    }
   ],
   "source": [
    "LinescorePage(soup = soup).event_name\n",
    "BoxscorePage(soup = soup).event_name"
   ]
  },
  {
   "cell_type": "code",
   "execution_count": 11,
   "metadata": {},
   "outputs": [],
   "source": [
    "#exporti\n",
    "class Page(ABC):\n",
    "        \n",
    "    @abstractproperty\n",
    "    def event_name(self)->str:\n",
    "        ...\n",
    "    \n",
    "    def __post__init(self)->None:\n",
    "        self.url = url\n",
    "        response = make_request_from(url = url)\n",
    "        self.soup = make_soup_from(response=response)\n",
    "\n",
    "@dataclass\n",
    "class LinescorePage(Page):\n",
    "    url : URL\n",
    "        \n",
    "    @property\n",
    "    def event_name(self)->str:\n",
    "        return soup.find('title').string\n",
    "    \n",
    "    def __post__init(self)->None:\n",
    "        super().__post__init()\n",
    "    \n",
    "@dataclass\n",
    "class BoxscorePage(Page):\n",
    "    url : URL\n",
    "        \n",
    "    @property\n",
    "    def event_name(self)->str:\n",
    "        return soup.find('h3',attrs={'class':'entry-title-widget'}).string\n",
    "    \n",
    "    def __post__init(self)->None:\n",
    "        super().__post__init()\n"
   ]
  },
  {
   "cell_type": "code",
   "execution_count": 12,
   "metadata": {},
   "outputs": [
    {
     "data": {
      "text/plain": [
       "'Hokkaido Bank Curling Classic'"
      ]
     },
     "execution_count": 12,
     "metadata": {},
     "output_type": "execute_result"
    }
   ],
   "source": [
    "LinescorePage(url = make_url(cz_event_id = 5000)).event_name\n",
    "BoxscorePage(url=make_url(cz_event_id = 5000,cz_draw_id = 5)).event_name"
   ]
  },
  {
   "cell_type": "code",
   "execution_count": null,
   "metadata": {},
   "outputs": [],
   "source": []
  }
 ],
 "metadata": {
  "kernelspec": {
   "display_name": "Python 3 (ipykernel)",
   "language": "python",
   "name": "python3"
  },
  "language_info": {
   "codemirror_mode": {
    "name": "ipython",
    "version": 3
   },
   "file_extension": ".py",
   "mimetype": "text/x-python",
   "name": "python",
   "nbconvert_exporter": "python",
   "pygments_lexer": "ipython3",
   "version": "3.7.9"
  }
 },
 "nbformat": 4,
 "nbformat_minor": 2
}
