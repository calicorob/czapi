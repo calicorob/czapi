{
 "cells": [
  {
   "cell_type": "code",
   "execution_count": 1,
   "metadata": {},
   "outputs": [],
   "source": [
    "# default_exp core.scraping.base"
   ]
  },
  {
   "cell_type": "markdown",
   "metadata": {},
   "source": [
    "# Base\n",
    "\n",
    "> Provides basic scraping functionality."
   ]
  },
  {
   "cell_type": "code",
   "execution_count": 2,
   "metadata": {},
   "outputs": [],
   "source": [
    "#hide\n",
    "from nbdev.showdoc import *"
   ]
  },
  {
   "cell_type": "code",
   "execution_count": 3,
   "metadata": {},
   "outputs": [],
   "source": [
    "#export\n",
    "\n",
    "import requests \n",
    "from requests.models import Response\n",
    "from bs4 import BeautifulSoup,Tag\n",
    "from abc import ABC, abstractproperty, abstractmethod\n",
    "from dataclasses import dataclass\n",
    "from typing import Optional, List, Any\n",
    "from collections import defaultdict\n",
    "from hashlib import sha256"
   ]
  },
  {
   "cell_type": "code",
   "execution_count": 4,
   "metadata": {},
   "outputs": [],
   "source": [
    "#exporti\n",
    "    \n",
    "def make_request_from(\n",
    "\n",
    "     *\n",
    "    ,url : str\n",
    "    ,**kwargs\n",
    "\n",
    ")->Response:\n",
    "    return requests.get(url=url,**kwargs)\n",
    "        \n",
    "\n",
    "def make_soup_from(\n",
    "    \n",
    "     *\n",
    "    ,response : Response\n",
    "    ,**kwargs\n",
    "\n",
    ")->BeautifulSoup:\n",
    "    \"\"\" Returns a Beautifulsoup object for the passed URL.\"\"\"\n",
    "    \n",
    "    return BeautifulSoup(response.content,features='html.parser',**kwargs)"
   ]
  },
  {
   "cell_type": "code",
   "execution_count": 5,
   "metadata": {},
   "outputs": [],
   "source": [
    "#exporti\n",
    "\n",
    "def generate_dict_from_table(\n",
    "\n",
    "    table : Tag\n",
    "\n",
    ")->defaultdict:\n",
    "    \"\"\"Helper function for returning the curling boxscore from a bs4 Tag object.\"\"\"\n",
    "    d = defaultdict(list)\n",
    "    team = None\n",
    "    \n",
    "    # TODO : add error handling for when no table is passed / None\n",
    "    \n",
    "    if table is None:\n",
    "        raise ValueError('Table tag is NoneType.')\n",
    "    \n",
    "    # loop through tags in table\n",
    "    for tag in table.find_all('td'):\n",
    "        if tag.attrs.get('class') == ['linescoreteam']:\n",
    "            team = tag.a.string\n",
    "            d[team] = defaultdict(list)\n",
    "            d[team]['href'] = tag.a['href']\n",
    "        elif tag.attrs.get('class') == ['linescorehammer']:\n",
    "            d[team]['hammer'] = not bool(tag.string) # opposite for some reason\n",
    "        elif tag.attrs.get('class') == ['linescoreend']:\n",
    "            d[team]['score'].append(tag.string.strip())\n",
    "        elif tag.attrs.get('class') == ['linescorefinal']:\n",
    "            d[team]['finalscore'] = tag.b.string.strip()\n",
    "        \n",
    "    return d"
   ]
  },
  {
   "cell_type": "code",
   "execution_count": 6,
   "metadata": {},
   "outputs": [],
   "source": [
    "#exporti\n",
    "\n",
    "def hash_obj(\n",
    "\n",
    "     obj : Any\n",
    "    ,hash_type : str = 'sha256'\n",
    "    ,encoding : str='utf-8'\n",
    ")->str:\n",
    "    \"\"\"Hashes an object according to the passed hash_type and encoding.\"\"\"\n",
    "    hash_type = hash_type.lower()\n",
    "    encoding = encoding.lower()\n",
    "    \n",
    "    if hash_type == 'sha256':\n",
    "        hash_func = sha256\n",
    "    else:\n",
    "        raise NotImplementedError(\"Hash function %s not supported.\"%hash_type)\n",
    "        \n",
    "    return hash_func(str(obj).encode(encoding)).hexdigest().lower()"
   ]
  },
  {
   "cell_type": "code",
   "execution_count": 7,
   "metadata": {},
   "outputs": [],
   "source": [
    "# export\n",
    "\n",
    "\n",
    "class Page(ABC):\n",
    "    \n",
    "    def __post_init__(self)->None:\n",
    "        response = make_request_from(url = self.url)\n",
    "        self.soup = make_soup_from(response=response)\n",
    "        self.boxscores = self.generate_boxscores()\n",
    "    \n",
    "    @abstractproperty\n",
    "    def url(self)->str:\n",
    "        ...\n",
    "        \n",
    "    @abstractproperty\n",
    "    def event_name(self)->str:\n",
    "        ...\n",
    "        \n",
    "    @abstractproperty\n",
    "    def event_date(self)->str:\n",
    "        ...\n",
    "        \n",
    "    @abstractproperty\n",
    "    def draw(self)->str:\n",
    "        ...\n",
    "        \n",
    "    @abstractproperty\n",
    "    def tables(self)->List[Tag]:\n",
    "        ...\n",
    "        \n",
    "    @abstractmethod\n",
    "    def generate_boxscores(self)->List[dict]:\n",
    "        ...\n",
    "        \n",
    "    \n",
    "@dataclass\n",
    "class LinescorePage(Page):\n",
    "    cz_event_id : int\n",
    "    cz_draw_id: int\n",
    "    \n",
    "    \n",
    "    @property\n",
    "    def url(self)->str:\n",
    "        return 'https://curlingzone.com/event.php?eventid=%s&view=Scores&showdrawid=%s#1'%(self.cz_event_id,self.cz_draw_id)\n",
    "    \n",
    "    @property\n",
    "    def event_name(self)->str:\n",
    "        return self.soup.find('h3',attrs={'class':'entry-title-widget'}).string\n",
    "    \n",
    "    @property\n",
    "    def event_date(self)->str:\n",
    "        return self.soup.find('div',attrs={'class':'badge-widget'}).string\n",
    "    \n",
    "    @property\n",
    "    def draw(self)->str:\n",
    "        return self.soup.find(name='option',attrs={'selected':'selected'}).string\n",
    "    \n",
    "    @property\n",
    "    def tables(self)->List[Tag]:\n",
    "        return self.soup.find_all(name = 'table',attrs={'class':'linescorebox'})\n",
    "    \n",
    "    def generate_boxscores(self)->List[defaultdict]:\n",
    "        return [generate_dict_from_table(table=table) for table in self.tables]\n",
    "    \n",
    "    def get_boxscore_from(self,cz_game_id : int)->defaultdict:\n",
    "        if cz_game_id <= 0:\n",
    "            raise ValueError('cz_game_id must be 1 or greater.')\n",
    "            \n",
    "        if cz_game_id > len(self.boxscores):\n",
    "            raise ValueError('') # TODO\n",
    "            \n",
    "        return self.boxscores[cz_game_id - 1]\n"
   ]
  },
  {
   "cell_type": "code",
   "execution_count": 8,
   "metadata": {},
   "outputs": [
    {
     "data": {
      "text/plain": [
       "defaultdict(list,\n",
       "            {'Connor Duhaime': defaultdict(list,\n",
       "                         {'href': 'event.php?view=Team&eventid=5000&teamid=114946&profileid=9629#1',\n",
       "                          'hammer': False,\n",
       "                          'score': ['0', '0', '0', '0', 'X', '', '', ''],\n",
       "                          'finalscore': '0'}),\n",
       "             'Daryl Shane': defaultdict(list,\n",
       "                         {'href': 'event.php?view=Team&eventid=5000&teamid=114941&profileid=9762#1',\n",
       "                          'hammer': True,\n",
       "                          'score': ['1', '1', '3', '1', 'X', '', '', ''],\n",
       "                          'finalscore': '6'})})"
      ]
     },
     "execution_count": 8,
     "metadata": {},
     "output_type": "execute_result"
    }
   ],
   "source": [
    "# hide\n",
    "\n",
    "linescore_page = LinescorePage(cz_event_id = 5000,cz_draw_id = 1)\n",
    "linescore_page.boxscores\n",
    "linescore_page.get_boxscore_from(cz_game_id = 5)"
   ]
  },
  {
   "cell_type": "code",
   "execution_count": 9,
   "metadata": {},
   "outputs": [],
   "source": [
    "# exporti\n",
    "\n",
    "@dataclass\n",
    "class HalfBoxscore:\n",
    "    href : str\n",
    "    hammer : bool\n",
    "    score : List[str]\n",
    "    finalscore : str\n",
    "        \n",
    "@dataclass\n",
    "class NormalizedHalfBoxscore:\n",
    "    href : str\n",
    "    hammer_progression : List[bool]\n",
    "    normalized_score : List[int]"
   ]
  },
  {
   "cell_type": "code",
   "execution_count": 10,
   "metadata": {},
   "outputs": [
    {
     "data": {
      "text/plain": [
       "HalfBoxscore(href='event.php?view=Team&eventid=5000&teamid=114940&profileid=9707#1', hammer=False, score=['0', '0', '0', '1', '0', '3', '0', '1', 'X'], finalscore='5')"
      ]
     },
     "execution_count": 10,
     "metadata": {},
     "output_type": "execute_result"
    }
   ],
   "source": [
    "# hide\n",
    "\n",
    "boxscore = linescore_page.get_boxscore_from(cz_game_id = 3)\n",
    "HalfBoxscore(**boxscore['John Willsey'])"
   ]
  },
  {
   "cell_type": "code",
   "execution_count": 11,
   "metadata": {},
   "outputs": [],
   "source": [
    "# exporti\n",
    "def normalize_score(score_1 : List[str],score_2 : List[str])->List[int]:\n",
    "    if len(score_1) != len(score_2):\n",
    "        raise ValueError('') # TODO\n",
    "        \n",
    "    end_1 = list()\n",
    "    current_diff = 0\n",
    "    \n",
    "    for i in range(len(score_1)):\n",
    "        try:\n",
    "            val_1 = int(score_1[i])\n",
    "            val_2 = int(score_2[i])\n",
    "            \n",
    "        except ValueError:\n",
    "            break\n",
    "            \n",
    "        if val_1 > 0 and val_2 > 0:\n",
    "            raise ValueError('') # TODO\n",
    "        \n",
    "        new_current_diff = current_diff + val_1 - val_2\n",
    "        end_1.append(new_current_diff)\n",
    "        current_diff = new_current_diff\n",
    "        \n",
    "    return end_1"
   ]
  },
  {
   "cell_type": "code",
   "execution_count": 12,
   "metadata": {},
   "outputs": [
    {
     "data": {
      "text/plain": [
       "[0, 1, -1, 0]"
      ]
     },
     "execution_count": 12,
     "metadata": {},
     "output_type": "execute_result"
    }
   ],
   "source": [
    "# hide\n",
    "score_1 = ['0','1','0','1']\n",
    "score_2 = ['0','0','2','0']\n",
    "new_score = normalize_score(score_1,score_2) \n",
    "new_score"
   ]
  },
  {
   "cell_type": "code",
   "execution_count": 13,
   "metadata": {},
   "outputs": [
    {
     "data": {
      "text/plain": [
       "[0, -1, 1, 0]"
      ]
     },
     "execution_count": 13,
     "metadata": {},
     "output_type": "execute_result"
    }
   ],
   "source": [
    "#hide\n",
    "\n",
    "list(map(lambda x: -1*x,new_score))"
   ]
  },
  {
   "cell_type": "code",
   "execution_count": 14,
   "metadata": {},
   "outputs": [],
   "source": [
    "# exporti\n",
    "def make_hammer_progression(hammer_start:bool,normalized_score:List[int])->List[bool]:\n",
    "    current_hammer = hammer_start\n",
    "    hammer_progression = [current_hammer]\n",
    "    for i in range(len(normalized_score)-1):\n",
    "        if current_hammer and normalized_score[i] > 0:\n",
    "            current_hammer = False\n",
    "        if not current_hammer and normalized_score[i] < 0:\n",
    "            current_hammer = True\n",
    "        hammer_progression.append(current_hammer)\n",
    "        \n",
    "    return hammer_progression"
   ]
  },
  {
   "cell_type": "code",
   "execution_count": 15,
   "metadata": {},
   "outputs": [
    {
     "data": {
      "text/plain": [
       "[True, True, False, True]"
      ]
     },
     "execution_count": 15,
     "metadata": {},
     "output_type": "execute_result"
    }
   ],
   "source": [
    "# hide\n",
    "hammer_progression = make_hammer_progression(hammer_start=True,normalized_score = new_score)\n",
    "hammer_progression"
   ]
  },
  {
   "cell_type": "code",
   "execution_count": 16,
   "metadata": {},
   "outputs": [
    {
     "data": {
      "text/plain": [
       "[False, False, True, False]"
      ]
     },
     "execution_count": 16,
     "metadata": {},
     "output_type": "execute_result"
    }
   ],
   "source": [
    "# hide\n",
    "list(map(lambda x: not x, hammer_progression))"
   ]
  },
  {
   "cell_type": "code",
   "execution_count": 17,
   "metadata": {},
   "outputs": [
    {
     "name": "stdout",
     "output_type": "stream",
     "text": [
      "[0, -1, -1, 0, 0, 3, 2, 3] [False, False, True, True, True, True, False, False]\n",
      "NormalizedHalfBoxscore(href='event.php?view=Team&eventid=5000&teamid=114940&profileid=9707#1', hammer_progression=[False, False, True, True, True, True, False, False], normalized_score=[0, -1, -1, 0, 0, 3, 2, 3]) NormalizedHalfBoxscore(href='event.php?view=Team&eventid=5000&teamid=114952&profileid=9703#1', hammer_progression=[True, True, False, False, False, False, True, True], normalized_score=[0, -1, 1, 0])\n"
     ]
    }
   ],
   "source": [
    "# hide\n",
    "\n",
    "# test\n",
    "\n",
    "boxscore = linescore_page.get_boxscore_from(cz_game_id = 3)\n",
    "\n",
    "half_boxscores = [HalfBoxscore(**half_boxscore) for half_boxscore in boxscore.values()]\n",
    "\n",
    "normalized_score = normalize_score(half_boxscores[0].score,half_boxscores[1].score)\n",
    "\n",
    "hammer_progression = make_hammer_progression(half_boxscores[0].hammer,normalized_score = normalized_score)\n",
    "\n",
    "print(normalized_score,hammer_progression)\n",
    "\n",
    "normalized_boxscore_1 = NormalizedHalfBoxscore(href = half_boxscores[0].href,hammer_progression = hammer_progression,normalized_score = normalized_score)\n",
    "normalized_boxscore_2 = NormalizedHalfBoxscore(href = half_boxscores[1].href,hammer_progression = list(map(lambda x: not x, hammer_progression)), normalized_score =  list(map(lambda x: -1*x,new_score)))\n",
    "\n",
    "\n",
    "print(normalized_boxscore_1,normalized_boxscore_2)"
   ]
  },
  {
   "cell_type": "code",
   "execution_count": null,
   "metadata": {},
   "outputs": [],
   "source": []
  }
 ],
 "metadata": {
  "kernelspec": {
   "display_name": "Python 3 (ipykernel)",
   "language": "python",
   "name": "python3"
  },
  "language_info": {
   "codemirror_mode": {
    "name": "ipython",
    "version": 3
   },
   "file_extension": ".py",
   "mimetype": "text/x-python",
   "name": "python",
   "nbconvert_exporter": "python",
   "pygments_lexer": "ipython3",
   "version": "3.7.9"
  }
 },
 "nbformat": 4,
 "nbformat_minor": 2
}
