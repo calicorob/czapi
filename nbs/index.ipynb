{
 "cells": [
  {
   "cell_type": "markdown",
   "metadata": {},
   "source": [
    "# Welcome to czapi\n",
    "\n",
    "> A basic API for scraping curling boxscores off of the popular [CurlingZone](https://www.curlingzone.com) website. "
   ]
  },
  {
   "cell_type": "markdown",
   "metadata": {},
   "source": [
    "## Install"
   ]
  },
  {
   "cell_type": "markdown",
   "metadata": {},
   "source": [
    "```\n",
    "pip install czapi\n",
    "```"
   ]
  },
  {
   "cell_type": "markdown",
   "metadata": {},
   "source": [
    "## How to use"
   ]
  },
  {
   "cell_type": "code",
   "execution_count": 1,
   "metadata": {},
   "outputs": [],
   "source": [
    "import czapi.api as api"
   ]
  },
  {
   "cell_type": "markdown",
   "metadata": {},
   "source": [
    "## General Information\n",
    "The czapi is based around the LinescorePage object which represents a linescore page, shown below:\n",
    "\n",
    "![Linescore Page](./imgs/game_by_event_draw_game_number.png)\n",
    "\n",
    "Creating an instance of the LinescorePage class gives access to every boxscore on that linescore page."
   ]
  },
  {
   "cell_type": "code",
   "execution_count": 2,
   "metadata": {},
   "outputs": [],
   "source": [
    "linescore_page = api.LinescorePage(cz_event_id = 6400, cz_draw_id = 2)"
   ]
  },
  {
   "cell_type": "markdown",
   "metadata": {},
   "source": [
    "The boxscores on the linescore page can be accessed through the `boxscores` property which returns a list of boxscores."
   ]
  },
  {
   "cell_type": "code",
   "execution_count": 3,
   "metadata": {},
   "outputs": [
    {
     "data": {
      "text/plain": [
       "[defaultdict(list,\n",
       "             {'Wayne Tuck Jr.': defaultdict(list,\n",
       "                          {'href': 'event.php?view=Team&eventid=6400&teamid=144353&profileid=12486#1',\n",
       "                           'hammer': True,\n",
       "                           'score': ['0',\n",
       "                            '2',\n",
       "                            '0',\n",
       "                            '0',\n",
       "                            '0',\n",
       "                            '0',\n",
       "                            '1',\n",
       "                            '1',\n",
       "                            '1',\n",
       "                            '0'],\n",
       "                           'finalscore': '5'}),\n",
       "              'Matthew Hall': defaultdict(list,\n",
       "                          {'href': 'event.php?view=Team&eventid=6400&teamid=144347&profileid=12435#1',\n",
       "                           'hammer': False,\n",
       "                           'score': ['0',\n",
       "                            '0',\n",
       "                            '4',\n",
       "                            '0',\n",
       "                            '0',\n",
       "                            '1',\n",
       "                            '0',\n",
       "                            '0',\n",
       "                            '0',\n",
       "                            '2'],\n",
       "                           'finalscore': '7'})}),\n",
       " defaultdict(list,\n",
       "             {'Dayna Deruelle': defaultdict(list,\n",
       "                          {'href': 'event.php?view=Team&eventid=6400&teamid=144346&profileid=26636#1',\n",
       "                           'hammer': False,\n",
       "                           'score': ['0',\n",
       "                            '0',\n",
       "                            '1',\n",
       "                            '0',\n",
       "                            '0',\n",
       "                            '0',\n",
       "                            '0',\n",
       "                            'X',\n",
       "                            '',\n",
       "                            ''],\n",
       "                           'finalscore': '1'}),\n",
       "              'Tyler Stewart': defaultdict(list,\n",
       "                          {'href': 'event.php?view=Team&eventid=6400&teamid=144352&profileid=12477#1',\n",
       "                           'hammer': True,\n",
       "                           'score': ['0',\n",
       "                            '2',\n",
       "                            '0',\n",
       "                            '2',\n",
       "                            '1',\n",
       "                            '1',\n",
       "                            '4',\n",
       "                            'X',\n",
       "                            '',\n",
       "                            ''],\n",
       "                           'finalscore': '10'})}),\n",
       " defaultdict(list,\n",
       "             {'Mark Kean': defaultdict(list,\n",
       "                          {'href': 'event.php?view=Team&eventid=6400&teamid=144348&profileid=25961#1',\n",
       "                           'hammer': True,\n",
       "                           'score': ['2',\n",
       "                            '0',\n",
       "                            '1',\n",
       "                            '0',\n",
       "                            '0',\n",
       "                            '0',\n",
       "                            '1',\n",
       "                            '3',\n",
       "                            'X',\n",
       "                            ''],\n",
       "                           'finalscore': '7'}),\n",
       "              'Jason March': defaultdict(list,\n",
       "                          {'href': 'event.php?view=Team&eventid=6400&teamid=144350#1',\n",
       "                           'hammer': False,\n",
       "                           'score': ['0',\n",
       "                            '0',\n",
       "                            '0',\n",
       "                            '0',\n",
       "                            '2',\n",
       "                            '1',\n",
       "                            '0',\n",
       "                            '0',\n",
       "                            'X',\n",
       "                            ''],\n",
       "                           'finalscore': '3'})}),\n",
       " defaultdict(list,\n",
       "             {'Richard Krell': defaultdict(list,\n",
       "                          {'href': 'event.php?view=Team&eventid=6400&teamid=144349&profileid=25962#1',\n",
       "                           'hammer': True,\n",
       "                           'score': ['2',\n",
       "                            '0',\n",
       "                            '1',\n",
       "                            '0',\n",
       "                            '2',\n",
       "                            '1',\n",
       "                            '1',\n",
       "                            'X',\n",
       "                            '',\n",
       "                            ''],\n",
       "                           'finalscore': '7'}),\n",
       "              'Rob Ainsley': defaultdict(list,\n",
       "                          {'href': 'event.php?view=Team&eventid=6400&teamid=144345&profileid=15779#1',\n",
       "                           'hammer': False,\n",
       "                           'score': ['0',\n",
       "                            '0',\n",
       "                            '0',\n",
       "                            '1',\n",
       "                            '0',\n",
       "                            '0',\n",
       "                            '0',\n",
       "                            'X',\n",
       "                            '',\n",
       "                            ''],\n",
       "                           'finalscore': '1'})})]"
      ]
     },
     "execution_count": 3,
     "metadata": {},
     "output_type": "execute_result"
    }
   ],
   "source": [
    "linescore_page.boxscores"
   ]
  },
  {
   "cell_type": "markdown",
   "metadata": {},
   "source": [
    "A boxscore is returned as a dictionary of team names, game information dictionary key, value pairs.\n",
    "\n",
    "Each game information dictionary contains:\n",
    "\n",
    "* 'href' key with a corresponding string value of CurlingZone IDs identifying the team.\n",
    "* 'hammer' key with corresponding boolean value of whether or not that team started the game with hammer.\n",
    "* 'score' key with corresponding list of string value of end-by-end results for that team.\n",
    "* 'finalscore' key with corresponding final score for the team.\n",
    "\n",
    "Individual boxscores can be accessed through the `get_boxscore_from` method."
   ]
  },
  {
   "cell_type": "code",
   "execution_count": 4,
   "metadata": {},
   "outputs": [
    {
     "data": {
      "text/plain": [
       "defaultdict(list,\n",
       "            {'Wayne Tuck Jr.': defaultdict(list,\n",
       "                         {'href': 'event.php?view=Team&eventid=6400&teamid=144353&profileid=12486#1',\n",
       "                          'hammer': True,\n",
       "                          'score': ['0',\n",
       "                           '2',\n",
       "                           '0',\n",
       "                           '0',\n",
       "                           '0',\n",
       "                           '0',\n",
       "                           '1',\n",
       "                           '1',\n",
       "                           '1',\n",
       "                           '0'],\n",
       "                          'finalscore': '5'}),\n",
       "             'Matthew Hall': defaultdict(list,\n",
       "                         {'href': 'event.php?view=Team&eventid=6400&teamid=144347&profileid=12435#1',\n",
       "                          'hammer': False,\n",
       "                          'score': ['0',\n",
       "                           '0',\n",
       "                           '4',\n",
       "                           '0',\n",
       "                           '0',\n",
       "                           '1',\n",
       "                           '0',\n",
       "                           '0',\n",
       "                           '0',\n",
       "                           '2'],\n",
       "                          'finalscore': '7'})})"
      ]
     },
     "execution_count": 4,
     "metadata": {},
     "output_type": "execute_result"
    }
   ],
   "source": [
    "linescore_page.get_boxscore_from(cz_game_id = 1)"
   ]
  },
  {
   "cell_type": "markdown",
   "metadata": {},
   "source": [
    "`cz_game_id` argument corresponds to the number the boxscore appears in on the linescore page."
   ]
  },
  {
   "cell_type": "markdown",
   "metadata": {},
   "source": [
    "The LinescorePage object contains these properties which details information on the boxscores:\n",
    "\n",
    "* event_name\n",
    "* event_date\n",
    "* draw"
   ]
  },
  {
   "cell_type": "code",
   "execution_count": 5,
   "metadata": {},
   "outputs": [
    {
     "name": "stdout",
     "output_type": "stream",
     "text": [
      "Ontario Tankard - Open Qualifier , Jan 17 - 19, 2020 , Draw: 2\n"
     ]
    }
   ],
   "source": [
    "print(linescore_page.event_name,',',linescore_page.event_date,',' ,linescore_page.draw)"
   ]
  },
  {
   "cell_type": "markdown",
   "metadata": {},
   "source": [
    "## About czapi\n",
    "czapi is a Python library for scraping curling linescores."
   ]
  }
 ],
 "metadata": {
  "kernelspec": {
   "display_name": "Python 3 (ipykernel)",
   "language": "python",
   "name": "python3"
  },
  "language_info": {
   "codemirror_mode": {
    "name": "ipython",
    "version": 3
   },
   "file_extension": ".py",
   "mimetype": "text/x-python",
   "name": "python",
   "nbconvert_exporter": "python",
   "pygments_lexer": "ipython3",
   "version": "3.7.9"
  }
 },
 "nbformat": 4,
 "nbformat_minor": 2
}
