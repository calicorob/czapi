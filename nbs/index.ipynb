{
 "cells": [
  {
   "cell_type": "markdown",
   "metadata": {},
   "source": [
    "# Welcome to czapi\n",
    "\n",
    "> A basic API for scraping curling boxscores off of the popular [CurlingZone](https://www.curlingzone.com) website. "
   ]
  },
  {
   "cell_type": "markdown",
   "metadata": {},
   "source": [
    "## Install"
   ]
  },
  {
   "cell_type": "markdown",
   "metadata": {},
   "source": [
    "```\n",
    "pip install czapi\n",
    "```"
   ]
  },
  {
   "cell_type": "markdown",
   "metadata": {},
   "source": [
    "## How to use"
   ]
  },
  {
   "cell_type": "code",
   "execution_count": 1,
   "metadata": {},
   "outputs": [],
   "source": [
    "import czapi.api as api"
   ]
  },
  {
   "cell_type": "markdown",
   "metadata": {},
   "source": [
    "## LinescorePage\n",
    "czapi is based around the `LinescorePage` object which represents a linescore page on the CurlingZone website. \n",
    "\n",
    "Click [here](https://curlingzone.com/event.php?view=Scores&eventid=7795#1) to see an example linescore page.\n",
    "\n",
    "Creating an instance of the `LinescorePage` class gives access to every boxscore on that linescore page."
   ]
  },
  {
   "cell_type": "code",
   "execution_count": 2,
   "metadata": {},
   "outputs": [],
   "source": [
    "linescore_page = api.LinescorePage(cz_event_id = 6400, cz_draw_id = 2)"
   ]
  },
  {
   "cell_type": "markdown",
   "metadata": {},
   "source": [
    "The `cz_event_id` and `cz_draw_id` arguments are found in the CurlingZone URL. \n",
    "\n",
    "Here's an example:\n",
    "\n",
    "\n",
    "> ht<span>t</span>ps://curlingzone.com/event.php?**eventid=7795**&view=Scores&show**drawid=21**#1"
   ]
  },
  {
   "cell_type": "markdown",
   "metadata": {},
   "source": [
    "The boxscores on the linescore page can be accessed through the `boxscores` property which returns a list of boxscores."
   ]
  },
  {
   "cell_type": "code",
   "execution_count": 3,
   "metadata": {},
   "outputs": [
    {
     "data": {
      "text/plain": [
       "[{'Wayne Tuck Jr.': {'href': 'event.php?view=Team&eventid=6400&teamid=144353&profileid=12486#1',\n",
       "   'score': ['0', '2', '0', '0', '0', '0', '1', '1', '1', '0'],\n",
       "   'hammer': True,\n",
       "   'finalscore': '5'},\n",
       "  'Matthew Hall': {'href': 'event.php?view=Team&eventid=6400&teamid=144347&profileid=12435#1',\n",
       "   'score': ['0', '0', '4', '0', '0', '1', '0', '0', '0', '2'],\n",
       "   'hammer': False,\n",
       "   'finalscore': '7'}},\n",
       " {'Dayna Deruelle': {'href': 'event.php?view=Team&eventid=6400&teamid=144347&profileid=12435&eventid=6400&teamid=144346&profileid=26636#1',\n",
       "   'score': ['0', '0', '1', '0', '0', '0', '0', 'X'],\n",
       "   'hammer': False,\n",
       "   'finalscore': '1'},\n",
       "  'Tyler Stewart': {'href': 'event.php?view=Team&eventid=6400&teamid=144347&profileid=12435&eventid=6400&teamid=144352&profileid=12477#1',\n",
       "   'score': ['0', '2', '0', '2', '1', '1', '4', 'X'],\n",
       "   'hammer': True,\n",
       "   'finalscore': '10'}},\n",
       " {'Mark Kean': {'href': 'event.php?view=Team&eventid=6400&teamid=144352&profileid=12477&eventid=6400&teamid=144348&profileid=25961#1',\n",
       "   'score': ['2', '0', '1', '0', '0', '0', '1', '3', 'X'],\n",
       "   'hammer': True,\n",
       "   'finalscore': '7'},\n",
       "  'Jason March': {'href': 'event.php?view=Team&eventid=6400&teamid=144352&profileid=12477&eventid=6400&teamid=144350#1',\n",
       "   'score': ['0', '0', '0', '0', '2', '1', '0', '0', 'X'],\n",
       "   'hammer': False,\n",
       "   'finalscore': '3'}},\n",
       " {'Richard Krell': {'href': 'event.php?view=Team&eventid=6400&teamid=144350&profileid=0&eventid=6400&teamid=144349&profileid=25962#1',\n",
       "   'score': ['2', '0', '1', '0', '2', '1', '1', 'X'],\n",
       "   'hammer': True,\n",
       "   'finalscore': '7'},\n",
       "  'Rob Ainsley': {'href': 'event.php?view=Team&eventid=6400&teamid=144350&profileid=0&eventid=6400&teamid=144345&profileid=15779#1',\n",
       "   'score': ['0', '0', '0', '1', '0', '0', '0', 'X'],\n",
       "   'hammer': False,\n",
       "   'finalscore': '1'}}]"
      ]
     },
     "execution_count": 3,
     "metadata": {},
     "output_type": "execute_result"
    }
   ],
   "source": [
    "linescore_page.boxscores"
   ]
  },
  {
   "cell_type": "markdown",
   "metadata": {},
   "source": [
    "A boxscore is returned as a dictionary of team names, game information dictionary key, value pairs.\n",
    "\n",
    "Each game information dictionary contains:\n",
    "\n",
    "* 'href' key with a corresponding string value of CurlingZone IDs identifying the team.\n",
    "* 'hammer' key with corresponding boolean value of whether or not that team started the game with hammer.\n",
    "* 'score' key with corresponding list of string value of end-by-end results for that team.\n",
    "* 'finalscore' key with corresponding final score for the team.\n",
    "\n",
    "Individual boxscores can be accessed through the `get_boxscore_from` method."
   ]
  },
  {
   "cell_type": "code",
   "execution_count": 4,
   "metadata": {},
   "outputs": [
    {
     "data": {
      "text/plain": [
       "{'Wayne Tuck Jr.': {'href': 'event.php?view=Team&eventid=6400&teamid=144353&profileid=12486#1',\n",
       "  'score': ['0', '2', '0', '0', '0', '0', '1', '1', '1', '0'],\n",
       "  'hammer': True,\n",
       "  'finalscore': '5'},\n",
       " 'Matthew Hall': {'href': 'event.php?view=Team&eventid=6400&teamid=144347&profileid=12435#1',\n",
       "  'score': ['0', '0', '4', '0', '0', '1', '0', '0', '0', '2'],\n",
       "  'hammer': False,\n",
       "  'finalscore': '7'}}"
      ]
     },
     "execution_count": 4,
     "metadata": {},
     "output_type": "execute_result"
    }
   ],
   "source": [
    "boxscore = linescore_page.get_boxscore_from(cz_game_id = 1)\n",
    "boxscore"
   ]
  },
  {
   "cell_type": "markdown",
   "metadata": {},
   "source": [
    "`cz_game_id` argument corresponds to the number the boxscore appears in on the linescore page."
   ]
  },
  {
   "cell_type": "markdown",
   "metadata": {},
   "source": [
    "The LinescorePage object contains these properties which details information on the boxscores:\n",
    "\n",
    "* event_name\n",
    "* event_date\n",
    "* draw"
   ]
  },
  {
   "cell_type": "code",
   "execution_count": 5,
   "metadata": {},
   "outputs": [
    {
     "name": "stdout",
     "output_type": "stream",
     "text": [
      "Ontario Tankard - Open Qualifier , Jan 17 - 19, 2020 , Draw: 2\n"
     ]
    }
   ],
   "source": [
    "print(linescore_page.event_name,',',linescore_page.event_date,',' ,linescore_page.draw)"
   ]
  },
  {
   "cell_type": "markdown",
   "metadata": {},
   "source": [
    "For convenience, upon instantiation of a `LinescorePage` object, a `NormalizedBoxscore` instance for each boxscore is created. A `NormalizedBoxscore` holds the same information as a boxscore dictionary with two new pieces of information added: \n",
    "1. The hammer progression for both teams throughout the game, i.e. who had hammer in what end.\n",
    "2. Each team's relative score, i.e. who was up/down X after end Y."
   ]
  },
  {
   "cell_type": "code",
   "execution_count": 6,
   "metadata": {},
   "outputs": [
    {
     "data": {
      "text/plain": [
       "NormalizedBoxscore(boxscore={'Wayne Tuck Jr.': {'href': 'event.php?view=Team&eventid=6400&teamid=144353&profileid=12486#1', 'score': ['0', '2', '0', '0', '0', '0', '1', '1', '1', '0'], 'hammer': True, 'finalscore': '5'}, 'Matthew Hall': {'href': 'event.php?view=Team&eventid=6400&teamid=144347&profileid=12435#1', 'score': ['0', '0', '4', '0', '0', '1', '0', '0', '0', '2'], 'hammer': False, 'finalscore': '7'}})"
      ]
     },
     "execution_count": 6,
     "metadata": {},
     "output_type": "execute_result"
    }
   ],
   "source": [
    "normalized_boxscore = linescore_page.get_normalized_boxscore_from(cz_game_id = 1)\n",
    "normalized_boxscore"
   ]
  },
  {
   "cell_type": "markdown",
   "metadata": {},
   "source": [
    "A `NormalizedBoxscore` object holds two `NormalizedHalfBoxscore` instances. "
   ]
  },
  {
   "cell_type": "code",
   "execution_count": 7,
   "metadata": {},
   "outputs": [
    {
     "data": {
      "text/plain": [
       "NormalizedHalfBoxscore(team_name='Wayne Tuck Jr.', href='event.php?view=Team&eventid=6400&teamid=144353&profileid=12486#1', hammer=True, score=['0', '2', '0', '0', '0', '0', '1', '1', '1', '0'], finalscore='5', hammer_progression=[True, True, False, True, True, True, True, False, False, False], normalized_score=[0, 2, -2, -2, -2, -3, -2, -1, 0, -2])"
      ]
     },
     "execution_count": 7,
     "metadata": {},
     "output_type": "execute_result"
    }
   ],
   "source": [
    "normalized_boxscore.normalized_half_boxscore_pair[0]"
   ]
  },
  {
   "cell_type": "markdown",
   "metadata": {},
   "source": [
    "For Wayne Tuck Jr. the `hammer_progression` attribute can be interpreted as follows: \n",
    "\n",
    "* After end 1: Wayne had hammer\n",
    "* After end 2: Wayne didn't have hammer\n",
    "* After end 3: Wayne had hammer\n",
    "* And so on and so forth.."
   ]
  },
  {
   "cell_type": "code",
   "execution_count": 8,
   "metadata": {},
   "outputs": [
    {
     "data": {
      "text/plain": [
       "NormalizedHalfBoxscore(team_name='Matthew Hall', href='event.php?view=Team&eventid=6400&teamid=144347&profileid=12435#1', hammer=False, score=['0', '0', '4', '0', '0', '1', '0', '0', '0', '2'], finalscore='7', hammer_progression=[False, False, True, False, False, False, False, True, True, True], normalized_score=[0, -2, 2, 2, 2, 3, 2, 1, 0, 2])"
      ]
     },
     "execution_count": 8,
     "metadata": {},
     "output_type": "execute_result"
    }
   ],
   "source": [
    "normalized_boxscore.normalized_half_boxscore_pair[-1]"
   ]
  },
  {
   "cell_type": "markdown",
   "metadata": {},
   "source": [
    "For Matthew Hall, the `normalized_score` attribute can be interpreted as follows:\n",
    "\n",
    "* After end 1: Matthew was tied.\n",
    "* After end 2: Matthew was down 2.\n",
    "* After end 3: Matthew was up 2.\n",
    "* And so on and so forth.."
   ]
  },
  {
   "cell_type": "markdown",
   "metadata": {},
   "source": [
    "You'll also notice the `NormalizedBoxscore` object has a guid property which identifies that two `NormalizedHalfBoxscore` belong to the same game."
   ]
  },
  {
   "cell_type": "code",
   "execution_count": 9,
   "metadata": {},
   "outputs": [
    {
     "data": {
      "text/plain": [
       "225506166534996288077149236946705268121"
      ]
     },
     "execution_count": 9,
     "metadata": {},
     "output_type": "execute_result"
    }
   ],
   "source": [
    "normalized_boxscore.guid"
   ]
  },
  {
   "cell_type": "markdown",
   "metadata": {},
   "source": [
    "czapi's `get_flat_boxscores_from` function takes a `cz_event_id` and `cz_draw_id` as an arguments and returns a (flat) nested list object of all the boxscore information on the linescore page. This nested list object can be ingested into a pandas DataFrame or pushed to a SQL database."
   ]
  },
  {
   "cell_type": "code",
   "execution_count": 10,
   "metadata": {},
   "outputs": [
    {
     "data": {
      "text/plain": [
       "[('Wayne Tuck Jr.',\n",
       "  'event.php?view=Team&eventid=6400&teamid=144353&profileid=12486#1',\n",
       "  True,\n",
       "  ['0', '2', '0', '0', '0', '0', '1', '1', '1', '0'],\n",
       "  '5',\n",
       "  [True, True, False, True, True, True, True, False, False, False],\n",
       "  [0, 2, -2, -2, -2, -3, -2, -1, 0, -2],\n",
       "  14936125234502229888453083682962101568),\n",
       " ('Matthew Hall',\n",
       "  'event.php?view=Team&eventid=6400&teamid=144347&profileid=12435#1',\n",
       "  False,\n",
       "  ['0', '0', '4', '0', '0', '1', '0', '0', '0', '2'],\n",
       "  '7',\n",
       "  [False, False, True, False, False, False, False, True, True, True],\n",
       "  [0, -2, 2, 2, 2, 3, 2, 1, 0, 2],\n",
       "  14936125234502229888453083682962101568),\n",
       " ('Dayna Deruelle',\n",
       "  'event.php?view=Team&eventid=6400&teamid=144347&profileid=12435&eventid=6400&teamid=144346&profileid=26636#1',\n",
       "  False,\n",
       "  ['0', '0', '1', '0', '0', '0', '0', 'X'],\n",
       "  '1',\n",
       "  [False, False, True, False, True, True, True],\n",
       "  [0, -2, -1, -3, -4, -5, -9],\n",
       "  314831535501013077495016133774854478114),\n",
       " ('Tyler Stewart',\n",
       "  'event.php?view=Team&eventid=6400&teamid=144347&profileid=12435&eventid=6400&teamid=144352&profileid=12477#1',\n",
       "  True,\n",
       "  ['0', '2', '0', '2', '1', '1', '4', 'X'],\n",
       "  '10',\n",
       "  [True, True, False, True, False, False, False],\n",
       "  [0, 2, 1, 3, 4, 5, 9],\n",
       "  314831535501013077495016133774854478114),\n",
       " ('Mark Kean',\n",
       "  'event.php?view=Team&eventid=6400&teamid=144352&profileid=12477&eventid=6400&teamid=144348&profileid=25961#1',\n",
       "  True,\n",
       "  ['2', '0', '1', '0', '0', '0', '1', '3', 'X'],\n",
       "  '7',\n",
       "  [True, False, False, False, False, True, True, False],\n",
       "  [2, 2, 3, 3, 1, 0, 1, 4],\n",
       "  291985759914212124809719907567598156450),\n",
       " ('Jason March',\n",
       "  'event.php?view=Team&eventid=6400&teamid=144352&profileid=12477&eventid=6400&teamid=144350#1',\n",
       "  False,\n",
       "  ['0', '0', '0', '0', '2', '1', '0', '0', 'X'],\n",
       "  '3',\n",
       "  [False, True, True, True, True, False, False, True],\n",
       "  [-2, -2, -3, -3, -1, 0, -1, -4],\n",
       "  291985759914212124809719907567598156450),\n",
       " ('Richard Krell',\n",
       "  'event.php?view=Team&eventid=6400&teamid=144350&profileid=0&eventid=6400&teamid=144349&profileid=25962#1',\n",
       "  True,\n",
       "  ['2', '0', '1', '0', '2', '1', '1', 'X'],\n",
       "  '7',\n",
       "  [True, False, False, False, True, False, False],\n",
       "  [2, 2, 3, 2, 4, 5, 6],\n",
       "  283811681934319259369935472319838022655),\n",
       " ('Rob Ainsley',\n",
       "  'event.php?view=Team&eventid=6400&teamid=144350&profileid=0&eventid=6400&teamid=144345&profileid=15779#1',\n",
       "  False,\n",
       "  ['0', '0', '0', '1', '0', '0', '0', 'X'],\n",
       "  '1',\n",
       "  [False, True, True, True, False, True, True],\n",
       "  [-2, -2, -3, -2, -4, -5, -6],\n",
       "  283811681934319259369935472319838022655)]"
      ]
     },
     "execution_count": 10,
     "metadata": {},
     "output_type": "execute_result"
    }
   ],
   "source": [
    "api.get_flat_boxscores_from(cz_event_id = 6400, cz_draw_id = 2)"
   ]
  },
  {
   "cell_type": "markdown",
   "metadata": {},
   "source": [
    "## Event"
   ]
  },
  {
   "cell_type": "markdown",
   "metadata": {},
   "source": [
    "The `Event` object is a data structure which holds all of the `LinescorePage` objects which make up an entire event. \n",
    "\n",
    "An `Event` instance is created by passing a `cz_event_id`."
   ]
  },
  {
   "cell_type": "code",
   "execution_count": 11,
   "metadata": {},
   "outputs": [
    {
     "data": {
      "text/plain": [
       "Event(cz_event_id=6400)"
      ]
     },
     "execution_count": 11,
     "metadata": {},
     "output_type": "execute_result"
    }
   ],
   "source": [
    "event = api.Event(cz_event_id = 6400)\n",
    "event"
   ]
  },
  {
   "cell_type": "markdown",
   "metadata": {},
   "source": [
    "The created `Event` objects holds all the `LinescorePage` objects in it's `pages` property."
   ]
  },
  {
   "cell_type": "code",
   "execution_count": 12,
   "metadata": {},
   "outputs": [
    {
     "data": {
      "text/plain": [
       "[LinescorePage(cz_event_id=6400, cz_draw_id=1),\n",
       " LinescorePage(cz_event_id=6400, cz_draw_id=2),\n",
       " LinescorePage(cz_event_id=6400, cz_draw_id=3),\n",
       " LinescorePage(cz_event_id=6400, cz_draw_id=4),\n",
       " LinescorePage(cz_event_id=6400, cz_draw_id=5),\n",
       " LinescorePage(cz_event_id=6400, cz_draw_id=6),\n",
       " LinescorePage(cz_event_id=6400, cz_draw_id=7)]"
      ]
     },
     "execution_count": 12,
     "metadata": {},
     "output_type": "execute_result"
    }
   ],
   "source": [
    "event.pages"
   ]
  },
  {
   "cell_type": "markdown",
   "metadata": {},
   "source": [
    "Details about specific draws can be accessed by grabbing the correct LinescorePage."
   ]
  },
  {
   "cell_type": "code",
   "execution_count": 13,
   "metadata": {},
   "outputs": [
    {
     "data": {
      "text/plain": [
       "LinescorePage(cz_event_id=6400, cz_draw_id=3)"
      ]
     },
     "execution_count": 13,
     "metadata": {},
     "output_type": "execute_result"
    }
   ],
   "source": [
    "event.pages[2]"
   ]
  },
  {
   "cell_type": "code",
   "execution_count": 14,
   "metadata": {},
   "outputs": [
    {
     "data": {
      "text/plain": [
       "[{'Matthew Hall': {'href': 'event.php?view=Team&eventid=6400&teamid=144347&profileid=12435#1',\n",
       "   'score': ['0', '0', '2', '1', '2', '1', '0', '2', 'X'],\n",
       "   'hammer': True,\n",
       "   'finalscore': '8'},\n",
       "  'Tyler Stewart': {'href': 'event.php?view=Team&eventid=6400&teamid=144352&profileid=12477#1',\n",
       "   'score': ['0', '1', '0', '0', '0', '0', '2', '0', 'X'],\n",
       "   'hammer': False,\n",
       "   'finalscore': '3'}},\n",
       " {'Mark Kean': {'href': 'event.php?view=Team&eventid=6400&teamid=144352&profileid=12477&eventid=6400&teamid=144348&profileid=25961#1',\n",
       "   'score': ['0', '5', '0', '1', '1', '1', 'X'],\n",
       "   'hammer': True,\n",
       "   'finalscore': '8'},\n",
       "  'Richard Krell': {'href': 'event.php?view=Team&eventid=6400&teamid=144352&profileid=12477&eventid=6400&teamid=144349&profileid=25962#1',\n",
       "   'score': ['1', '0', '1', '0', '0', '0', 'X'],\n",
       "   'hammer': False,\n",
       "   'finalscore': '2'}},\n",
       " {'Damien Villard': {'href': 'event.php?view=Team&eventid=6400&teamid=144349&profileid=25962&eventid=6400&teamid=144354&profileid=27373#1',\n",
       "   'score': ['2', '1', '0', '1', '0', '0', '1', '0', '0', '0'],\n",
       "   'hammer': True,\n",
       "   'finalscore': '5'},\n",
       "  'Sam Steep': {'href': 'event.php?view=Team&eventid=6400&teamid=144349&profileid=25962&eventid=6400&teamid=144351&profileid=25978#1',\n",
       "   'score': ['0', '0', '1', '0', '2', '0', '0', '1', '1', '1'],\n",
       "   'hammer': False,\n",
       "   'finalscore': '6'}},\n",
       " {'Jason March': {'href': 'event.php?view=Team&eventid=6400&teamid=144351&profileid=25978&eventid=6400&teamid=144350#1',\n",
       "   'score': ['1', '1', '0', '0', '0', '0', '2', '1', '2', 'X'],\n",
       "   'hammer': True,\n",
       "   'finalscore': '7'},\n",
       "  'Matthew Mepstead': {'href': 'event.php?view=Team&eventid=6400&teamid=144351&profileid=25978&eventid=6400&teamid=144356#1',\n",
       "   'score': ['0', '0', '1', '1', '0', '0', '0', '0', '0', 'X'],\n",
       "   'hammer': False,\n",
       "   'finalscore': '2'}},\n",
       " {'Wayne Tuck Jr.': {'href': 'event.php?view=Team&eventid=6400&teamid=144356&profileid=0&eventid=6400&teamid=144353&profileid=12486#1',\n",
       "   'score': ['0', '0', '0', '2', '0', '0', '0', '0', 'X'],\n",
       "   'hammer': False,\n",
       "   'finalscore': '2'},\n",
       "  'Rob Ainsley': {'href': 'event.php?view=Team&eventid=6400&teamid=144356&profileid=0&eventid=6400&teamid=144345&profileid=15779#1',\n",
       "   'score': ['2', '1', '0', '0', '1', '2', '1', '1', 'X'],\n",
       "   'hammer': True,\n",
       "   'finalscore': '8'}}]"
      ]
     },
     "execution_count": 14,
     "metadata": {},
     "output_type": "execute_result"
    }
   ],
   "source": [
    "event.pages[2].boxscores"
   ]
  },
  {
   "cell_type": "markdown",
   "metadata": {},
   "source": [
    "The `get_flat_boxscores` method can be used to return a list of (flat) nested list object of all the boxscore information on all the linescore pages."
   ]
  },
  {
   "cell_type": "code",
   "execution_count": 15,
   "metadata": {},
   "outputs": [
    {
     "data": {
      "text/plain": [
       "[[('Damien Villard',\n",
       "   'event.php?view=Team&eventid=6400&teamid=144354&profileid=27373#1',\n",
       "   True,\n",
       "   ['0', '0', '0', '0', 'X'],\n",
       "   '0',\n",
       "   [True, True, True, True],\n",
       "   [-1, -4, -6, -8],\n",
       "   37776744941265228993425249496970051320),\n",
       "  ('Matthew Hall',\n",
       "   'event.php?view=Team&eventid=6400&teamid=144347&profileid=12435#1',\n",
       "   False,\n",
       "   ['1', '3', '2', '2', 'X'],\n",
       "   '8',\n",
       "   [False, False, False, False],\n",
       "   [1, 4, 6, 8],\n",
       "   37776744941265228993425249496970051320),\n",
       "  ('Matthew Mepstead',\n",
       "   'event.php?view=Team&eventid=6400&teamid=144347&profileid=12435&eventid=6400&teamid=144356#1',\n",
       "   False,\n",
       "   ['0', '0', '1', '1', '0', '1', '0', '0', '0', '1', '0'],\n",
       "   '4',\n",
       "   [False, False, True, False, False, True, False, False, False, True, False],\n",
       "   [0, -2, -1, 0, -1, 0, 0, 0, -1, 0, -1],\n",
       "   286529429695487779435223046621329858130),\n",
       "  ('Tyler Stewart',\n",
       "   'event.php?view=Team&eventid=6400&teamid=144347&profileid=12435&eventid=6400&teamid=144352&profileid=12477#1',\n",
       "   True,\n",
       "   ['0', '2', '0', '0', '1', '0', '0', '0', '1', '0', '1'],\n",
       "   '5',\n",
       "   [True, True, False, True, True, False, True, True, True, False, True],\n",
       "   [0, 2, 1, 0, 1, 0, 0, 0, 1, 0, 1],\n",
       "   286529429695487779435223046621329858130),\n",
       "  ('Jason March',\n",
       "   'event.php?view=Team&eventid=6400&teamid=144352&profileid=12477&eventid=6400&teamid=144350#1',\n",
       "   False,\n",
       "   ['0', '2', '0', '1', '0', '2', '2', '0', '2', 'X'],\n",
       "   '9',\n",
       "   [False, False, False, False, False, True, False, False, True],\n",
       "   [0, 2, 2, 3, 2, 4, 6, 3, 5],\n",
       "   57484576680602495735252151395332182997),\n",
       "  ('Sam Steep',\n",
       "   'event.php?view=Team&eventid=6400&teamid=144352&profileid=12477&eventid=6400&teamid=144351&profileid=25978#1',\n",
       "   True,\n",
       "   ['0', '0', '0', '0', '1', '0', '0', '3', '0', 'X'],\n",
       "   '4',\n",
       "   [True, True, True, True, True, False, True, True, False],\n",
       "   [0, -2, -2, -3, -2, -4, -6, -3, -5],\n",
       "   57484576680602495735252151395332182997)],\n",
       " [('Wayne Tuck Jr.',\n",
       "   'event.php?view=Team&eventid=6400&teamid=144353&profileid=12486#1',\n",
       "   True,\n",
       "   ['0', '2', '0', '0', '0', '0', '1', '1', '1', '0'],\n",
       "   '5',\n",
       "   [True, True, False, True, True, True, True, False, False, False],\n",
       "   [0, 2, -2, -2, -2, -3, -2, -1, 0, -2],\n",
       "   223813289475907483335353950739301063542),\n",
       "  ('Matthew Hall',\n",
       "   'event.php?view=Team&eventid=6400&teamid=144347&profileid=12435#1',\n",
       "   False,\n",
       "   ['0', '0', '4', '0', '0', '1', '0', '0', '0', '2'],\n",
       "   '7',\n",
       "   [False, False, True, False, False, False, False, True, True, True],\n",
       "   [0, -2, 2, 2, 2, 3, 2, 1, 0, 2],\n",
       "   223813289475907483335353950739301063542),\n",
       "  ('Dayna Deruelle',\n",
       "   'event.php?view=Team&eventid=6400&teamid=144347&profileid=12435&eventid=6400&teamid=144346&profileid=26636#1',\n",
       "   False,\n",
       "   ['0', '0', '1', '0', '0', '0', '0', 'X'],\n",
       "   '1',\n",
       "   [False, False, True, False, True, True, True],\n",
       "   [0, -2, -1, -3, -4, -5, -9],\n",
       "   253009827521574988473304402730122525000),\n",
       "  ('Tyler Stewart',\n",
       "   'event.php?view=Team&eventid=6400&teamid=144347&profileid=12435&eventid=6400&teamid=144352&profileid=12477#1',\n",
       "   True,\n",
       "   ['0', '2', '0', '2', '1', '1', '4', 'X'],\n",
       "   '10',\n",
       "   [True, True, False, True, False, False, False],\n",
       "   [0, 2, 1, 3, 4, 5, 9],\n",
       "   253009827521574988473304402730122525000),\n",
       "  ('Mark Kean',\n",
       "   'event.php?view=Team&eventid=6400&teamid=144352&profileid=12477&eventid=6400&teamid=144348&profileid=25961#1',\n",
       "   True,\n",
       "   ['2', '0', '1', '0', '0', '0', '1', '3', 'X'],\n",
       "   '7',\n",
       "   [True, False, False, False, False, True, True, False],\n",
       "   [2, 2, 3, 3, 1, 0, 1, 4],\n",
       "   174248327692710867562360510962543195302),\n",
       "  ('Jason March',\n",
       "   'event.php?view=Team&eventid=6400&teamid=144352&profileid=12477&eventid=6400&teamid=144350#1',\n",
       "   False,\n",
       "   ['0', '0', '0', '0', '2', '1', '0', '0', 'X'],\n",
       "   '3',\n",
       "   [False, True, True, True, True, False, False, True],\n",
       "   [-2, -2, -3, -3, -1, 0, -1, -4],\n",
       "   174248327692710867562360510962543195302),\n",
       "  ('Richard Krell',\n",
       "   'event.php?view=Team&eventid=6400&teamid=144350&profileid=0&eventid=6400&teamid=144349&profileid=25962#1',\n",
       "   True,\n",
       "   ['2', '0', '1', '0', '2', '1', '1', 'X'],\n",
       "   '7',\n",
       "   [True, False, False, False, True, False, False],\n",
       "   [2, 2, 3, 2, 4, 5, 6],\n",
       "   179266901714880551374390322522320955261),\n",
       "  ('Rob Ainsley',\n",
       "   'event.php?view=Team&eventid=6400&teamid=144350&profileid=0&eventid=6400&teamid=144345&profileid=15779#1',\n",
       "   False,\n",
       "   ['0', '0', '0', '1', '0', '0', '0', 'X'],\n",
       "   '1',\n",
       "   [False, True, True, True, False, True, True],\n",
       "   [-2, -2, -3, -2, -4, -5, -6],\n",
       "   179266901714880551374390322522320955261)],\n",
       " [('Matthew Hall',\n",
       "   'event.php?view=Team&eventid=6400&teamid=144347&profileid=12435#1',\n",
       "   True,\n",
       "   ['0', '0', '2', '1', '2', '1', '0', '2', 'X'],\n",
       "   '8',\n",
       "   [True, True, True, False, False, False, False, True],\n",
       "   [0, -1, 1, 2, 4, 5, 3, 5],\n",
       "   266836198055908344943677232661132109171),\n",
       "  ('Tyler Stewart',\n",
       "   'event.php?view=Team&eventid=6400&teamid=144352&profileid=12477#1',\n",
       "   False,\n",
       "   ['0', '1', '0', '0', '0', '0', '2', '0', 'X'],\n",
       "   '3',\n",
       "   [False, False, False, True, True, True, True, False],\n",
       "   [0, 1, -1, -2, -4, -5, -3, -5],\n",
       "   266836198055908344943677232661132109171),\n",
       "  ('Mark Kean',\n",
       "   'event.php?view=Team&eventid=6400&teamid=144352&profileid=12477&eventid=6400&teamid=144348&profileid=25961#1',\n",
       "   True,\n",
       "   ['0', '5', '0', '1', '1', '1', 'X'],\n",
       "   '8',\n",
       "   [True, True, False, True, False, False],\n",
       "   [-1, 4, 3, 4, 5, 6],\n",
       "   76409399085890036859940619133263985394),\n",
       "  ('Richard Krell',\n",
       "   'event.php?view=Team&eventid=6400&teamid=144352&profileid=12477&eventid=6400&teamid=144349&profileid=25962#1',\n",
       "   False,\n",
       "   ['1', '0', '1', '0', '0', '0', 'X'],\n",
       "   '2',\n",
       "   [False, False, True, False, True, True],\n",
       "   [1, -4, -3, -4, -5, -6],\n",
       "   76409399085890036859940619133263985394),\n",
       "  ('Damien Villard',\n",
       "   'event.php?view=Team&eventid=6400&teamid=144349&profileid=25962&eventid=6400&teamid=144354&profileid=27373#1',\n",
       "   True,\n",
       "   ['2', '1', '0', '1', '0', '0', '1', '0', '0', '0'],\n",
       "   '5',\n",
       "   [True, False, False, True, False, True, True, False, True, True],\n",
       "   [2, 3, 2, 3, 1, 1, 2, 1, 0, -1],\n",
       "   95737221041349721383094883999951800959),\n",
       "  ('Sam Steep',\n",
       "   'event.php?view=Team&eventid=6400&teamid=144349&profileid=25962&eventid=6400&teamid=144351&profileid=25978#1',\n",
       "   False,\n",
       "   ['0', '0', '1', '0', '2', '0', '0', '1', '1', '1'],\n",
       "   '6',\n",
       "   [False, True, True, False, True, False, False, True, False, False],\n",
       "   [-2, -3, -2, -3, -1, -1, -2, -1, 0, 1],\n",
       "   95737221041349721383094883999951800959),\n",
       "  ('Jason March',\n",
       "   'event.php?view=Team&eventid=6400&teamid=144351&profileid=25978&eventid=6400&teamid=144350#1',\n",
       "   True,\n",
       "   ['1', '1', '0', '0', '0', '0', '2', '1', '2', 'X'],\n",
       "   '7',\n",
       "   [True, False, False, True, True, True, True, False, False],\n",
       "   [1, 2, 1, 0, 0, 0, 2, 3, 5],\n",
       "   270266828626733165434047820390308175425),\n",
       "  ('Matthew Mepstead',\n",
       "   'event.php?view=Team&eventid=6400&teamid=144351&profileid=25978&eventid=6400&teamid=144356#1',\n",
       "   False,\n",
       "   ['0', '0', '1', '1', '0', '0', '0', '0', '0', 'X'],\n",
       "   '2',\n",
       "   [False, True, True, False, False, False, False, True, True],\n",
       "   [-1, -2, -1, 0, 0, 0, -2, -3, -5],\n",
       "   270266828626733165434047820390308175425),\n",
       "  ('Wayne Tuck Jr.',\n",
       "   'event.php?view=Team&eventid=6400&teamid=144356&profileid=0&eventid=6400&teamid=144353&profileid=12486#1',\n",
       "   False,\n",
       "   ['0', '0', '0', '2', '0', '0', '0', '0', 'X'],\n",
       "   '2',\n",
       "   [False, True, True, True, False, True, True, True],\n",
       "   [-2, -3, -3, -1, -2, -4, -5, -6],\n",
       "   311043710193814978616291598227661209284),\n",
       "  ('Rob Ainsley',\n",
       "   'event.php?view=Team&eventid=6400&teamid=144356&profileid=0&eventid=6400&teamid=144345&profileid=15779#1',\n",
       "   True,\n",
       "   ['2', '1', '0', '0', '1', '2', '1', '1', 'X'],\n",
       "   '8',\n",
       "   [True, False, False, False, True, False, False, False],\n",
       "   [2, 3, 3, 1, 2, 4, 5, 6],\n",
       "   311043710193814978616291598227661209284)],\n",
       " [('Matthew Hall',\n",
       "   'event.php?view=Team&eventid=6400&teamid=144347&profileid=12435#1',\n",
       "   True,\n",
       "   ['1', '0', '1', '0', '1', '0', '2', '0', '1', '0'],\n",
       "   '6',\n",
       "   [True, False, True, False, True, False, True, False, True, False],\n",
       "   [1, -1, 0, -2, -1, -2, 0, -1, 0, -1],\n",
       "   294262419456094568463302943982513430114),\n",
       "  ('Mark Kean',\n",
       "   'event.php?view=Team&eventid=6400&teamid=144348&profileid=25961#1',\n",
       "   False,\n",
       "   ['0', '2', '0', '2', '0', '1', '0', '1', '0', '1'],\n",
       "   '7',\n",
       "   [False, True, False, True, False, True, False, True, False, True],\n",
       "   [-1, 1, 0, 2, 1, 2, 0, 1, 0, 1],\n",
       "   294262419456094568463302943982513430114),\n",
       "  ('Sam Steep',\n",
       "   'event.php?view=Team&eventid=6400&teamid=144348&profileid=25961&eventid=6400&teamid=144351&profileid=25978#1',\n",
       "   False,\n",
       "   ['1', '0', '0', '2', '0', '1', '1', '0', '1', '1'],\n",
       "   '7',\n",
       "   [False, False, True, True, False, True, False, False, True, False],\n",
       "   [1, 0, -2, 0, -2, -1, 0, -1, 0, 1],\n",
       "   33453354124073265619901644399476268719),\n",
       "  ('Jason March',\n",
       "   'event.php?view=Team&eventid=6400&teamid=144348&profileid=25961&eventid=6400&teamid=144350#1',\n",
       "   True,\n",
       "   ['0', '1', '2', '0', '2', '0', '0', '1', '0', '0'],\n",
       "   '6',\n",
       "   [True, True, False, False, True, False, True, True, False, True],\n",
       "   [-1, 0, 2, 0, 2, 1, 0, 1, 0, -1],\n",
       "   33453354124073265619901644399476268719),\n",
       "  ('Dayna Deruelle',\n",
       "   'event.php?view=Team&eventid=6400&teamid=144350&profileid=0&eventid=6400&teamid=144346&profileid=26636#1',\n",
       "   False,\n",
       "   ['0', '2', '1', '1', '1', '0', '3', 'X'],\n",
       "   '8',\n",
       "   [False, True, False, False, False, False, True],\n",
       "   [-1, 1, 2, 3, 4, 3, 6],\n",
       "   56808124465928392601326057569822338797),\n",
       "  ('Rob Ainsley',\n",
       "   'event.php?view=Team&eventid=6400&teamid=144350&profileid=0&eventid=6400&teamid=144345&profileid=15779#1',\n",
       "   True,\n",
       "   ['1', '0', '0', '0', '0', '1', '0', 'X'],\n",
       "   '2',\n",
       "   [True, False, True, True, True, True, False],\n",
       "   [1, -1, -2, -3, -4, -3, -6],\n",
       "   56808124465928392601326057569822338797)],\n",
       " [('Sam Steep',\n",
       "   'event.php?view=Team&eventid=6400&teamid=144351&profileid=25978#1',\n",
       "   False,\n",
       "   ['0', '1', '0', '0', '0', '2', '0', '2', '0', '0'],\n",
       "   '5',\n",
       "   [False, False, False, True, True, True, False, True, False, False],\n",
       "   [0, 1, 0, -1, -3, -1, -3, -1, -1, -2],\n",
       "   136401608053049262970517200004185313382),\n",
       "  ('Richard Krell',\n",
       "   'event.php?view=Team&eventid=6400&teamid=144349&profileid=25962#1',\n",
       "   True,\n",
       "   ['0', '0', '1', '1', '2', '0', '2', '0', '0', '1'],\n",
       "   '7',\n",
       "   [True, True, True, False, False, False, True, False, True, True],\n",
       "   [0, -1, 0, 1, 3, 1, 3, 1, 1, 2],\n",
       "   136401608053049262970517200004185313382),\n",
       "  ('Dayna Deruelle',\n",
       "   'event.php?view=Team&eventid=6400&teamid=144349&profileid=25962&eventid=6400&teamid=144346&profileid=26636#1',\n",
       "   False,\n",
       "   ['0', '0', '1', '0', '0', '0', '1', '0', '3', '1', '0'],\n",
       "   '6',\n",
       "   [False, True, True, False, True, True, True, False, True, False, False],\n",
       "   [-1, -1, 0, -1, -1, -3, -2, -4, -1, 0, -1],\n",
       "   159202123189489213605968902553874703357),\n",
       "  ('Tyler Stewart',\n",
       "   'event.php?view=Team&eventid=6400&teamid=144349&profileid=25962&eventid=6400&teamid=144352&profileid=12477#1',\n",
       "   True,\n",
       "   ['1', '0', '0', '1', '0', '2', '0', '2', '0', '0', '1'],\n",
       "   '7',\n",
       "   [True, False, False, True, False, False, False, True, False, True, True],\n",
       "   [1, 1, 0, 1, 1, 3, 2, 4, 1, 0, 1],\n",
       "   159202123189489213605968902553874703357)],\n",
       " [('Richard Krell',\n",
       "   'event.php?view=Team&eventid=6400&teamid=144349&profileid=25962#1',\n",
       "   False,\n",
       "   ['0', '0', '1', '1', '0', '0', '1', '0', 'X'],\n",
       "   '3',\n",
       "   [False, False, True, False, False, True, True, False],\n",
       "   [0, -2, -1, 0, -2, -5, -4, -5],\n",
       "   191534675331250747573196731678674907592),\n",
       "  ('Tyler Stewart',\n",
       "   'event.php?view=Team&eventid=6400&teamid=144352&profileid=12477#1',\n",
       "   True,\n",
       "   ['0', '2', '0', '0', '2', '3', '0', '1', 'X'],\n",
       "   '8',\n",
       "   [True, True, False, True, True, False, False, True],\n",
       "   [0, 2, 1, 0, 2, 5, 4, 5],\n",
       "   191534675331250747573196731678674907592)],\n",
       " [('Tyler Stewart',\n",
       "   'event.php?view=Team&eventid=6400&teamid=144352&profileid=12477#1',\n",
       "   False,\n",
       "   ['0', '0', '1', '1', '0', '3', '0', '0', '1', '0'],\n",
       "   '6',\n",
       "   [False, False, True, False, False, True, False, False, True, False],\n",
       "   [0, -1, 0, 1, -2, 1, 1, 0, 1, -1],\n",
       "   245460210538402974387065153657529984641),\n",
       "  ('Matthew Hall',\n",
       "   'event.php?view=Team&eventid=6400&teamid=144347&profileid=12435#1',\n",
       "   True,\n",
       "   ['0', '1', '0', '0', '3', '0', '0', '1', '0', '2'],\n",
       "   '7',\n",
       "   [True, True, False, True, True, False, True, True, False, True],\n",
       "   [0, 1, 0, -1, 2, -1, -1, 0, -1, 1],\n",
       "   245460210538402974387065153657529984641)]]"
      ]
     },
     "execution_count": 15,
     "metadata": {},
     "output_type": "execute_result"
    }
   ],
   "source": [
    "event.get_flat_boxscores()"
   ]
  },
  {
   "cell_type": "code",
   "execution_count": 16,
   "metadata": {},
   "outputs": [
    {
     "data": {
      "text/plain": [
       "[('Damien Villard',\n",
       "  'event.php?view=Team&eventid=6400&teamid=144354&profileid=27373#1',\n",
       "  True,\n",
       "  ['0', '0', '0', '0', 'X'],\n",
       "  '0',\n",
       "  [True, True, True, True],\n",
       "  [-1, -4, -6, -8],\n",
       "  37776744941265228993425249496970051320),\n",
       " ('Matthew Hall',\n",
       "  'event.php?view=Team&eventid=6400&teamid=144347&profileid=12435#1',\n",
       "  False,\n",
       "  ['1', '3', '2', '2', 'X'],\n",
       "  '8',\n",
       "  [False, False, False, False],\n",
       "  [1, 4, 6, 8],\n",
       "  37776744941265228993425249496970051320),\n",
       " ('Matthew Mepstead',\n",
       "  'event.php?view=Team&eventid=6400&teamid=144347&profileid=12435&eventid=6400&teamid=144356#1',\n",
       "  False,\n",
       "  ['0', '0', '1', '1', '0', '1', '0', '0', '0', '1', '0'],\n",
       "  '4',\n",
       "  [False, False, True, False, False, True, False, False, False, True, False],\n",
       "  [0, -2, -1, 0, -1, 0, 0, 0, -1, 0, -1],\n",
       "  286529429695487779435223046621329858130),\n",
       " ('Tyler Stewart',\n",
       "  'event.php?view=Team&eventid=6400&teamid=144347&profileid=12435&eventid=6400&teamid=144352&profileid=12477#1',\n",
       "  True,\n",
       "  ['0', '2', '0', '0', '1', '0', '0', '0', '1', '0', '1'],\n",
       "  '5',\n",
       "  [True, True, False, True, True, False, True, True, True, False, True],\n",
       "  [0, 2, 1, 0, 1, 0, 0, 0, 1, 0, 1],\n",
       "  286529429695487779435223046621329858130),\n",
       " ('Jason March',\n",
       "  'event.php?view=Team&eventid=6400&teamid=144352&profileid=12477&eventid=6400&teamid=144350#1',\n",
       "  False,\n",
       "  ['0', '2', '0', '1', '0', '2', '2', '0', '2', 'X'],\n",
       "  '9',\n",
       "  [False, False, False, False, False, True, False, False, True],\n",
       "  [0, 2, 2, 3, 2, 4, 6, 3, 5],\n",
       "  57484576680602495735252151395332182997),\n",
       " ('Sam Steep',\n",
       "  'event.php?view=Team&eventid=6400&teamid=144352&profileid=12477&eventid=6400&teamid=144351&profileid=25978#1',\n",
       "  True,\n",
       "  ['0', '0', '0', '0', '1', '0', '0', '3', '0', 'X'],\n",
       "  '4',\n",
       "  [True, True, True, True, True, False, True, True, False],\n",
       "  [0, -2, -2, -3, -2, -4, -6, -3, -5],\n",
       "  57484576680602495735252151395332182997)]"
      ]
     },
     "execution_count": 16,
     "metadata": {},
     "output_type": "execute_result"
    }
   ],
   "source": [
    "event.get_flat_boxscores()[0]"
   ]
  },
  {
   "cell_type": "code",
   "execution_count": 17,
   "metadata": {},
   "outputs": [
    {
     "data": {
      "text/plain": [
       "[('Tyler Stewart',\n",
       "  'event.php?view=Team&eventid=6400&teamid=144352&profileid=12477#1',\n",
       "  False,\n",
       "  ['0', '0', '1', '1', '0', '3', '0', '0', '1', '0'],\n",
       "  '6',\n",
       "  [False, False, True, False, False, True, False, False, True, False],\n",
       "  [0, -1, 0, 1, -2, 1, 1, 0, 1, -1],\n",
       "  245460210538402974387065153657529984641),\n",
       " ('Matthew Hall',\n",
       "  'event.php?view=Team&eventid=6400&teamid=144347&profileid=12435#1',\n",
       "  True,\n",
       "  ['0', '1', '0', '0', '3', '0', '0', '1', '0', '2'],\n",
       "  '7',\n",
       "  [True, True, False, True, True, False, True, True, False, True],\n",
       "  [0, 1, 0, -1, 2, -1, -1, 0, -1, 1],\n",
       "  245460210538402974387065153657529984641)]"
      ]
     },
     "execution_count": 17,
     "metadata": {},
     "output_type": "execute_result"
    }
   ],
   "source": [
    "event.get_flat_boxscores()[-1]"
   ]
  },
  {
   "cell_type": "markdown",
   "metadata": {},
   "source": [
    "## About czapi\n",
    "czapi is a Python library for scraping curling linescores."
   ]
  }
 ],
 "metadata": {
  "kernelspec": {
   "display_name": "Python 3 (ipykernel)",
   "language": "python",
   "name": "python3"
  },
  "language_info": {
   "codemirror_mode": {
    "name": "ipython",
    "version": 3
   },
   "file_extension": ".py",
   "mimetype": "text/x-python",
   "name": "python",
   "nbconvert_exporter": "python",
   "pygments_lexer": "ipython3",
   "version": "3.7.9"
  }
 },
 "nbformat": 4,
 "nbformat_minor": 2
}
