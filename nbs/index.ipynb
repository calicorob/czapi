{
 "cells": [
  {
   "attachments": {},
   "cell_type": "markdown",
   "metadata": {},
   "source": [
    "# Welcome to czapi\n",
    "\n",
    "> A basic API for scraping curling boxscores off of the popular [CurlingZone](https://www.curlingzone.com) website. "
   ]
  },
  {
   "attachments": {},
   "cell_type": "markdown",
   "metadata": {},
   "source": [
    "## Install"
   ]
  },
  {
   "attachments": {},
   "cell_type": "markdown",
   "metadata": {},
   "source": [
    "```\n",
    "pip install czapi\n",
    "```"
   ]
  },
  {
   "attachments": {},
   "cell_type": "markdown",
   "metadata": {},
   "source": [
    "## How to use"
   ]
  },
  {
   "cell_type": "code",
   "execution_count": 2,
   "metadata": {},
   "outputs": [],
   "source": [
    "import czapi.api as api"
   ]
  },
  {
   "attachments": {},
   "cell_type": "markdown",
   "metadata": {},
   "source": [
    "## LinescorePage\n",
    "czapi is based around the `LinescorePage` object which represents a linescore page on the CurlingZone website. \n",
    "\n",
    "Click [here](https://curlingzone.com/event.php?view=Scores&eventid=7795#1) to see an example linescore page.\n",
    "\n",
    "Creating an instance of the `LinescorePage` class gives access to every boxscore on that linescore page."
   ]
  },
  {
   "cell_type": "code",
   "execution_count": 3,
   "metadata": {},
   "outputs": [],
   "source": [
    "linescore_page = api.LinescorePage(cz_event_id = 6400, cz_draw_id = 2)"
   ]
  },
  {
   "attachments": {},
   "cell_type": "markdown",
   "metadata": {},
   "source": [
    "The `cz_event_id` and `cz_draw_id` arguments are found in the CurlingZone URL. \n",
    "\n",
    "Here's an example:\n",
    "\n",
    "\n",
    "> ht<span>t</span>ps://curlingzone.com/event.php?**eventid=7795**&view=Scores&show**drawid=21**#1"
   ]
  },
  {
   "attachments": {},
   "cell_type": "markdown",
   "metadata": {},
   "source": [
    "The boxscores on the linescore page can be accessed through the `boxscores` property which returns a list of boxscores."
   ]
  },
  {
   "cell_type": "code",
   "execution_count": 4,
   "metadata": {},
   "outputs": [
    {
     "data": {
      "text/plain": [
       "[{'Wayne Tuck Jr.': {'draw': 'Draw: 2',\n",
       "   'draw_num': 2,\n",
       "   'href': 'event.php?view=Team&eventid=6400&teamid=144353&profileid=12486#1',\n",
       "   'score': ['0', '2', '0', '0', '0', '0', '1', '1', '1', '0'],\n",
       "   'hammer': True,\n",
       "   'finalscore': '5'},\n",
       "  'Matthew Hall': {'draw': 'Draw: 2',\n",
       "   'draw_num': 2,\n",
       "   'href': 'event.php?view=Team&eventid=6400&teamid=144347&profileid=12435#1',\n",
       "   'score': ['0', '0', '4', '0', '0', '1', '0', '0', '0', '2'],\n",
       "   'hammer': False,\n",
       "   'finalscore': '7'}},\n",
       " {'Dayna Deruelle': {'draw': 'Draw: 2',\n",
       "   'draw_num': 2,\n",
       "   'href': 'event.php?view=Team&eventid=6400&teamid=144347&profileid=12435&eventid=6400&teamid=144346&profileid=26636#1',\n",
       "   'score': ['0', '0', '1', '0', '0', '0', '0', 'X'],\n",
       "   'hammer': False,\n",
       "   'finalscore': '1'},\n",
       "  'Tyler Stewart': {'draw': 'Draw: 2',\n",
       "   'draw_num': 2,\n",
       "   'href': 'event.php?view=Team&eventid=6400&teamid=144347&profileid=12435&eventid=6400&teamid=144352&profileid=12477#1',\n",
       "   'score': ['0', '2', '0', '2', '1', '1', '4', 'X'],\n",
       "   'hammer': True,\n",
       "   'finalscore': '10'}},\n",
       " {'Mark Kean': {'draw': 'Draw: 2',\n",
       "   'draw_num': 2,\n",
       "   'href': 'event.php?view=Team&eventid=6400&teamid=144352&profileid=12477&eventid=6400&teamid=144348&profileid=25961#1',\n",
       "   'score': ['2', '0', '1', '0', '0', '0', '1', '3', 'X'],\n",
       "   'hammer': True,\n",
       "   'finalscore': '7'},\n",
       "  'Jason March': {'draw': 'Draw: 2',\n",
       "   'draw_num': 2,\n",
       "   'href': 'event.php?view=Team&eventid=6400&teamid=144352&profileid=12477&eventid=6400&teamid=144350#1',\n",
       "   'score': ['0', '0', '0', '0', '2', '1', '0', '0', 'X'],\n",
       "   'hammer': False,\n",
       "   'finalscore': '3'}},\n",
       " {'Richard Krell': {'draw': 'Draw: 2',\n",
       "   'draw_num': 2,\n",
       "   'href': 'event.php?view=Team&eventid=6400&teamid=144350&profileid=0&eventid=6400&teamid=144349&profileid=25962#1',\n",
       "   'score': ['2', '0', '1', '0', '2', '1', '1', 'X'],\n",
       "   'hammer': True,\n",
       "   'finalscore': '7'},\n",
       "  'Rob Ainsley': {'draw': 'Draw: 2',\n",
       "   'draw_num': 2,\n",
       "   'href': 'event.php?view=Team&eventid=6400&teamid=144350&profileid=0&eventid=6400&teamid=144345&profileid=15779#1',\n",
       "   'score': ['0', '0', '0', '1', '0', '0', '0', 'X'],\n",
       "   'hammer': False,\n",
       "   'finalscore': '1'}}]"
      ]
     },
     "execution_count": 4,
     "metadata": {},
     "output_type": "execute_result"
    }
   ],
   "source": [
    "linescore_page.boxscores"
   ]
  },
  {
   "attachments": {},
   "cell_type": "markdown",
   "metadata": {},
   "source": [
    "A boxscore is returned as a dictionary of team names, game information dictionary key, value pairs.\n",
    "\n",
    "Each game information dictionary contains:\n",
    "\n",
    "* 'href' key with a corresponding string value of CurlingZone IDs identifying the team.\n",
    "* 'hammer' key with corresponding boolean value of whether or not that team started the game with hammer.\n",
    "* 'score' key with corresponding list of string value of end-by-end results for that team.\n",
    "* 'finalscore' key with corresponding final score for the team.\n",
    "* 'draw_num' key with corresponding draw number for the game.\n",
    "* 'draw' key with corresponding draw. \n",
    "\n",
    "Individual boxscores can be accessed through the `get_boxscore_from` method."
   ]
  },
  {
   "cell_type": "code",
   "execution_count": 5,
   "metadata": {},
   "outputs": [
    {
     "data": {
      "text/plain": [
       "{'Wayne Tuck Jr.': {'draw': 'Draw: 2',\n",
       "  'draw_num': 2,\n",
       "  'href': 'event.php?view=Team&eventid=6400&teamid=144353&profileid=12486#1',\n",
       "  'score': ['0', '2', '0', '0', '0', '0', '1', '1', '1', '0'],\n",
       "  'hammer': True,\n",
       "  'finalscore': '5'},\n",
       " 'Matthew Hall': {'draw': 'Draw: 2',\n",
       "  'draw_num': 2,\n",
       "  'href': 'event.php?view=Team&eventid=6400&teamid=144347&profileid=12435#1',\n",
       "  'score': ['0', '0', '4', '0', '0', '1', '0', '0', '0', '2'],\n",
       "  'hammer': False,\n",
       "  'finalscore': '7'}}"
      ]
     },
     "execution_count": 5,
     "metadata": {},
     "output_type": "execute_result"
    }
   ],
   "source": [
    "boxscore = linescore_page.get_boxscore_from(cz_game_id = 1)\n",
    "boxscore"
   ]
  },
  {
   "attachments": {},
   "cell_type": "markdown",
   "metadata": {},
   "source": [
    "`cz_game_id` argument corresponds to the number the boxscore appears in on the linescore page."
   ]
  },
  {
   "attachments": {},
   "cell_type": "markdown",
   "metadata": {},
   "source": [
    "The LinescorePage object contains these properties which details information on the boxscores:\n",
    "\n",
    "* event_name\n",
    "* event_date\n",
    "* draw\n",
    "* draw number"
   ]
  },
  {
   "cell_type": "code",
   "execution_count": 6,
   "metadata": {},
   "outputs": [
    {
     "name": "stdout",
     "output_type": "stream",
     "text": [
      "Ontario Tankard - Open Qualifier , Jan 17 - 19, 2020\n"
     ]
    }
   ],
   "source": [
    "print(linescore_page.event_name,',',linescore_page.event_date)"
   ]
  },
  {
   "attachments": {},
   "cell_type": "markdown",
   "metadata": {},
   "source": [
    "For convenience, upon instantiation of a `LinescorePage` object, a `NormalizedBoxscore` instance for each boxscore is created. A `NormalizedBoxscore` holds the same information as a boxscore dictionary with two new pieces of information added: \n",
    "1. The hammer progression for both teams throughout the game, i.e. who had hammer in what end.\n",
    "2. Each team's relative score, i.e. who was up/down X after end Y."
   ]
  },
  {
   "cell_type": "code",
   "execution_count": 7,
   "metadata": {},
   "outputs": [
    {
     "data": {
      "text/plain": [
       "NormalizedBoxscore(boxscore={'Wayne Tuck Jr.': {'draw': 'Draw: 2', 'draw_num': 2, 'href': 'event.php?view=Team&eventid=6400&teamid=144353&profileid=12486#1', 'score': ['0', '2', '0', '0', '0', '0', '1', '1', '1', '0'], 'hammer': True, 'finalscore': '5'}, 'Matthew Hall': {'draw': 'Draw: 2', 'draw_num': 2, 'href': 'event.php?view=Team&eventid=6400&teamid=144347&profileid=12435#1', 'score': ['0', '0', '4', '0', '0', '1', '0', '0', '0', '2'], 'hammer': False, 'finalscore': '7'}})"
      ]
     },
     "execution_count": 7,
     "metadata": {},
     "output_type": "execute_result"
    }
   ],
   "source": [
    "normalized_boxscore = linescore_page.get_normalized_boxscore_from(cz_game_id = 1)\n",
    "normalized_boxscore"
   ]
  },
  {
   "attachments": {},
   "cell_type": "markdown",
   "metadata": {},
   "source": [
    "A `NormalizedBoxscore` object holds two `NormalizedHalfBoxscore` instances. "
   ]
  },
  {
   "cell_type": "code",
   "execution_count": 8,
   "metadata": {},
   "outputs": [
    {
     "data": {
      "text/plain": [
       "NormalizedHalfBoxscore(team_name='Wayne Tuck Jr.', href='event.php?view=Team&eventid=6400&teamid=144353&profileid=12486#1', hammer=True, score=['0', '2', '0', '0', '0', '0', '1', '1', '1', '0'], finalscore='5', draw_num=2, draw='Draw: 2', hammer_progression=[True, True, False, True, True, True, True, False, False, False], normalized_score=[0, 0, 2, -2, -2, -2, -3, -2, -1, 0])"
      ]
     },
     "execution_count": 8,
     "metadata": {},
     "output_type": "execute_result"
    }
   ],
   "source": [
    "normalized_boxscore.normalized_half_boxscore_pair[0]"
   ]
  },
  {
   "attachments": {},
   "cell_type": "markdown",
   "metadata": {},
   "source": [
    "For Wayne Tuck Jr. the `hammer_progression` attribute can be interpreted as follows: \n",
    "\n",
    "* End 1: Wayne had hammer\n",
    "* End 2: Wayne had hammer\n",
    "* End 3: Wayne didn't have hammer\n",
    "* And so on and so forth.."
   ]
  },
  {
   "cell_type": "code",
   "execution_count": 9,
   "metadata": {},
   "outputs": [
    {
     "data": {
      "text/plain": [
       "NormalizedHalfBoxscore(team_name='Matthew Hall', href='event.php?view=Team&eventid=6400&teamid=144347&profileid=12435#1', hammer=False, score=['0', '0', '4', '0', '0', '1', '0', '0', '0', '2'], finalscore='7', draw_num=2, draw='Draw: 2', hammer_progression=[False, False, True, False, False, False, False, True, True, True], normalized_score=[0, 0, -2, 2, 2, 2, 3, 2, 1, 0])"
      ]
     },
     "execution_count": 9,
     "metadata": {},
     "output_type": "execute_result"
    }
   ],
   "source": [
    "normalized_boxscore.normalized_half_boxscore_pair[-1]"
   ]
  },
  {
   "attachments": {},
   "cell_type": "markdown",
   "metadata": {},
   "source": [
    "For Matthew Hall, the `normalized_score` attribute can be interpreted as follows:\n",
    "\n",
    "* The score was tied in the first end (obviously).\n",
    "* The score was tied in the second end.\n",
    "* In the 3rd end, Matthew was down 2.\n",
    "* In the 4th end, Matthew was up 2 after taking 4.\n",
    "* And so on and so forth.."
   ]
  },
  {
   "attachments": {},
   "cell_type": "markdown",
   "metadata": {},
   "source": [
    "You'll also notice the `NormalizedBoxscore` object has a guid property which identifies that two `NormalizedHalfBoxscore` belong to the same game."
   ]
  },
  {
   "cell_type": "code",
   "execution_count": 10,
   "metadata": {},
   "outputs": [
    {
     "data": {
      "text/plain": [
       "254872352347969208886538144781320061225"
      ]
     },
     "execution_count": 10,
     "metadata": {},
     "output_type": "execute_result"
    }
   ],
   "source": [
    "normalized_boxscore.guid"
   ]
  },
  {
   "attachments": {},
   "cell_type": "markdown",
   "metadata": {},
   "source": [
    "czapi's `get_flat_boxscores_from` function takes a `cz_event_id` and `cz_draw_id` as an arguments and returns a (flat) nested list object of all the boxscore information on the linescore page. This nested list object can be ingested into a pandas DataFrame or pushed to a SQL database."
   ]
  },
  {
   "cell_type": "code",
   "execution_count": 11,
   "metadata": {},
   "outputs": [
    {
     "data": {
      "text/plain": [
       "[('Wayne Tuck Jr.',\n",
       "  'event.php?view=Team&eventid=6400&teamid=144353&profileid=12486#1',\n",
       "  True,\n",
       "  ['0', '2', '0', '0', '0', '0', '1', '1', '1', '0'],\n",
       "  '5',\n",
       "  2,\n",
       "  'Draw: 2',\n",
       "  [True, True, False, True, True, True, True, False, False, False],\n",
       "  [0, 0, 2, -2, -2, -2, -3, -2, -1, 0],\n",
       "  110977284151530368674865625905288531344),\n",
       " ('Matthew Hall',\n",
       "  'event.php?view=Team&eventid=6400&teamid=144347&profileid=12435#1',\n",
       "  False,\n",
       "  ['0', '0', '4', '0', '0', '1', '0', '0', '0', '2'],\n",
       "  '7',\n",
       "  2,\n",
       "  'Draw: 2',\n",
       "  [False, False, True, False, False, False, False, True, True, True],\n",
       "  [0, 0, -2, 2, 2, 2, 3, 2, 1, 0],\n",
       "  110977284151530368674865625905288531344),\n",
       " ('Dayna Deruelle',\n",
       "  'event.php?view=Team&eventid=6400&teamid=144347&profileid=12435&eventid=6400&teamid=144346&profileid=26636#1',\n",
       "  False,\n",
       "  ['0', '0', '1', '0', '0', '0', '0', 'X'],\n",
       "  '1',\n",
       "  2,\n",
       "  'Draw: 2',\n",
       "  [False, False, True, False, True, True, True, True],\n",
       "  [0, 0, -2, -1, -3, -4, -5, -9],\n",
       "  281037030105321216581538059786156947039),\n",
       " ('Tyler Stewart',\n",
       "  'event.php?view=Team&eventid=6400&teamid=144347&profileid=12435&eventid=6400&teamid=144352&profileid=12477#1',\n",
       "  True,\n",
       "  ['0', '2', '0', '2', '1', '1', '4', 'X'],\n",
       "  '10',\n",
       "  2,\n",
       "  'Draw: 2',\n",
       "  [True, True, False, True, False, False, False, False],\n",
       "  [0, 0, 2, 1, 3, 4, 5, 9],\n",
       "  281037030105321216581538059786156947039),\n",
       " ('Mark Kean',\n",
       "  'event.php?view=Team&eventid=6400&teamid=144352&profileid=12477&eventid=6400&teamid=144348&profileid=25961#1',\n",
       "  True,\n",
       "  ['2', '0', '1', '0', '0', '0', '1', '3', 'X'],\n",
       "  '7',\n",
       "  2,\n",
       "  'Draw: 2',\n",
       "  [True, False, False, False, False, True, True, False, False],\n",
       "  [0, 2, 2, 3, 3, 1, 0, 1, 4],\n",
       "  303564892705226366466039024191702968265),\n",
       " ('Jason March',\n",
       "  'event.php?view=Team&eventid=6400&teamid=144352&profileid=12477&eventid=6400&teamid=144350#1',\n",
       "  False,\n",
       "  ['0', '0', '0', '0', '2', '1', '0', '0', 'X'],\n",
       "  '3',\n",
       "  2,\n",
       "  'Draw: 2',\n",
       "  [False, True, True, True, True, False, False, True, True],\n",
       "  [0, -2, -2, -3, -3, -1, 0, -1, -4],\n",
       "  303564892705226366466039024191702968265),\n",
       " ('Richard Krell',\n",
       "  'event.php?view=Team&eventid=6400&teamid=144350&profileid=0&eventid=6400&teamid=144349&profileid=25962#1',\n",
       "  True,\n",
       "  ['2', '0', '1', '0', '2', '1', '1', 'X'],\n",
       "  '7',\n",
       "  2,\n",
       "  'Draw: 2',\n",
       "  [True, False, False, False, True, False, False, False],\n",
       "  [0, 2, 2, 3, 2, 4, 5, 6],\n",
       "  166631958339420315484541615590740859900),\n",
       " ('Rob Ainsley',\n",
       "  'event.php?view=Team&eventid=6400&teamid=144350&profileid=0&eventid=6400&teamid=144345&profileid=15779#1',\n",
       "  False,\n",
       "  ['0', '0', '0', '1', '0', '0', '0', 'X'],\n",
       "  '1',\n",
       "  2,\n",
       "  'Draw: 2',\n",
       "  [False, True, True, True, False, True, True, True],\n",
       "  [0, -2, -2, -3, -2, -4, -5, -6],\n",
       "  166631958339420315484541615590740859900)]"
      ]
     },
     "execution_count": 11,
     "metadata": {},
     "output_type": "execute_result"
    }
   ],
   "source": [
    "api.get_flat_boxscores_from(cz_event_id = 6400, cz_draw_id = 2)"
   ]
  },
  {
   "attachments": {},
   "cell_type": "markdown",
   "metadata": {},
   "source": [
    "## Event"
   ]
  },
  {
   "attachments": {},
   "cell_type": "markdown",
   "metadata": {},
   "source": [
    "The `Event` object is a data structure which holds all of the `LinescorePage` objects which make up an entire event. \n",
    "\n",
    "An `Event` instance is created by passing a `cz_event_id`."
   ]
  },
  {
   "cell_type": "code",
   "execution_count": 12,
   "metadata": {},
   "outputs": [
    {
     "name": "stdout",
     "output_type": "stream",
     "text": [
      "Scraping draw 1.\n",
      "Scraping draw 2.\n",
      "Scraping draw 3.\n",
      "Scraping draw 4.\n",
      "Scraping draw 5.\n",
      "Scraping draw 6.\n",
      "Scraping draw 7.\n"
     ]
    },
    {
     "data": {
      "text/plain": [
       "Event(cz_event_id=6400, delay=3, verbose=True)"
      ]
     },
     "execution_count": 12,
     "metadata": {},
     "output_type": "execute_result"
    }
   ],
   "source": [
    "event = api.Event(cz_event_id = 6400,delay=3,verbose=True)\n",
    "event"
   ]
  },
  {
   "attachments": {},
   "cell_type": "markdown",
   "metadata": {},
   "source": [
    "The created `Event` objects holds all the `LinescorePage` objects in it's `pages` property."
   ]
  },
  {
   "cell_type": "code",
   "execution_count": 13,
   "metadata": {},
   "outputs": [
    {
     "data": {
      "text/plain": [
       "[LinescorePage(cz_event_id=6400, cz_draw_id=1),\n",
       " LinescorePage(cz_event_id=6400, cz_draw_id=2),\n",
       " LinescorePage(cz_event_id=6400, cz_draw_id=3),\n",
       " LinescorePage(cz_event_id=6400, cz_draw_id=4),\n",
       " LinescorePage(cz_event_id=6400, cz_draw_id=5),\n",
       " LinescorePage(cz_event_id=6400, cz_draw_id=6),\n",
       " LinescorePage(cz_event_id=6400, cz_draw_id=7)]"
      ]
     },
     "execution_count": 13,
     "metadata": {},
     "output_type": "execute_result"
    }
   ],
   "source": [
    "event.pages"
   ]
  },
  {
   "attachments": {},
   "cell_type": "markdown",
   "metadata": {},
   "source": [
    "Details about specific draws can be accessed by grabbing the correct LinescorePage."
   ]
  },
  {
   "cell_type": "code",
   "execution_count": 14,
   "metadata": {},
   "outputs": [
    {
     "data": {
      "text/plain": [
       "LinescorePage(cz_event_id=6400, cz_draw_id=3)"
      ]
     },
     "execution_count": 14,
     "metadata": {},
     "output_type": "execute_result"
    }
   ],
   "source": [
    "event.pages[2]"
   ]
  },
  {
   "cell_type": "code",
   "execution_count": 15,
   "metadata": {},
   "outputs": [
    {
     "data": {
      "text/plain": [
       "[{'Matthew Hall': {'draw': 'Draw: 3',\n",
       "   'draw_num': 3,\n",
       "   'href': 'event.php?view=Team&eventid=6400&teamid=144347&profileid=12435#1',\n",
       "   'score': ['0', '0', '2', '1', '2', '1', '0', '2', 'X'],\n",
       "   'hammer': True,\n",
       "   'finalscore': '8'},\n",
       "  'Tyler Stewart': {'draw': 'Draw: 3',\n",
       "   'draw_num': 3,\n",
       "   'href': 'event.php?view=Team&eventid=6400&teamid=144352&profileid=12477#1',\n",
       "   'score': ['0', '1', '0', '0', '0', '0', '2', '0', 'X'],\n",
       "   'hammer': False,\n",
       "   'finalscore': '3'}},\n",
       " {'Mark Kean': {'draw': 'Draw: 3',\n",
       "   'draw_num': 3,\n",
       "   'href': 'event.php?view=Team&eventid=6400&teamid=144352&profileid=12477&eventid=6400&teamid=144348&profileid=25961#1',\n",
       "   'score': ['0', '5', '0', '1', '1', '1', 'X'],\n",
       "   'hammer': True,\n",
       "   'finalscore': '8'},\n",
       "  'Richard Krell': {'draw': 'Draw: 3',\n",
       "   'draw_num': 3,\n",
       "   'href': 'event.php?view=Team&eventid=6400&teamid=144352&profileid=12477&eventid=6400&teamid=144349&profileid=25962#1',\n",
       "   'score': ['1', '0', '1', '0', '0', '0', 'X'],\n",
       "   'hammer': False,\n",
       "   'finalscore': '2'}},\n",
       " {'Damien Villard': {'draw': 'Draw: 3',\n",
       "   'draw_num': 3,\n",
       "   'href': 'event.php?view=Team&eventid=6400&teamid=144349&profileid=25962&eventid=6400&teamid=144354&profileid=27373#1',\n",
       "   'score': ['2', '1', '0', '1', '0', '0', '1', '0', '0', '0'],\n",
       "   'hammer': True,\n",
       "   'finalscore': '5'},\n",
       "  'Sam Steep': {'draw': 'Draw: 3',\n",
       "   'draw_num': 3,\n",
       "   'href': 'event.php?view=Team&eventid=6400&teamid=144349&profileid=25962&eventid=6400&teamid=144351&profileid=25978#1',\n",
       "   'score': ['0', '0', '1', '0', '2', '0', '0', '1', '1', '1'],\n",
       "   'hammer': False,\n",
       "   'finalscore': '6'}},\n",
       " {'Jason March': {'draw': 'Draw: 3',\n",
       "   'draw_num': 3,\n",
       "   'href': 'event.php?view=Team&eventid=6400&teamid=144351&profileid=25978&eventid=6400&teamid=144350#1',\n",
       "   'score': ['1', '1', '0', '0', '0', '0', '2', '1', '2', 'X'],\n",
       "   'hammer': True,\n",
       "   'finalscore': '7'},\n",
       "  'Matthew Mepstead': {'draw': 'Draw: 3',\n",
       "   'draw_num': 3,\n",
       "   'href': 'event.php?view=Team&eventid=6400&teamid=144351&profileid=25978&eventid=6400&teamid=144356#1',\n",
       "   'score': ['0', '0', '1', '1', '0', '0', '0', '0', '0', 'X'],\n",
       "   'hammer': False,\n",
       "   'finalscore': '2'}},\n",
       " {'Wayne Tuck Jr.': {'draw': 'Draw: 3',\n",
       "   'draw_num': 3,\n",
       "   'href': 'event.php?view=Team&eventid=6400&teamid=144356&profileid=0&eventid=6400&teamid=144353&profileid=12486#1',\n",
       "   'score': ['0', '0', '0', '2', '0', '0', '0', '0', 'X'],\n",
       "   'hammer': False,\n",
       "   'finalscore': '2'},\n",
       "  'Rob Ainsley': {'draw': 'Draw: 3',\n",
       "   'draw_num': 3,\n",
       "   'href': 'event.php?view=Team&eventid=6400&teamid=144356&profileid=0&eventid=6400&teamid=144345&profileid=15779#1',\n",
       "   'score': ['2', '1', '0', '0', '1', '2', '1', '1', 'X'],\n",
       "   'hammer': True,\n",
       "   'finalscore': '8'}}]"
      ]
     },
     "execution_count": 15,
     "metadata": {},
     "output_type": "execute_result"
    }
   ],
   "source": [
    "event.pages[2].boxscores"
   ]
  },
  {
   "attachments": {},
   "cell_type": "markdown",
   "metadata": {},
   "source": [
    "The `get_flat_boxscores` method can be used to return a list of tuples of all the boxscore information on all the linescore pages."
   ]
  },
  {
   "cell_type": "code",
   "execution_count": 16,
   "metadata": {},
   "outputs": [
    {
     "data": {
      "text/plain": [
       "[('Damien Villard',\n",
       "  'event.php?view=Team&eventid=6400&teamid=144354&profileid=27373#1',\n",
       "  True,\n",
       "  ['0', '0', '0', '0', 'X'],\n",
       "  '0',\n",
       "  1,\n",
       "  'Draw: 1',\n",
       "  [True, True, True, True, True],\n",
       "  [0, -1, -4, -6, -8],\n",
       "  43389014760302404335281282239904734529),\n",
       " ('Matthew Hall',\n",
       "  'event.php?view=Team&eventid=6400&teamid=144347&profileid=12435#1',\n",
       "  False,\n",
       "  ['1', '3', '2', '2', 'X'],\n",
       "  '8',\n",
       "  1,\n",
       "  'Draw: 1',\n",
       "  [False, False, False, False, False],\n",
       "  [0, 1, 4, 6, 8],\n",
       "  43389014760302404335281282239904734529),\n",
       " ('Matthew Mepstead',\n",
       "  'event.php?view=Team&eventid=6400&teamid=144347&profileid=12435&eventid=6400&teamid=144356#1',\n",
       "  False,\n",
       "  ['0', '0', '1', '1', '0', '1', '0', '0', '0', '1', '0'],\n",
       "  '4',\n",
       "  1,\n",
       "  'Draw: 1',\n",
       "  [False, False, True, False, False, True, False, False, False, True, False],\n",
       "  [0, 0, -2, -1, 0, -1, 0, 0, 0, -1, 0],\n",
       "  6662255676714105164637017444793308623),\n",
       " ('Tyler Stewart',\n",
       "  'event.php?view=Team&eventid=6400&teamid=144347&profileid=12435&eventid=6400&teamid=144352&profileid=12477#1',\n",
       "  True,\n",
       "  ['0', '2', '0', '0', '1', '0', '0', '0', '1', '0', '1'],\n",
       "  '5',\n",
       "  1,\n",
       "  'Draw: 1',\n",
       "  [True, True, False, True, True, False, True, True, True, False, True],\n",
       "  [0, 0, 2, 1, 0, 1, 0, 0, 0, 1, 0],\n",
       "  6662255676714105164637017444793308623),\n",
       " ('Jason March',\n",
       "  'event.php?view=Team&eventid=6400&teamid=144352&profileid=12477&eventid=6400&teamid=144350#1',\n",
       "  False,\n",
       "  ['0', '2', '0', '1', '0', '2', '2', '0', '2', 'X'],\n",
       "  '9',\n",
       "  1,\n",
       "  'Draw: 1',\n",
       "  [False, False, False, False, False, True, False, False, True, False],\n",
       "  [0, 0, 2, 2, 3, 2, 4, 6, 3, 5],\n",
       "  17030269709905985666285035488407089412),\n",
       " ('Sam Steep',\n",
       "  'event.php?view=Team&eventid=6400&teamid=144352&profileid=12477&eventid=6400&teamid=144351&profileid=25978#1',\n",
       "  True,\n",
       "  ['0', '0', '0', '0', '1', '0', '0', '3', '0', 'X'],\n",
       "  '4',\n",
       "  1,\n",
       "  'Draw: 1',\n",
       "  [True, True, True, True, True, False, True, True, False, True],\n",
       "  [0, 0, -2, -2, -3, -2, -4, -6, -3, -5],\n",
       "  17030269709905985666285035488407089412),\n",
       " ('Wayne Tuck Jr.',\n",
       "  'event.php?view=Team&eventid=6400&teamid=144353&profileid=12486#1',\n",
       "  True,\n",
       "  ['0', '2', '0', '0', '0', '0', '1', '1', '1', '0'],\n",
       "  '5',\n",
       "  2,\n",
       "  'Draw: 2',\n",
       "  [True, True, False, True, True, True, True, False, False, False],\n",
       "  [0, 0, 2, -2, -2, -2, -3, -2, -1, 0],\n",
       "  313404218084099692187707048891717611105),\n",
       " ('Matthew Hall',\n",
       "  'event.php?view=Team&eventid=6400&teamid=144347&profileid=12435#1',\n",
       "  False,\n",
       "  ['0', '0', '4', '0', '0', '1', '0', '0', '0', '2'],\n",
       "  '7',\n",
       "  2,\n",
       "  'Draw: 2',\n",
       "  [False, False, True, False, False, False, False, True, True, True],\n",
       "  [0, 0, -2, 2, 2, 2, 3, 2, 1, 0],\n",
       "  313404218084099692187707048891717611105),\n",
       " ('Dayna Deruelle',\n",
       "  'event.php?view=Team&eventid=6400&teamid=144347&profileid=12435&eventid=6400&teamid=144346&profileid=26636#1',\n",
       "  False,\n",
       "  ['0', '0', '1', '0', '0', '0', '0', 'X'],\n",
       "  '1',\n",
       "  2,\n",
       "  'Draw: 2',\n",
       "  [False, False, True, False, True, True, True, True],\n",
       "  [0, 0, -2, -1, -3, -4, -5, -9],\n",
       "  224977155232527024595381121941485598994),\n",
       " ('Tyler Stewart',\n",
       "  'event.php?view=Team&eventid=6400&teamid=144347&profileid=12435&eventid=6400&teamid=144352&profileid=12477#1',\n",
       "  True,\n",
       "  ['0', '2', '0', '2', '1', '1', '4', 'X'],\n",
       "  '10',\n",
       "  2,\n",
       "  'Draw: 2',\n",
       "  [True, True, False, True, False, False, False, False],\n",
       "  [0, 0, 2, 1, 3, 4, 5, 9],\n",
       "  224977155232527024595381121941485598994),\n",
       " ('Mark Kean',\n",
       "  'event.php?view=Team&eventid=6400&teamid=144352&profileid=12477&eventid=6400&teamid=144348&profileid=25961#1',\n",
       "  True,\n",
       "  ['2', '0', '1', '0', '0', '0', '1', '3', 'X'],\n",
       "  '7',\n",
       "  2,\n",
       "  'Draw: 2',\n",
       "  [True, False, False, False, False, True, True, False, False],\n",
       "  [0, 2, 2, 3, 3, 1, 0, 1, 4],\n",
       "  268773209381266610704731254952653425860),\n",
       " ('Jason March',\n",
       "  'event.php?view=Team&eventid=6400&teamid=144352&profileid=12477&eventid=6400&teamid=144350#1',\n",
       "  False,\n",
       "  ['0', '0', '0', '0', '2', '1', '0', '0', 'X'],\n",
       "  '3',\n",
       "  2,\n",
       "  'Draw: 2',\n",
       "  [False, True, True, True, True, False, False, True, True],\n",
       "  [0, -2, -2, -3, -3, -1, 0, -1, -4],\n",
       "  268773209381266610704731254952653425860),\n",
       " ('Richard Krell',\n",
       "  'event.php?view=Team&eventid=6400&teamid=144350&profileid=0&eventid=6400&teamid=144349&profileid=25962#1',\n",
       "  True,\n",
       "  ['2', '0', '1', '0', '2', '1', '1', 'X'],\n",
       "  '7',\n",
       "  2,\n",
       "  'Draw: 2',\n",
       "  [True, False, False, False, True, False, False, False],\n",
       "  [0, 2, 2, 3, 2, 4, 5, 6],\n",
       "  336248271082593576004107249057533701469),\n",
       " ('Rob Ainsley',\n",
       "  'event.php?view=Team&eventid=6400&teamid=144350&profileid=0&eventid=6400&teamid=144345&profileid=15779#1',\n",
       "  False,\n",
       "  ['0', '0', '0', '1', '0', '0', '0', 'X'],\n",
       "  '1',\n",
       "  2,\n",
       "  'Draw: 2',\n",
       "  [False, True, True, True, False, True, True, True],\n",
       "  [0, -2, -2, -3, -2, -4, -5, -6],\n",
       "  336248271082593576004107249057533701469),\n",
       " ('Matthew Hall',\n",
       "  'event.php?view=Team&eventid=6400&teamid=144347&profileid=12435#1',\n",
       "  True,\n",
       "  ['0', '0', '2', '1', '2', '1', '0', '2', 'X'],\n",
       "  '8',\n",
       "  3,\n",
       "  'Draw: 3',\n",
       "  [True, True, True, False, False, False, False, True, False],\n",
       "  [0, 0, -1, 1, 2, 4, 5, 3, 5],\n",
       "  80394010565261168427833483594968521544),\n",
       " ('Tyler Stewart',\n",
       "  'event.php?view=Team&eventid=6400&teamid=144352&profileid=12477#1',\n",
       "  False,\n",
       "  ['0', '1', '0', '0', '0', '0', '2', '0', 'X'],\n",
       "  '3',\n",
       "  3,\n",
       "  'Draw: 3',\n",
       "  [False, False, False, True, True, True, True, False, True],\n",
       "  [0, 0, 1, -1, -2, -4, -5, -3, -5],\n",
       "  80394010565261168427833483594968521544),\n",
       " ('Mark Kean',\n",
       "  'event.php?view=Team&eventid=6400&teamid=144352&profileid=12477&eventid=6400&teamid=144348&profileid=25961#1',\n",
       "  True,\n",
       "  ['0', '5', '0', '1', '1', '1', 'X'],\n",
       "  '8',\n",
       "  3,\n",
       "  'Draw: 3',\n",
       "  [True, True, False, True, False, False, False],\n",
       "  [0, -1, 4, 3, 4, 5, 6],\n",
       "  119576955346708354006974538451792040897),\n",
       " ('Richard Krell',\n",
       "  'event.php?view=Team&eventid=6400&teamid=144352&profileid=12477&eventid=6400&teamid=144349&profileid=25962#1',\n",
       "  False,\n",
       "  ['1', '0', '1', '0', '0', '0', 'X'],\n",
       "  '2',\n",
       "  3,\n",
       "  'Draw: 3',\n",
       "  [False, False, True, False, True, True, True],\n",
       "  [0, 1, -4, -3, -4, -5, -6],\n",
       "  119576955346708354006974538451792040897),\n",
       " ('Damien Villard',\n",
       "  'event.php?view=Team&eventid=6400&teamid=144349&profileid=25962&eventid=6400&teamid=144354&profileid=27373#1',\n",
       "  True,\n",
       "  ['2', '1', '0', '1', '0', '0', '1', '0', '0', '0'],\n",
       "  '5',\n",
       "  3,\n",
       "  'Draw: 3',\n",
       "  [True, False, False, True, False, True, True, False, True, True],\n",
       "  [0, 2, 3, 2, 3, 1, 1, 2, 1, 0],\n",
       "  249838339623785495055373784217174441445),\n",
       " ('Sam Steep',\n",
       "  'event.php?view=Team&eventid=6400&teamid=144349&profileid=25962&eventid=6400&teamid=144351&profileid=25978#1',\n",
       "  False,\n",
       "  ['0', '0', '1', '0', '2', '0', '0', '1', '1', '1'],\n",
       "  '6',\n",
       "  3,\n",
       "  'Draw: 3',\n",
       "  [False, True, True, False, True, False, False, True, False, False],\n",
       "  [0, -2, -3, -2, -3, -1, -1, -2, -1, 0],\n",
       "  249838339623785495055373784217174441445),\n",
       " ('Jason March',\n",
       "  'event.php?view=Team&eventid=6400&teamid=144351&profileid=25978&eventid=6400&teamid=144350#1',\n",
       "  True,\n",
       "  ['1', '1', '0', '0', '0', '0', '2', '1', '2', 'X'],\n",
       "  '7',\n",
       "  3,\n",
       "  'Draw: 3',\n",
       "  [True, False, False, True, True, True, True, False, False, False],\n",
       "  [0, 1, 2, 1, 0, 0, 0, 2, 3, 5],\n",
       "  210696644732545105346666426932076387851),\n",
       " ('Matthew Mepstead',\n",
       "  'event.php?view=Team&eventid=6400&teamid=144351&profileid=25978&eventid=6400&teamid=144356#1',\n",
       "  False,\n",
       "  ['0', '0', '1', '1', '0', '0', '0', '0', '0', 'X'],\n",
       "  '2',\n",
       "  3,\n",
       "  'Draw: 3',\n",
       "  [False, True, True, False, False, False, False, True, True, True],\n",
       "  [0, -1, -2, -1, 0, 0, 0, -2, -3, -5],\n",
       "  210696644732545105346666426932076387851),\n",
       " ('Wayne Tuck Jr.',\n",
       "  'event.php?view=Team&eventid=6400&teamid=144356&profileid=0&eventid=6400&teamid=144353&profileid=12486#1',\n",
       "  False,\n",
       "  ['0', '0', '0', '2', '0', '0', '0', '0', 'X'],\n",
       "  '2',\n",
       "  3,\n",
       "  'Draw: 3',\n",
       "  [False, True, True, True, False, True, True, True, True],\n",
       "  [0, -2, -3, -3, -1, -2, -4, -5, -6],\n",
       "  241487067026802204703372136757699352731),\n",
       " ('Rob Ainsley',\n",
       "  'event.php?view=Team&eventid=6400&teamid=144356&profileid=0&eventid=6400&teamid=144345&profileid=15779#1',\n",
       "  True,\n",
       "  ['2', '1', '0', '0', '1', '2', '1', '1', 'X'],\n",
       "  '8',\n",
       "  3,\n",
       "  'Draw: 3',\n",
       "  [True, False, False, False, True, False, False, False, False],\n",
       "  [0, 2, 3, 3, 1, 2, 4, 5, 6],\n",
       "  241487067026802204703372136757699352731),\n",
       " ('Matthew Hall',\n",
       "  'event.php?view=Team&eventid=6400&teamid=144347&profileid=12435#1',\n",
       "  True,\n",
       "  ['1', '0', '1', '0', '1', '0', '2', '0', '1', '0'],\n",
       "  '6',\n",
       "  4,\n",
       "  'Draw: 4',\n",
       "  [True, False, True, False, True, False, True, False, True, False],\n",
       "  [0, 1, -1, 0, -2, -1, -2, 0, -1, 0],\n",
       "  270312357553095148414284107284214840026),\n",
       " ('Mark Kean',\n",
       "  'event.php?view=Team&eventid=6400&teamid=144348&profileid=25961#1',\n",
       "  False,\n",
       "  ['0', '2', '0', '2', '0', '1', '0', '1', '0', '1'],\n",
       "  '7',\n",
       "  4,\n",
       "  'Draw: 4',\n",
       "  [False, True, False, True, False, True, False, True, False, True],\n",
       "  [0, -1, 1, 0, 2, 1, 2, 0, 1, 0],\n",
       "  270312357553095148414284107284214840026),\n",
       " ('Sam Steep',\n",
       "  'event.php?view=Team&eventid=6400&teamid=144348&profileid=25961&eventid=6400&teamid=144351&profileid=25978#1',\n",
       "  False,\n",
       "  ['1', '0', '0', '2', '0', '1', '1', '0', '1', '1'],\n",
       "  '7',\n",
       "  4,\n",
       "  'Draw: 4',\n",
       "  [False, False, True, True, False, True, False, False, True, False],\n",
       "  [0, 1, 0, -2, 0, -2, -1, 0, -1, 0],\n",
       "  184794641996927884703702998465135153852),\n",
       " ('Jason March',\n",
       "  'event.php?view=Team&eventid=6400&teamid=144348&profileid=25961&eventid=6400&teamid=144350#1',\n",
       "  True,\n",
       "  ['0', '1', '2', '0', '2', '0', '0', '1', '0', '0'],\n",
       "  '6',\n",
       "  4,\n",
       "  'Draw: 4',\n",
       "  [True, True, False, False, True, False, True, True, False, True],\n",
       "  [0, -1, 0, 2, 0, 2, 1, 0, 1, 0],\n",
       "  184794641996927884703702998465135153852),\n",
       " ('Dayna Deruelle',\n",
       "  'event.php?view=Team&eventid=6400&teamid=144350&profileid=0&eventid=6400&teamid=144346&profileid=26636#1',\n",
       "  False,\n",
       "  ['0', '2', '1', '1', '1', '0', '3', 'X'],\n",
       "  '8',\n",
       "  4,\n",
       "  'Draw: 4',\n",
       "  [False, True, False, False, False, False, True, False],\n",
       "  [0, -1, 1, 2, 3, 4, 3, 6],\n",
       "  266895758911458277527113999576025156800),\n",
       " ('Rob Ainsley',\n",
       "  'event.php?view=Team&eventid=6400&teamid=144350&profileid=0&eventid=6400&teamid=144345&profileid=15779#1',\n",
       "  True,\n",
       "  ['1', '0', '0', '0', '0', '1', '0', 'X'],\n",
       "  '2',\n",
       "  4,\n",
       "  'Draw: 4',\n",
       "  [True, False, True, True, True, True, False, True],\n",
       "  [0, 1, -1, -2, -3, -4, -3, -6],\n",
       "  266895758911458277527113999576025156800),\n",
       " ('Sam Steep',\n",
       "  'event.php?view=Team&eventid=6400&teamid=144351&profileid=25978#1',\n",
       "  False,\n",
       "  ['0', '1', '0', '0', '0', '2', '0', '2', '0', '0'],\n",
       "  '5',\n",
       "  5,\n",
       "  'Draw: 5',\n",
       "  [False, False, False, True, True, True, False, True, False, False],\n",
       "  [0, 0, 1, 0, -1, -3, -1, -3, -1, -1],\n",
       "  136987304340129398442436470707928288628),\n",
       " ('Richard Krell',\n",
       "  'event.php?view=Team&eventid=6400&teamid=144349&profileid=25962#1',\n",
       "  True,\n",
       "  ['0', '0', '1', '1', '2', '0', '2', '0', '0', '1'],\n",
       "  '7',\n",
       "  5,\n",
       "  'Draw: 5',\n",
       "  [True, True, True, False, False, False, True, False, True, True],\n",
       "  [0, 0, -1, 0, 1, 3, 1, 3, 1, 1],\n",
       "  136987304340129398442436470707928288628),\n",
       " ('Dayna Deruelle',\n",
       "  'event.php?view=Team&eventid=6400&teamid=144349&profileid=25962&eventid=6400&teamid=144346&profileid=26636#1',\n",
       "  False,\n",
       "  ['0', '0', '1', '0', '0', '0', '1', '0', '3', '1', '0'],\n",
       "  '6',\n",
       "  5,\n",
       "  'Draw: 5',\n",
       "  [False, True, True, False, True, True, True, False, True, False, False],\n",
       "  [0, -1, -1, 0, -1, -1, -3, -2, -4, -1, 0],\n",
       "  177734897905324649583176141792839670599),\n",
       " ('Tyler Stewart',\n",
       "  'event.php?view=Team&eventid=6400&teamid=144349&profileid=25962&eventid=6400&teamid=144352&profileid=12477#1',\n",
       "  True,\n",
       "  ['1', '0', '0', '1', '0', '2', '0', '2', '0', '0', '1'],\n",
       "  '7',\n",
       "  5,\n",
       "  'Draw: 5',\n",
       "  [True, False, False, True, False, False, False, True, False, True, True],\n",
       "  [0, 1, 1, 0, 1, 1, 3, 2, 4, 1, 0],\n",
       "  177734897905324649583176141792839670599),\n",
       " ('Richard Krell',\n",
       "  'event.php?view=Team&eventid=6400&teamid=144349&profileid=25962#1',\n",
       "  False,\n",
       "  ['0', '0', '1', '1', '0', '0', '1', '0', 'X'],\n",
       "  '3',\n",
       "  6,\n",
       "  'Draw: 6',\n",
       "  [False, False, True, False, False, True, True, False, True],\n",
       "  [0, 0, -2, -1, 0, -2, -5, -4, -5],\n",
       "  14986686141022873231469018358016050284),\n",
       " ('Tyler Stewart',\n",
       "  'event.php?view=Team&eventid=6400&teamid=144352&profileid=12477#1',\n",
       "  True,\n",
       "  ['0', '2', '0', '0', '2', '3', '0', '1', 'X'],\n",
       "  '8',\n",
       "  6,\n",
       "  'Draw: 6',\n",
       "  [True, True, False, True, True, False, False, True, False],\n",
       "  [0, 0, 2, 1, 0, 2, 5, 4, 5],\n",
       "  14986686141022873231469018358016050284),\n",
       " ('Tyler Stewart',\n",
       "  'event.php?view=Team&eventid=6400&teamid=144352&profileid=12477#1',\n",
       "  False,\n",
       "  ['0', '0', '1', '1', '0', '3', '0', '0', '1', '0'],\n",
       "  '6',\n",
       "  7,\n",
       "  'Draw: 7',\n",
       "  [False, False, True, False, False, True, False, False, True, False],\n",
       "  [0, 0, -1, 0, 1, -2, 1, 1, 0, 1],\n",
       "  33575543948478163326703320936787390518),\n",
       " ('Matthew Hall',\n",
       "  'event.php?view=Team&eventid=6400&teamid=144347&profileid=12435#1',\n",
       "  True,\n",
       "  ['0', '1', '0', '0', '3', '0', '0', '1', '0', '2'],\n",
       "  '7',\n",
       "  7,\n",
       "  'Draw: 7',\n",
       "  [True, True, False, True, True, False, True, True, False, True],\n",
       "  [0, 0, 1, 0, -1, 2, -1, -1, 0, -1],\n",
       "  33575543948478163326703320936787390518)]"
      ]
     },
     "execution_count": 16,
     "metadata": {},
     "output_type": "execute_result"
    }
   ],
   "source": [
    "event.get_flat_boxscores(flat=True)"
   ]
  },
  {
   "attachments": {},
   "cell_type": "markdown",
   "metadata": {},
   "source": [
    "The `get_flat_boxscores` method can also be used to return a list of `Boxscore` objects for convenience. "
   ]
  },
  {
   "cell_type": "code",
   "execution_count": 17,
   "metadata": {},
   "outputs": [
    {
     "data": {
      "text/plain": [
       "[Boxscore(team_name='Damien Villard', href='event.php?view=Team&eventid=6400&teamid=144354&profileid=27373#1', hammer_start=True, score=['0', '0', '0', '0', 'X'], final_score='0', draw_num=1, draw='Draw: 1', hammer_progression=[True, True, True, True, True], relative_score=[0, -1, -4, -6, -8], guid=43389014760302404335281282239904734529),\n",
       " Boxscore(team_name='Matthew Hall', href='event.php?view=Team&eventid=6400&teamid=144347&profileid=12435#1', hammer_start=False, score=['1', '3', '2', '2', 'X'], final_score='8', draw_num=1, draw='Draw: 1', hammer_progression=[False, False, False, False, False], relative_score=[0, 1, 4, 6, 8], guid=43389014760302404335281282239904734529),\n",
       " Boxscore(team_name='Matthew Mepstead', href='event.php?view=Team&eventid=6400&teamid=144347&profileid=12435&eventid=6400&teamid=144356#1', hammer_start=False, score=['0', '0', '1', '1', '0', '1', '0', '0', '0', '1', '0'], final_score='4', draw_num=1, draw='Draw: 1', hammer_progression=[False, False, True, False, False, True, False, False, False, True, False], relative_score=[0, 0, -2, -1, 0, -1, 0, 0, 0, -1, 0], guid=6662255676714105164637017444793308623),\n",
       " Boxscore(team_name='Tyler Stewart', href='event.php?view=Team&eventid=6400&teamid=144347&profileid=12435&eventid=6400&teamid=144352&profileid=12477#1', hammer_start=True, score=['0', '2', '0', '0', '1', '0', '0', '0', '1', '0', '1'], final_score='5', draw_num=1, draw='Draw: 1', hammer_progression=[True, True, False, True, True, False, True, True, True, False, True], relative_score=[0, 0, 2, 1, 0, 1, 0, 0, 0, 1, 0], guid=6662255676714105164637017444793308623),\n",
       " Boxscore(team_name='Jason March', href='event.php?view=Team&eventid=6400&teamid=144352&profileid=12477&eventid=6400&teamid=144350#1', hammer_start=False, score=['0', '2', '0', '1', '0', '2', '2', '0', '2', 'X'], final_score='9', draw_num=1, draw='Draw: 1', hammer_progression=[False, False, False, False, False, True, False, False, True, False], relative_score=[0, 0, 2, 2, 3, 2, 4, 6, 3, 5], guid=17030269709905985666285035488407089412),\n",
       " Boxscore(team_name='Sam Steep', href='event.php?view=Team&eventid=6400&teamid=144352&profileid=12477&eventid=6400&teamid=144351&profileid=25978#1', hammer_start=True, score=['0', '0', '0', '0', '1', '0', '0', '3', '0', 'X'], final_score='4', draw_num=1, draw='Draw: 1', hammer_progression=[True, True, True, True, True, False, True, True, False, True], relative_score=[0, 0, -2, -2, -3, -2, -4, -6, -3, -5], guid=17030269709905985666285035488407089412),\n",
       " Boxscore(team_name='Wayne Tuck Jr.', href='event.php?view=Team&eventid=6400&teamid=144353&profileid=12486#1', hammer_start=True, score=['0', '2', '0', '0', '0', '0', '1', '1', '1', '0'], final_score='5', draw_num=2, draw='Draw: 2', hammer_progression=[True, True, False, True, True, True, True, False, False, False], relative_score=[0, 0, 2, -2, -2, -2, -3, -2, -1, 0], guid=313404218084099692187707048891717611105),\n",
       " Boxscore(team_name='Matthew Hall', href='event.php?view=Team&eventid=6400&teamid=144347&profileid=12435#1', hammer_start=False, score=['0', '0', '4', '0', '0', '1', '0', '0', '0', '2'], final_score='7', draw_num=2, draw='Draw: 2', hammer_progression=[False, False, True, False, False, False, False, True, True, True], relative_score=[0, 0, -2, 2, 2, 2, 3, 2, 1, 0], guid=313404218084099692187707048891717611105),\n",
       " Boxscore(team_name='Dayna Deruelle', href='event.php?view=Team&eventid=6400&teamid=144347&profileid=12435&eventid=6400&teamid=144346&profileid=26636#1', hammer_start=False, score=['0', '0', '1', '0', '0', '0', '0', 'X'], final_score='1', draw_num=2, draw='Draw: 2', hammer_progression=[False, False, True, False, True, True, True, True], relative_score=[0, 0, -2, -1, -3, -4, -5, -9], guid=224977155232527024595381121941485598994),\n",
       " Boxscore(team_name='Tyler Stewart', href='event.php?view=Team&eventid=6400&teamid=144347&profileid=12435&eventid=6400&teamid=144352&profileid=12477#1', hammer_start=True, score=['0', '2', '0', '2', '1', '1', '4', 'X'], final_score='10', draw_num=2, draw='Draw: 2', hammer_progression=[True, True, False, True, False, False, False, False], relative_score=[0, 0, 2, 1, 3, 4, 5, 9], guid=224977155232527024595381121941485598994),\n",
       " Boxscore(team_name='Mark Kean', href='event.php?view=Team&eventid=6400&teamid=144352&profileid=12477&eventid=6400&teamid=144348&profileid=25961#1', hammer_start=True, score=['2', '0', '1', '0', '0', '0', '1', '3', 'X'], final_score='7', draw_num=2, draw='Draw: 2', hammer_progression=[True, False, False, False, False, True, True, False, False], relative_score=[0, 2, 2, 3, 3, 1, 0, 1, 4], guid=268773209381266610704731254952653425860),\n",
       " Boxscore(team_name='Jason March', href='event.php?view=Team&eventid=6400&teamid=144352&profileid=12477&eventid=6400&teamid=144350#1', hammer_start=False, score=['0', '0', '0', '0', '2', '1', '0', '0', 'X'], final_score='3', draw_num=2, draw='Draw: 2', hammer_progression=[False, True, True, True, True, False, False, True, True], relative_score=[0, -2, -2, -3, -3, -1, 0, -1, -4], guid=268773209381266610704731254952653425860),\n",
       " Boxscore(team_name='Richard Krell', href='event.php?view=Team&eventid=6400&teamid=144350&profileid=0&eventid=6400&teamid=144349&profileid=25962#1', hammer_start=True, score=['2', '0', '1', '0', '2', '1', '1', 'X'], final_score='7', draw_num=2, draw='Draw: 2', hammer_progression=[True, False, False, False, True, False, False, False], relative_score=[0, 2, 2, 3, 2, 4, 5, 6], guid=336248271082593576004107249057533701469),\n",
       " Boxscore(team_name='Rob Ainsley', href='event.php?view=Team&eventid=6400&teamid=144350&profileid=0&eventid=6400&teamid=144345&profileid=15779#1', hammer_start=False, score=['0', '0', '0', '1', '0', '0', '0', 'X'], final_score='1', draw_num=2, draw='Draw: 2', hammer_progression=[False, True, True, True, False, True, True, True], relative_score=[0, -2, -2, -3, -2, -4, -5, -6], guid=336248271082593576004107249057533701469),\n",
       " Boxscore(team_name='Matthew Hall', href='event.php?view=Team&eventid=6400&teamid=144347&profileid=12435#1', hammer_start=True, score=['0', '0', '2', '1', '2', '1', '0', '2', 'X'], final_score='8', draw_num=3, draw='Draw: 3', hammer_progression=[True, True, True, False, False, False, False, True, False], relative_score=[0, 0, -1, 1, 2, 4, 5, 3, 5], guid=80394010565261168427833483594968521544),\n",
       " Boxscore(team_name='Tyler Stewart', href='event.php?view=Team&eventid=6400&teamid=144352&profileid=12477#1', hammer_start=False, score=['0', '1', '0', '0', '0', '0', '2', '0', 'X'], final_score='3', draw_num=3, draw='Draw: 3', hammer_progression=[False, False, False, True, True, True, True, False, True], relative_score=[0, 0, 1, -1, -2, -4, -5, -3, -5], guid=80394010565261168427833483594968521544),\n",
       " Boxscore(team_name='Mark Kean', href='event.php?view=Team&eventid=6400&teamid=144352&profileid=12477&eventid=6400&teamid=144348&profileid=25961#1', hammer_start=True, score=['0', '5', '0', '1', '1', '1', 'X'], final_score='8', draw_num=3, draw='Draw: 3', hammer_progression=[True, True, False, True, False, False, False], relative_score=[0, -1, 4, 3, 4, 5, 6], guid=119576955346708354006974538451792040897),\n",
       " Boxscore(team_name='Richard Krell', href='event.php?view=Team&eventid=6400&teamid=144352&profileid=12477&eventid=6400&teamid=144349&profileid=25962#1', hammer_start=False, score=['1', '0', '1', '0', '0', '0', 'X'], final_score='2', draw_num=3, draw='Draw: 3', hammer_progression=[False, False, True, False, True, True, True], relative_score=[0, 1, -4, -3, -4, -5, -6], guid=119576955346708354006974538451792040897),\n",
       " Boxscore(team_name='Damien Villard', href='event.php?view=Team&eventid=6400&teamid=144349&profileid=25962&eventid=6400&teamid=144354&profileid=27373#1', hammer_start=True, score=['2', '1', '0', '1', '0', '0', '1', '0', '0', '0'], final_score='5', draw_num=3, draw='Draw: 3', hammer_progression=[True, False, False, True, False, True, True, False, True, True], relative_score=[0, 2, 3, 2, 3, 1, 1, 2, 1, 0], guid=249838339623785495055373784217174441445),\n",
       " Boxscore(team_name='Sam Steep', href='event.php?view=Team&eventid=6400&teamid=144349&profileid=25962&eventid=6400&teamid=144351&profileid=25978#1', hammer_start=False, score=['0', '0', '1', '0', '2', '0', '0', '1', '1', '1'], final_score='6', draw_num=3, draw='Draw: 3', hammer_progression=[False, True, True, False, True, False, False, True, False, False], relative_score=[0, -2, -3, -2, -3, -1, -1, -2, -1, 0], guid=249838339623785495055373784217174441445),\n",
       " Boxscore(team_name='Jason March', href='event.php?view=Team&eventid=6400&teamid=144351&profileid=25978&eventid=6400&teamid=144350#1', hammer_start=True, score=['1', '1', '0', '0', '0', '0', '2', '1', '2', 'X'], final_score='7', draw_num=3, draw='Draw: 3', hammer_progression=[True, False, False, True, True, True, True, False, False, False], relative_score=[0, 1, 2, 1, 0, 0, 0, 2, 3, 5], guid=210696644732545105346666426932076387851),\n",
       " Boxscore(team_name='Matthew Mepstead', href='event.php?view=Team&eventid=6400&teamid=144351&profileid=25978&eventid=6400&teamid=144356#1', hammer_start=False, score=['0', '0', '1', '1', '0', '0', '0', '0', '0', 'X'], final_score='2', draw_num=3, draw='Draw: 3', hammer_progression=[False, True, True, False, False, False, False, True, True, True], relative_score=[0, -1, -2, -1, 0, 0, 0, -2, -3, -5], guid=210696644732545105346666426932076387851),\n",
       " Boxscore(team_name='Wayne Tuck Jr.', href='event.php?view=Team&eventid=6400&teamid=144356&profileid=0&eventid=6400&teamid=144353&profileid=12486#1', hammer_start=False, score=['0', '0', '0', '2', '0', '0', '0', '0', 'X'], final_score='2', draw_num=3, draw='Draw: 3', hammer_progression=[False, True, True, True, False, True, True, True, True], relative_score=[0, -2, -3, -3, -1, -2, -4, -5, -6], guid=241487067026802204703372136757699352731),\n",
       " Boxscore(team_name='Rob Ainsley', href='event.php?view=Team&eventid=6400&teamid=144356&profileid=0&eventid=6400&teamid=144345&profileid=15779#1', hammer_start=True, score=['2', '1', '0', '0', '1', '2', '1', '1', 'X'], final_score='8', draw_num=3, draw='Draw: 3', hammer_progression=[True, False, False, False, True, False, False, False, False], relative_score=[0, 2, 3, 3, 1, 2, 4, 5, 6], guid=241487067026802204703372136757699352731),\n",
       " Boxscore(team_name='Matthew Hall', href='event.php?view=Team&eventid=6400&teamid=144347&profileid=12435#1', hammer_start=True, score=['1', '0', '1', '0', '1', '0', '2', '0', '1', '0'], final_score='6', draw_num=4, draw='Draw: 4', hammer_progression=[True, False, True, False, True, False, True, False, True, False], relative_score=[0, 1, -1, 0, -2, -1, -2, 0, -1, 0], guid=270312357553095148414284107284214840026),\n",
       " Boxscore(team_name='Mark Kean', href='event.php?view=Team&eventid=6400&teamid=144348&profileid=25961#1', hammer_start=False, score=['0', '2', '0', '2', '0', '1', '0', '1', '0', '1'], final_score='7', draw_num=4, draw='Draw: 4', hammer_progression=[False, True, False, True, False, True, False, True, False, True], relative_score=[0, -1, 1, 0, 2, 1, 2, 0, 1, 0], guid=270312357553095148414284107284214840026),\n",
       " Boxscore(team_name='Sam Steep', href='event.php?view=Team&eventid=6400&teamid=144348&profileid=25961&eventid=6400&teamid=144351&profileid=25978#1', hammer_start=False, score=['1', '0', '0', '2', '0', '1', '1', '0', '1', '1'], final_score='7', draw_num=4, draw='Draw: 4', hammer_progression=[False, False, True, True, False, True, False, False, True, False], relative_score=[0, 1, 0, -2, 0, -2, -1, 0, -1, 0], guid=184794641996927884703702998465135153852),\n",
       " Boxscore(team_name='Jason March', href='event.php?view=Team&eventid=6400&teamid=144348&profileid=25961&eventid=6400&teamid=144350#1', hammer_start=True, score=['0', '1', '2', '0', '2', '0', '0', '1', '0', '0'], final_score='6', draw_num=4, draw='Draw: 4', hammer_progression=[True, True, False, False, True, False, True, True, False, True], relative_score=[0, -1, 0, 2, 0, 2, 1, 0, 1, 0], guid=184794641996927884703702998465135153852),\n",
       " Boxscore(team_name='Dayna Deruelle', href='event.php?view=Team&eventid=6400&teamid=144350&profileid=0&eventid=6400&teamid=144346&profileid=26636#1', hammer_start=False, score=['0', '2', '1', '1', '1', '0', '3', 'X'], final_score='8', draw_num=4, draw='Draw: 4', hammer_progression=[False, True, False, False, False, False, True, False], relative_score=[0, -1, 1, 2, 3, 4, 3, 6], guid=266895758911458277527113999576025156800),\n",
       " Boxscore(team_name='Rob Ainsley', href='event.php?view=Team&eventid=6400&teamid=144350&profileid=0&eventid=6400&teamid=144345&profileid=15779#1', hammer_start=True, score=['1', '0', '0', '0', '0', '1', '0', 'X'], final_score='2', draw_num=4, draw='Draw: 4', hammer_progression=[True, False, True, True, True, True, False, True], relative_score=[0, 1, -1, -2, -3, -4, -3, -6], guid=266895758911458277527113999576025156800),\n",
       " Boxscore(team_name='Sam Steep', href='event.php?view=Team&eventid=6400&teamid=144351&profileid=25978#1', hammer_start=False, score=['0', '1', '0', '0', '0', '2', '0', '2', '0', '0'], final_score='5', draw_num=5, draw='Draw: 5', hammer_progression=[False, False, False, True, True, True, False, True, False, False], relative_score=[0, 0, 1, 0, -1, -3, -1, -3, -1, -1], guid=136987304340129398442436470707928288628),\n",
       " Boxscore(team_name='Richard Krell', href='event.php?view=Team&eventid=6400&teamid=144349&profileid=25962#1', hammer_start=True, score=['0', '0', '1', '1', '2', '0', '2', '0', '0', '1'], final_score='7', draw_num=5, draw='Draw: 5', hammer_progression=[True, True, True, False, False, False, True, False, True, True], relative_score=[0, 0, -1, 0, 1, 3, 1, 3, 1, 1], guid=136987304340129398442436470707928288628),\n",
       " Boxscore(team_name='Dayna Deruelle', href='event.php?view=Team&eventid=6400&teamid=144349&profileid=25962&eventid=6400&teamid=144346&profileid=26636#1', hammer_start=False, score=['0', '0', '1', '0', '0', '0', '1', '0', '3', '1', '0'], final_score='6', draw_num=5, draw='Draw: 5', hammer_progression=[False, True, True, False, True, True, True, False, True, False, False], relative_score=[0, -1, -1, 0, -1, -1, -3, -2, -4, -1, 0], guid=177734897905324649583176141792839670599),\n",
       " Boxscore(team_name='Tyler Stewart', href='event.php?view=Team&eventid=6400&teamid=144349&profileid=25962&eventid=6400&teamid=144352&profileid=12477#1', hammer_start=True, score=['1', '0', '0', '1', '0', '2', '0', '2', '0', '0', '1'], final_score='7', draw_num=5, draw='Draw: 5', hammer_progression=[True, False, False, True, False, False, False, True, False, True, True], relative_score=[0, 1, 1, 0, 1, 1, 3, 2, 4, 1, 0], guid=177734897905324649583176141792839670599),\n",
       " Boxscore(team_name='Richard Krell', href='event.php?view=Team&eventid=6400&teamid=144349&profileid=25962#1', hammer_start=False, score=['0', '0', '1', '1', '0', '0', '1', '0', 'X'], final_score='3', draw_num=6, draw='Draw: 6', hammer_progression=[False, False, True, False, False, True, True, False, True], relative_score=[0, 0, -2, -1, 0, -2, -5, -4, -5], guid=14986686141022873231469018358016050284),\n",
       " Boxscore(team_name='Tyler Stewart', href='event.php?view=Team&eventid=6400&teamid=144352&profileid=12477#1', hammer_start=True, score=['0', '2', '0', '0', '2', '3', '0', '1', 'X'], final_score='8', draw_num=6, draw='Draw: 6', hammer_progression=[True, True, False, True, True, False, False, True, False], relative_score=[0, 0, 2, 1, 0, 2, 5, 4, 5], guid=14986686141022873231469018358016050284),\n",
       " Boxscore(team_name='Tyler Stewart', href='event.php?view=Team&eventid=6400&teamid=144352&profileid=12477#1', hammer_start=False, score=['0', '0', '1', '1', '0', '3', '0', '0', '1', '0'], final_score='6', draw_num=7, draw='Draw: 7', hammer_progression=[False, False, True, False, False, True, False, False, True, False], relative_score=[0, 0, -1, 0, 1, -2, 1, 1, 0, 1], guid=33575543948478163326703320936787390518),\n",
       " Boxscore(team_name='Matthew Hall', href='event.php?view=Team&eventid=6400&teamid=144347&profileid=12435#1', hammer_start=True, score=['0', '1', '0', '0', '3', '0', '0', '1', '0', '2'], final_score='7', draw_num=7, draw='Draw: 7', hammer_progression=[True, True, False, True, True, False, True, True, False, True], relative_score=[0, 0, 1, 0, -1, 2, -1, -1, 0, -1], guid=33575543948478163326703320936787390518)]"
      ]
     },
     "execution_count": 17,
     "metadata": {},
     "output_type": "execute_result"
    }
   ],
   "source": [
    "event.get_flat_boxscores(flat=False)"
   ]
  },
  {
   "cell_type": "code",
   "execution_count": 18,
   "metadata": {},
   "outputs": [
    {
     "data": {
      "text/plain": [
       "Boxscore(team_name='Damien Villard', href='event.php?view=Team&eventid=6400&teamid=144354&profileid=27373#1', hammer_start=True, score=['0', '0', '0', '0', 'X'], final_score='0', draw_num=1, draw='Draw: 1', hammer_progression=[True, True, True, True, True], relative_score=[0, -1, -4, -6, -8], guid=43389014760302404335281282239904734529)"
      ]
     },
     "execution_count": 18,
     "metadata": {},
     "output_type": "execute_result"
    }
   ],
   "source": [
    "event.get_flat_boxscores()[0]"
   ]
  },
  {
   "cell_type": "code",
   "execution_count": 19,
   "metadata": {},
   "outputs": [
    {
     "data": {
      "text/plain": [
       "Boxscore(team_name='Matthew Hall', href='event.php?view=Team&eventid=6400&teamid=144347&profileid=12435#1', hammer_start=True, score=['0', '1', '0', '0', '3', '0', '0', '1', '0', '2'], final_score='7', draw_num=7, draw='Draw: 7', hammer_progression=[True, True, False, True, True, False, True, True, False, True], relative_score=[0, 0, 1, 0, -1, 2, -1, -1, 0, -1], guid=33575543948478163326703320936787390518)"
      ]
     },
     "execution_count": 19,
     "metadata": {},
     "output_type": "execute_result"
    }
   ],
   "source": [
    "event.get_flat_boxscores()[-1]"
   ]
  },
  {
   "attachments": {},
   "cell_type": "markdown",
   "metadata": {},
   "source": [
    "## About czapi\n",
    "czapi is a Python library for scraping curling linescores."
   ]
  }
 ],
 "metadata": {
  "kernelspec": {
   "display_name": "Python 3 (ipykernel)",
   "language": "python",
   "name": "python3"
  },
  "language_info": {
   "codemirror_mode": {
    "name": "ipython",
    "version": 3
   },
   "file_extension": ".py",
   "mimetype": "text/x-python",
   "name": "python",
   "nbconvert_exporter": "python",
   "pygments_lexer": "ipython3",
   "version": "3.7.9"
  }
 },
 "nbformat": 4,
 "nbformat_minor": 2
}
