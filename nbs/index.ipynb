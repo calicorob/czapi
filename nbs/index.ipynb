{
 "cells": [
  {
   "cell_type": "markdown",
   "metadata": {},
   "source": [
    "# Welcome to czapi\n",
    "\n",
    "> A basic API for scraping curling boxscores off of the popular [CurlingZone](https://www.curlingzone.com) website. "
   ]
  },
  {
   "cell_type": "markdown",
   "metadata": {},
   "source": [
    "## Install"
   ]
  },
  {
   "cell_type": "markdown",
   "metadata": {},
   "source": [
    "Not implemented yet :)"
   ]
  },
  {
   "cell_type": "markdown",
   "metadata": {},
   "source": [
    "## How to use"
   ]
  },
  {
   "cell_type": "code",
   "execution_count": null,
   "metadata": {},
   "outputs": [
    {
     "data": {
      "text/plain": [
       "defaultdict(list,\n",
       "            {'Wayne Tuck Jr.': defaultdict(list,\n",
       "                         {'href': 'event.php?view=Team&eventid=6400&teamid=144353&profileid=12486#1',\n",
       "                          'hammer': True,\n",
       "                          'score': ['0',\n",
       "                           '2',\n",
       "                           '0',\n",
       "                           '0',\n",
       "                           '0',\n",
       "                           '0',\n",
       "                           '1',\n",
       "                           '1',\n",
       "                           '1',\n",
       "                           '0'],\n",
       "                          'finalscore': '5'}),\n",
       "             'Matthew Hall': defaultdict(list,\n",
       "                         {'href': 'event.php?view=Team&eventid=6400&teamid=144347&profileid=12435#1',\n",
       "                          'hammer': False,\n",
       "                          'score': ['0',\n",
       "                           '0',\n",
       "                           '4',\n",
       "                           '0',\n",
       "                           '0',\n",
       "                           '1',\n",
       "                           '0',\n",
       "                           '0',\n",
       "                           '0',\n",
       "                           '2'],\n",
       "                          'finalscore': '7'})})"
      ]
     },
     "execution_count": null,
     "metadata": {},
     "output_type": "execute_result"
    }
   ],
   "source": [
    "import czapi.api as api\n",
    "\n",
    "game_result_dict = api.get_boxscore_from_game_id(cz_game_id = 271145)\n",
    "game_result_dict"
   ]
  },
  {
   "cell_type": "markdown",
   "metadata": {},
   "source": [
    "> Output above should match the results from [here](https://curlingzone.com/game.php?1=1&showgameid=271145#1)."
   ]
  }
 ],
 "metadata": {
  "kernelspec": {
   "display_name": "Python 3 (ipykernel)",
   "language": "python",
   "name": "python3"
  }
 },
 "nbformat": 4,
 "nbformat_minor": 2
}
