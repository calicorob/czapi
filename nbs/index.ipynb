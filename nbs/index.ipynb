{
 "cells": [
  {
   "cell_type": "markdown",
   "metadata": {},
   "source": [
    "# Welcome to czapi\n",
    "\n",
    "> A basic API for scraping curling boxscores off of the popular [CurlingZone](https://www.curlingzone.com) website. "
   ]
  },
  {
   "cell_type": "markdown",
   "metadata": {},
   "source": [
    "## Install"
   ]
  },
  {
   "cell_type": "markdown",
   "metadata": {},
   "source": [
    "```\n",
    "pip install czapi\n",
    "```"
   ]
  },
  {
   "cell_type": "markdown",
   "metadata": {},
   "source": [
    "## How to use"
   ]
  },
  {
   "cell_type": "code",
   "execution_count": 1,
   "metadata": {},
   "outputs": [],
   "source": [
    "import czapi.api as api"
   ]
  },
  {
   "cell_type": "code",
   "execution_count": 2,
   "metadata": {},
   "outputs": [
    {
     "name": "stderr",
     "output_type": "stream",
     "text": [
      "c:\\users\\0rc44\\documents\\github\\czapi\\czapi\\core\\scraping\\base.py:37: GuessedAtParserWarning: No parser was explicitly specified, so I'm using the best available HTML parser for this system (\"html.parser\"). This usually isn't a problem, but if you run this code on another system, or in a different virtual environment, it may use a different parser and behave differently.\n",
      "\n",
      "The code that caused this warning is on line 37 of the file c:\\users\\0rc44\\documents\\github\\czapi\\czapi\\core\\scraping\\base.py. To get rid of this warning, pass the additional argument 'features=\"html.parser\"' to the BeautifulSoup constructor.\n",
      "\n",
      "  return BeautifulSoup(response.content,**kwargs)\n"
     ]
    },
    {
     "data": {
      "text/plain": [
       "[defaultdict(list,\n",
       "             {'Rob Retchless': defaultdict(list,\n",
       "                          {'href': 'event.php?view=Team&eventid=5000&teamid=114936&profileid=9625#1',\n",
       "                           'hammer': True,\n",
       "                           'score': ['2', '0', '0', '0', 'X', '', '', ''],\n",
       "                           'finalscore': '2'}),\n",
       "              'Jordan Chandler': defaultdict(list,\n",
       "                          {'href': 'event.php?view=Team&eventid=5000&teamid=114942&profileid=9627#1',\n",
       "                           'hammer': False,\n",
       "                           'score': ['0', '1', '3', '3', 'X', '', '', ''],\n",
       "                           'finalscore': '7'})}),\n",
       " defaultdict(list,\n",
       "             {'Charlie Robert': defaultdict(list,\n",
       "                          {'href': 'event.php?view=Team&eventid=5000&teamid=114939&profileid=10028#1',\n",
       "                           'hammer': True,\n",
       "                           'score': ['1', '0', '0', '0', '1', 'X', 'X', ''],\n",
       "                           'finalscore': '2'}),\n",
       "              'Brent Ross': defaultdict(list,\n",
       "                          {'href': 'event.php?view=Team&eventid=5000&teamid=114949&profileid=9887#1',\n",
       "                           'hammer': False,\n",
       "                           'score': ['0', '2', '1', '1', '0', 'X', 'X', ''],\n",
       "                           'finalscore': '4'})}),\n",
       " defaultdict(list,\n",
       "             {'John Willsey': defaultdict(list,\n",
       "                          {'href': 'event.php?view=Team&eventid=5000&teamid=114940&profileid=9707#1',\n",
       "                           'hammer': False,\n",
       "                           'score': ['0',\n",
       "                            '0',\n",
       "                            '0',\n",
       "                            '1',\n",
       "                            '0',\n",
       "                            '3',\n",
       "                            '0',\n",
       "                            '1',\n",
       "                            'X'],\n",
       "                           'finalscore': '5'}),\n",
       "              'ShopWoodstock.com': defaultdict(list,\n",
       "                          {'href': 'event.php?view=Team&eventid=5000&teamid=114952&profileid=9703#1',\n",
       "                           'hammer': True,\n",
       "                           'score': ['0',\n",
       "                            '1',\n",
       "                            '0',\n",
       "                            '0',\n",
       "                            '0',\n",
       "                            '0',\n",
       "                            '1',\n",
       "                            '0',\n",
       "                            'X'],\n",
       "                           'finalscore': '2'})}),\n",
       " defaultdict(list,\n",
       "             {'Wayne Tuck Jr.': defaultdict(list,\n",
       "                          {'href': 'event.php?view=Team&eventid=5000&teamid=114937&profileid=9716#1',\n",
       "                           'hammer': False,\n",
       "                           'score': ['0', '0', '2', '2', '0', '0', '2', 'X'],\n",
       "                           'finalscore': '6'}),\n",
       "              'Charlie Richard': defaultdict(list,\n",
       "                          {'href': 'event.php?view=Team&eventid=5000&teamid=114958#1',\n",
       "                           'hammer': True,\n",
       "                           'score': ['0', '2', '0', '0', '0', '2', '0', 'X'],\n",
       "                           'finalscore': '4'})}),\n",
       " defaultdict(list,\n",
       "             {'Connor Duhaime': defaultdict(list,\n",
       "                          {'href': 'event.php?view=Team&eventid=5000&teamid=114946&profileid=9629#1',\n",
       "                           'hammer': False,\n",
       "                           'score': ['0', '0', '0', '0', 'X', '', '', ''],\n",
       "                           'finalscore': '0'}),\n",
       "              'Daryl Shane': defaultdict(list,\n",
       "                          {'href': 'event.php?view=Team&eventid=5000&teamid=114941&profileid=9762#1',\n",
       "                           'hammer': True,\n",
       "                           'score': ['1', '1', '3', '1', 'X', '', '', ''],\n",
       "                           'finalscore': '6'})})]"
      ]
     },
     "execution_count": 2,
     "metadata": {},
     "output_type": "execute_result"
    }
   ],
   "source": [
    "linescore_page = api.LinescorePage(cz_event_id = 5000, cz_draw_id = 1)\n",
    "\n",
    "linescore_page.boxscores"
   ]
  },
  {
   "cell_type": "markdown",
   "metadata": {},
   "source": [
    "## About czapi\n",
    "czapi is a Python library for scraping curling linescores."
   ]
  }
 ],
 "metadata": {
  "kernelspec": {
   "display_name": "Python 3 (ipykernel)",
   "language": "python",
   "name": "python3"
  },
  "language_info": {
   "codemirror_mode": {
    "name": "ipython",
    "version": 3
   },
   "file_extension": ".py",
   "mimetype": "text/x-python",
   "name": "python",
   "nbconvert_exporter": "python",
   "pygments_lexer": "ipython3",
   "version": "3.7.9"
  }
 },
 "nbformat": 4,
 "nbformat_minor": 2
}
