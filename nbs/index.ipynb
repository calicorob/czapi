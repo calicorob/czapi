{
 "cells": [
  {
   "cell_type": "markdown",
   "metadata": {},
   "source": [
    "# Welcome to czapi\n",
    "\n",
    "> A basic API for scraping curling boxscores off of the popular [CurlingZone](https://www.curlingzone.com) website. "
   ]
  },
  {
   "cell_type": "markdown",
   "metadata": {},
   "source": [
    "## Install"
   ]
  },
  {
   "cell_type": "markdown",
   "metadata": {},
   "source": [
    "```\n",
    "pip install czapi\n",
    "```"
   ]
  },
  {
   "cell_type": "markdown",
   "metadata": {},
   "source": [
    "## How to use"
   ]
  },
  {
   "cell_type": "code",
   "execution_count": 9,
   "metadata": {},
   "outputs": [],
   "source": [
    "import czapi.api as api"
   ]
  },
  {
   "cell_type": "markdown",
   "metadata": {},
   "source": [
    "## LinescorePage\n",
    "czapi is based around the `LinescorePage` object which represents a linescore page on the CurlingZone website. \n",
    "\n",
    "Click [here](https://curlingzone.com/event.php?view=Scores&eventid=7795#1) to see an example linescore page.\n",
    "\n",
    "Creating an instance of the `LinescorePage` class gives access to every boxscore on that linescore page."
   ]
  },
  {
   "cell_type": "code",
   "execution_count": 10,
   "metadata": {},
   "outputs": [],
   "source": [
    "linescore_page = api.LinescorePage(cz_event_id = 6400, cz_draw_id = 2)"
   ]
  },
  {
   "cell_type": "markdown",
   "metadata": {},
   "source": [
    "The `cz_event_id` and `cz_draw_id` arguments are found in the CurlingZone URL. \n",
    "\n",
    "Here's an example:\n",
    "\n",
    "\n",
    "> ht<span>t</span>ps://curlingzone.com/event.php?**eventid=7795**&view=Scores&show**drawid=21**#1"
   ]
  },
  {
   "cell_type": "markdown",
   "metadata": {},
   "source": [
    "The boxscores on the linescore page can be accessed through the `boxscores` property which returns a list of boxscores."
   ]
  },
  {
   "cell_type": "code",
   "execution_count": 11,
   "metadata": {},
   "outputs": [
    {
     "data": {
      "text/plain": [
       "[{'Wayne Tuck Jr.': {'href': 'event.php?view=Team&eventid=6400&teamid=144353&profileid=12486#1',\n",
       "   'score': ['0', '2', '0', '0', '0', '0', '1', '1', '1', '0'],\n",
       "   'hammer': True,\n",
       "   'finalscore': '5'},\n",
       "  'Matthew Hall': {'href': 'event.php?view=Team&eventid=6400&teamid=144347&profileid=12435#1',\n",
       "   'score': ['0', '0', '4', '0', '0', '1', '0', '0', '0', '2'],\n",
       "   'hammer': False,\n",
       "   'finalscore': '7'}},\n",
       " {'Dayna Deruelle': {'href': 'event.php?view=Team&eventid=6400&teamid=144347&profileid=12435&eventid=6400&teamid=144346&profileid=26636#1',\n",
       "   'score': ['0', '0', '1', '0', '0', '0', '0', 'X'],\n",
       "   'hammer': False,\n",
       "   'finalscore': '1'},\n",
       "  'Tyler Stewart': {'href': 'event.php?view=Team&eventid=6400&teamid=144347&profileid=12435&eventid=6400&teamid=144352&profileid=12477#1',\n",
       "   'score': ['0', '2', '0', '2', '1', '1', '4', 'X'],\n",
       "   'hammer': True,\n",
       "   'finalscore': '10'}},\n",
       " {'Mark Kean': {'href': 'event.php?view=Team&eventid=6400&teamid=144352&profileid=12477&eventid=6400&teamid=144348&profileid=25961#1',\n",
       "   'score': ['2', '0', '1', '0', '0', '0', '1', '3', 'X'],\n",
       "   'hammer': True,\n",
       "   'finalscore': '7'},\n",
       "  'Jason March': {'href': 'event.php?view=Team&eventid=6400&teamid=144352&profileid=12477&eventid=6400&teamid=144350#1',\n",
       "   'score': ['0', '0', '0', '0', '2', '1', '0', '0', 'X'],\n",
       "   'hammer': False,\n",
       "   'finalscore': '3'}},\n",
       " {'Richard Krell': {'href': 'event.php?view=Team&eventid=6400&teamid=144350&profileid=0&eventid=6400&teamid=144349&profileid=25962#1',\n",
       "   'score': ['2', '0', '1', '0', '2', '1', '1', 'X'],\n",
       "   'hammer': True,\n",
       "   'finalscore': '7'},\n",
       "  'Rob Ainsley': {'href': 'event.php?view=Team&eventid=6400&teamid=144350&profileid=0&eventid=6400&teamid=144345&profileid=15779#1',\n",
       "   'score': ['0', '0', '0', '1', '0', '0', '0', 'X'],\n",
       "   'hammer': False,\n",
       "   'finalscore': '1'}}]"
      ]
     },
     "execution_count": 11,
     "metadata": {},
     "output_type": "execute_result"
    }
   ],
   "source": [
    "linescore_page.boxscores"
   ]
  },
  {
   "cell_type": "markdown",
   "metadata": {},
   "source": [
    "A boxscore is returned as a dictionary of team names, game information dictionary key, value pairs.\n",
    "\n",
    "Each game information dictionary contains:\n",
    "\n",
    "* 'href' key with a corresponding string value of CurlingZone IDs identifying the team.\n",
    "* 'hammer' key with corresponding boolean value of whether or not that team started the game with hammer.\n",
    "* 'score' key with corresponding list of string value of end-by-end results for that team.\n",
    "* 'finalscore' key with corresponding final score for the team.\n",
    "\n",
    "Individual boxscores can be accessed through the `get_boxscore_from` method."
   ]
  },
  {
   "cell_type": "code",
   "execution_count": 12,
   "metadata": {},
   "outputs": [
    {
     "data": {
      "text/plain": [
       "{'Wayne Tuck Jr.': {'href': 'event.php?view=Team&eventid=6400&teamid=144353&profileid=12486#1',\n",
       "  'score': ['0', '2', '0', '0', '0', '0', '1', '1', '1', '0'],\n",
       "  'hammer': True,\n",
       "  'finalscore': '5'},\n",
       " 'Matthew Hall': {'href': 'event.php?view=Team&eventid=6400&teamid=144347&profileid=12435#1',\n",
       "  'score': ['0', '0', '4', '0', '0', '1', '0', '0', '0', '2'],\n",
       "  'hammer': False,\n",
       "  'finalscore': '7'}}"
      ]
     },
     "execution_count": 12,
     "metadata": {},
     "output_type": "execute_result"
    }
   ],
   "source": [
    "boxscore = linescore_page.get_boxscore_from(cz_game_id = 1)\n",
    "boxscore"
   ]
  },
  {
   "cell_type": "markdown",
   "metadata": {},
   "source": [
    "`cz_game_id` argument corresponds to the number the boxscore appears in on the linescore page."
   ]
  },
  {
   "cell_type": "markdown",
   "metadata": {},
   "source": [
    "The LinescorePage object contains these properties which details information on the boxscores:\n",
    "\n",
    "* event_name\n",
    "* event_date\n",
    "* draw"
   ]
  },
  {
   "cell_type": "code",
   "execution_count": 13,
   "metadata": {},
   "outputs": [
    {
     "name": "stdout",
     "output_type": "stream",
     "text": [
      "Ontario Tankard - Open Qualifier , Jan 17 - 19, 2020 , Draw: 2\n"
     ]
    }
   ],
   "source": [
    "print(linescore_page.event_name,',',linescore_page.event_date,',' ,linescore_page.draw)"
   ]
  },
  {
   "cell_type": "markdown",
   "metadata": {},
   "source": [
    "For convenience, upon instantiation of a `LinescorePage` object, a `NormalizedBoxscore` instance for each boxscore is created. A `NormalizedBoxscore` holds the same information as a boxscore dictionary with two new pieces of information added: \n",
    "1. The hammer progression for both teams throughout the game, i.e. who had hammer in what end.\n",
    "2. Each team's relative score, i.e. who was up/down X after end Y."
   ]
  },
  {
   "cell_type": "code",
   "execution_count": 14,
   "metadata": {},
   "outputs": [
    {
     "data": {
      "text/plain": [
       "NormalizedBoxscore(boxscore={'Wayne Tuck Jr.': {'href': 'event.php?view=Team&eventid=6400&teamid=144353&profileid=12486#1', 'score': ['0', '2', '0', '0', '0', '0', '1', '1', '1', '0'], 'hammer': True, 'finalscore': '5'}, 'Matthew Hall': {'href': 'event.php?view=Team&eventid=6400&teamid=144347&profileid=12435#1', 'score': ['0', '0', '4', '0', '0', '1', '0', '0', '0', '2'], 'hammer': False, 'finalscore': '7'}})"
      ]
     },
     "execution_count": 14,
     "metadata": {},
     "output_type": "execute_result"
    }
   ],
   "source": [
    "normalized_boxscore = linescore_page.get_normalized_boxscore_from(cz_game_id = 1)\n",
    "normalized_boxscore"
   ]
  },
  {
   "cell_type": "markdown",
   "metadata": {},
   "source": [
    "A `NormalizedBoxscore` object holds two `NormalizedHalfBoxscore` instances. "
   ]
  },
  {
   "cell_type": "code",
   "execution_count": 15,
   "metadata": {},
   "outputs": [
    {
     "data": {
      "text/plain": [
       "NormalizedHalfBoxscore(team_name='Wayne Tuck Jr.', href='event.php?view=Team&eventid=6400&teamid=144353&profileid=12486#1', hammer=True, score=['0', '2', '0', '0', '0', '0', '1', '1', '1', '0'], finalscore='5', hammer_progression=[True, True, False, True, True, True, True, False, False, False], normalized_score=[0, 0, 2, -2, -2, -2, -3, -2, -1, 0])"
      ]
     },
     "execution_count": 15,
     "metadata": {},
     "output_type": "execute_result"
    }
   ],
   "source": [
    "normalized_boxscore.normalized_half_boxscore_pair[0]"
   ]
  },
  {
   "cell_type": "markdown",
   "metadata": {},
   "source": [
    "For Wayne Tuck Jr. the `hammer_progression` attribute can be interpreted as follows: \n",
    "\n",
    "* End 1: Wayne had hammer\n",
    "* End 2: Wayne had hammer\n",
    "* End 3: Wayne didn't have hammer\n",
    "* And so on and so forth.."
   ]
  },
  {
   "cell_type": "code",
   "execution_count": 16,
   "metadata": {},
   "outputs": [
    {
     "data": {
      "text/plain": [
       "NormalizedHalfBoxscore(team_name='Matthew Hall', href='event.php?view=Team&eventid=6400&teamid=144347&profileid=12435#1', hammer=False, score=['0', '0', '4', '0', '0', '1', '0', '0', '0', '2'], finalscore='7', hammer_progression=[False, False, True, False, False, False, False, True, True, True], normalized_score=[0, 0, -2, 2, 2, 2, 3, 2, 1, 0])"
      ]
     },
     "execution_count": 16,
     "metadata": {},
     "output_type": "execute_result"
    }
   ],
   "source": [
    "normalized_boxscore.normalized_half_boxscore_pair[-1]"
   ]
  },
  {
   "cell_type": "markdown",
   "metadata": {},
   "source": [
    "For Matthew Hall, the `normalized_score` attribute can be interpreted as follows:\n",
    "\n",
    "* The score was tied in the first end (obviously).\n",
    "* The score was tied in the second end.\n",
    "* In the 3rd end, Matthew was down 2.\n",
    "* In the 4th end, Matthew was up 2 after taking 4.\n",
    "* And so on and so forth.."
   ]
  },
  {
   "cell_type": "markdown",
   "metadata": {},
   "source": [
    "You'll also notice the `NormalizedBoxscore` object has a guid property which identifies that two `NormalizedHalfBoxscore` belong to the same game."
   ]
  },
  {
   "cell_type": "code",
   "execution_count": 17,
   "metadata": {},
   "outputs": [
    {
     "data": {
      "text/plain": [
       "138077201045659598503586885217589832745"
      ]
     },
     "execution_count": 17,
     "metadata": {},
     "output_type": "execute_result"
    }
   ],
   "source": [
    "normalized_boxscore.guid"
   ]
  },
  {
   "cell_type": "markdown",
   "metadata": {},
   "source": [
    "czapi's `get_flat_boxscores_from` function takes a `cz_event_id` and `cz_draw_id` as an arguments and returns a (flat) nested list object of all the boxscore information on the linescore page. This nested list object can be ingested into a pandas DataFrame or pushed to a SQL database."
   ]
  },
  {
   "cell_type": "code",
   "execution_count": 18,
   "metadata": {},
   "outputs": [
    {
     "data": {
      "text/plain": [
       "[('Wayne Tuck Jr.',\n",
       "  'event.php?view=Team&eventid=6400&teamid=144353&profileid=12486#1',\n",
       "  True,\n",
       "  ['0', '2', '0', '0', '0', '0', '1', '1', '1', '0'],\n",
       "  '5',\n",
       "  [True, True, False, True, True, True, True, False, False, False],\n",
       "  [0, 0, 2, -2, -2, -2, -3, -2, -1, 0],\n",
       "  303512780053662978549921974368827460012),\n",
       " ('Matthew Hall',\n",
       "  'event.php?view=Team&eventid=6400&teamid=144347&profileid=12435#1',\n",
       "  False,\n",
       "  ['0', '0', '4', '0', '0', '1', '0', '0', '0', '2'],\n",
       "  '7',\n",
       "  [False, False, True, False, False, False, False, True, True, True],\n",
       "  [0, 0, -2, 2, 2, 2, 3, 2, 1, 0],\n",
       "  303512780053662978549921974368827460012),\n",
       " ('Dayna Deruelle',\n",
       "  'event.php?view=Team&eventid=6400&teamid=144347&profileid=12435&eventid=6400&teamid=144346&profileid=26636#1',\n",
       "  False,\n",
       "  ['0', '0', '1', '0', '0', '0', '0', 'X'],\n",
       "  '1',\n",
       "  [False, False, True, False, True, True, True, True],\n",
       "  [0, 0, -2, -1, -3, -4, -5, -9],\n",
       "  24327381068296329695831492444794887720),\n",
       " ('Tyler Stewart',\n",
       "  'event.php?view=Team&eventid=6400&teamid=144347&profileid=12435&eventid=6400&teamid=144352&profileid=12477#1',\n",
       "  True,\n",
       "  ['0', '2', '0', '2', '1', '1', '4', 'X'],\n",
       "  '10',\n",
       "  [True, True, False, True, False, False, False, False],\n",
       "  [0, 0, 2, 1, 3, 4, 5, 9],\n",
       "  24327381068296329695831492444794887720),\n",
       " ('Mark Kean',\n",
       "  'event.php?view=Team&eventid=6400&teamid=144352&profileid=12477&eventid=6400&teamid=144348&profileid=25961#1',\n",
       "  True,\n",
       "  ['2', '0', '1', '0', '0', '0', '1', '3', 'X'],\n",
       "  '7',\n",
       "  [True, False, False, False, False, True, True, False, False],\n",
       "  [0, 2, 2, 3, 3, 1, 0, 1, 4],\n",
       "  11040922515013400502844833498084554338),\n",
       " ('Jason March',\n",
       "  'event.php?view=Team&eventid=6400&teamid=144352&profileid=12477&eventid=6400&teamid=144350#1',\n",
       "  False,\n",
       "  ['0', '0', '0', '0', '2', '1', '0', '0', 'X'],\n",
       "  '3',\n",
       "  [False, True, True, True, True, False, False, True, True],\n",
       "  [0, -2, -2, -3, -3, -1, 0, -1, -4],\n",
       "  11040922515013400502844833498084554338),\n",
       " ('Richard Krell',\n",
       "  'event.php?view=Team&eventid=6400&teamid=144350&profileid=0&eventid=6400&teamid=144349&profileid=25962#1',\n",
       "  True,\n",
       "  ['2', '0', '1', '0', '2', '1', '1', 'X'],\n",
       "  '7',\n",
       "  [True, False, False, False, True, False, False, False],\n",
       "  [0, 2, 2, 3, 2, 4, 5, 6],\n",
       "  202271151179417038562223944530262736402),\n",
       " ('Rob Ainsley',\n",
       "  'event.php?view=Team&eventid=6400&teamid=144350&profileid=0&eventid=6400&teamid=144345&profileid=15779#1',\n",
       "  False,\n",
       "  ['0', '0', '0', '1', '0', '0', '0', 'X'],\n",
       "  '1',\n",
       "  [False, True, True, True, False, True, True, True],\n",
       "  [0, -2, -2, -3, -2, -4, -5, -6],\n",
       "  202271151179417038562223944530262736402)]"
      ]
     },
     "execution_count": 18,
     "metadata": {},
     "output_type": "execute_result"
    }
   ],
   "source": [
    "api.get_flat_boxscores_from(cz_event_id = 6400, cz_draw_id = 2)"
   ]
  },
  {
   "cell_type": "markdown",
   "metadata": {},
   "source": [
    "## Event"
   ]
  },
  {
   "cell_type": "markdown",
   "metadata": {},
   "source": [
    "The `Event` object is a data structure which holds all of the `LinescorePage` objects which make up an entire event. \n",
    "\n",
    "An `Event` instance is created by passing a `cz_event_id`."
   ]
  },
  {
   "cell_type": "code",
   "execution_count": 19,
   "metadata": {},
   "outputs": [
    {
     "name": "stdout",
     "output_type": "stream",
     "text": [
      "Scraping draw 1.\n",
      "Scraping draw 2.\n",
      "Scraping draw 3.\n",
      "Scraping draw 4.\n",
      "Scraping draw 5.\n",
      "Scraping draw 6.\n",
      "Scraping draw 7.\n"
     ]
    },
    {
     "data": {
      "text/plain": [
       "Event(cz_event_id=6400, delay=3, verbose=True)"
      ]
     },
     "execution_count": 19,
     "metadata": {},
     "output_type": "execute_result"
    }
   ],
   "source": [
    "event = api.Event(cz_event_id = 6400,delay=3,verbose=True)\n",
    "event"
   ]
  },
  {
   "cell_type": "markdown",
   "metadata": {},
   "source": [
    "The created `Event` objects holds all the `LinescorePage` objects in it's `pages` property."
   ]
  },
  {
   "cell_type": "code",
   "execution_count": 20,
   "metadata": {},
   "outputs": [
    {
     "data": {
      "text/plain": [
       "[LinescorePage(cz_event_id=6400, cz_draw_id=1),\n",
       " LinescorePage(cz_event_id=6400, cz_draw_id=2),\n",
       " LinescorePage(cz_event_id=6400, cz_draw_id=3),\n",
       " LinescorePage(cz_event_id=6400, cz_draw_id=4),\n",
       " LinescorePage(cz_event_id=6400, cz_draw_id=5),\n",
       " LinescorePage(cz_event_id=6400, cz_draw_id=6),\n",
       " LinescorePage(cz_event_id=6400, cz_draw_id=7)]"
      ]
     },
     "execution_count": 20,
     "metadata": {},
     "output_type": "execute_result"
    }
   ],
   "source": [
    "event.pages"
   ]
  },
  {
   "cell_type": "markdown",
   "metadata": {},
   "source": [
    "Details about specific draws can be accessed by grabbing the correct LinescorePage."
   ]
  },
  {
   "cell_type": "code",
   "execution_count": 21,
   "metadata": {},
   "outputs": [
    {
     "data": {
      "text/plain": [
       "LinescorePage(cz_event_id=6400, cz_draw_id=3)"
      ]
     },
     "execution_count": 21,
     "metadata": {},
     "output_type": "execute_result"
    }
   ],
   "source": [
    "event.pages[2]"
   ]
  },
  {
   "cell_type": "code",
   "execution_count": 22,
   "metadata": {},
   "outputs": [
    {
     "data": {
      "text/plain": [
       "[{'Matthew Hall': {'href': 'event.php?view=Team&eventid=6400&teamid=144347&profileid=12435#1',\n",
       "   'score': ['0', '0', '2', '1', '2', '1', '0', '2', 'X'],\n",
       "   'hammer': True,\n",
       "   'finalscore': '8'},\n",
       "  'Tyler Stewart': {'href': 'event.php?view=Team&eventid=6400&teamid=144352&profileid=12477#1',\n",
       "   'score': ['0', '1', '0', '0', '0', '0', '2', '0', 'X'],\n",
       "   'hammer': False,\n",
       "   'finalscore': '3'}},\n",
       " {'Mark Kean': {'href': 'event.php?view=Team&eventid=6400&teamid=144352&profileid=12477&eventid=6400&teamid=144348&profileid=25961#1',\n",
       "   'score': ['0', '5', '0', '1', '1', '1', 'X'],\n",
       "   'hammer': True,\n",
       "   'finalscore': '8'},\n",
       "  'Richard Krell': {'href': 'event.php?view=Team&eventid=6400&teamid=144352&profileid=12477&eventid=6400&teamid=144349&profileid=25962#1',\n",
       "   'score': ['1', '0', '1', '0', '0', '0', 'X'],\n",
       "   'hammer': False,\n",
       "   'finalscore': '2'}},\n",
       " {'Damien Villard': {'href': 'event.php?view=Team&eventid=6400&teamid=144349&profileid=25962&eventid=6400&teamid=144354&profileid=27373#1',\n",
       "   'score': ['2', '1', '0', '1', '0', '0', '1', '0', '0', '0'],\n",
       "   'hammer': True,\n",
       "   'finalscore': '5'},\n",
       "  'Sam Steep': {'href': 'event.php?view=Team&eventid=6400&teamid=144349&profileid=25962&eventid=6400&teamid=144351&profileid=25978#1',\n",
       "   'score': ['0', '0', '1', '0', '2', '0', '0', '1', '1', '1'],\n",
       "   'hammer': False,\n",
       "   'finalscore': '6'}},\n",
       " {'Jason March': {'href': 'event.php?view=Team&eventid=6400&teamid=144351&profileid=25978&eventid=6400&teamid=144350#1',\n",
       "   'score': ['1', '1', '0', '0', '0', '0', '2', '1', '2', 'X'],\n",
       "   'hammer': True,\n",
       "   'finalscore': '7'},\n",
       "  'Matthew Mepstead': {'href': 'event.php?view=Team&eventid=6400&teamid=144351&profileid=25978&eventid=6400&teamid=144356#1',\n",
       "   'score': ['0', '0', '1', '1', '0', '0', '0', '0', '0', 'X'],\n",
       "   'hammer': False,\n",
       "   'finalscore': '2'}},\n",
       " {'Wayne Tuck Jr.': {'href': 'event.php?view=Team&eventid=6400&teamid=144356&profileid=0&eventid=6400&teamid=144353&profileid=12486#1',\n",
       "   'score': ['0', '0', '0', '2', '0', '0', '0', '0', 'X'],\n",
       "   'hammer': False,\n",
       "   'finalscore': '2'},\n",
       "  'Rob Ainsley': {'href': 'event.php?view=Team&eventid=6400&teamid=144356&profileid=0&eventid=6400&teamid=144345&profileid=15779#1',\n",
       "   'score': ['2', '1', '0', '0', '1', '2', '1', '1', 'X'],\n",
       "   'hammer': True,\n",
       "   'finalscore': '8'}}]"
      ]
     },
     "execution_count": 22,
     "metadata": {},
     "output_type": "execute_result"
    }
   ],
   "source": [
    "event.pages[2].boxscores"
   ]
  },
  {
   "cell_type": "markdown",
   "metadata": {},
   "source": [
    "The `get_flat_boxscores` method can be used to return a list of (flat) nested list object of all the boxscore information on all the linescore pages."
   ]
  },
  {
   "cell_type": "code",
   "execution_count": 23,
   "metadata": {},
   "outputs": [
    {
     "data": {
      "text/plain": [
       "[[('Damien Villard',\n",
       "   'event.php?view=Team&eventid=6400&teamid=144354&profileid=27373#1',\n",
       "   True,\n",
       "   ['0', '0', '0', '0', 'X'],\n",
       "   '0',\n",
       "   [True, True, True, True, True],\n",
       "   [0, -1, -4, -6, -8],\n",
       "   248919024004949934716914821388389967307),\n",
       "  ('Matthew Hall',\n",
       "   'event.php?view=Team&eventid=6400&teamid=144347&profileid=12435#1',\n",
       "   False,\n",
       "   ['1', '3', '2', '2', 'X'],\n",
       "   '8',\n",
       "   [False, False, False, False, False],\n",
       "   [0, 1, 4, 6, 8],\n",
       "   248919024004949934716914821388389967307),\n",
       "  ('Matthew Mepstead',\n",
       "   'event.php?view=Team&eventid=6400&teamid=144347&profileid=12435&eventid=6400&teamid=144356#1',\n",
       "   False,\n",
       "   ['0', '0', '1', '1', '0', '1', '0', '0', '0', '1', '0'],\n",
       "   '4',\n",
       "   [False, False, True, False, False, True, False, False, False, True, False],\n",
       "   [0, 0, -2, -1, 0, -1, 0, 0, 0, -1, 0],\n",
       "   142381201445779913776545786214530950693),\n",
       "  ('Tyler Stewart',\n",
       "   'event.php?view=Team&eventid=6400&teamid=144347&profileid=12435&eventid=6400&teamid=144352&profileid=12477#1',\n",
       "   True,\n",
       "   ['0', '2', '0', '0', '1', '0', '0', '0', '1', '0', '1'],\n",
       "   '5',\n",
       "   [True, True, False, True, True, False, True, True, True, False, True],\n",
       "   [0, 0, 2, 1, 0, 1, 0, 0, 0, 1, 0],\n",
       "   142381201445779913776545786214530950693),\n",
       "  ('Jason March',\n",
       "   'event.php?view=Team&eventid=6400&teamid=144352&profileid=12477&eventid=6400&teamid=144350#1',\n",
       "   False,\n",
       "   ['0', '2', '0', '1', '0', '2', '2', '0', '2', 'X'],\n",
       "   '9',\n",
       "   [False, False, False, False, False, True, False, False, True, False],\n",
       "   [0, 0, 2, 2, 3, 2, 4, 6, 3, 5],\n",
       "   189218020674116681018121003195340058320),\n",
       "  ('Sam Steep',\n",
       "   'event.php?view=Team&eventid=6400&teamid=144352&profileid=12477&eventid=6400&teamid=144351&profileid=25978#1',\n",
       "   True,\n",
       "   ['0', '0', '0', '0', '1', '0', '0', '3', '0', 'X'],\n",
       "   '4',\n",
       "   [True, True, True, True, True, False, True, True, False, True],\n",
       "   [0, 0, -2, -2, -3, -2, -4, -6, -3, -5],\n",
       "   189218020674116681018121003195340058320)],\n",
       " [('Wayne Tuck Jr.',\n",
       "   'event.php?view=Team&eventid=6400&teamid=144353&profileid=12486#1',\n",
       "   True,\n",
       "   ['0', '2', '0', '0', '0', '0', '1', '1', '1', '0'],\n",
       "   '5',\n",
       "   [True, True, False, True, True, True, True, False, False, False],\n",
       "   [0, 0, 2, -2, -2, -2, -3, -2, -1, 0],\n",
       "   39140385594338117778624812803635773128),\n",
       "  ('Matthew Hall',\n",
       "   'event.php?view=Team&eventid=6400&teamid=144347&profileid=12435#1',\n",
       "   False,\n",
       "   ['0', '0', '4', '0', '0', '1', '0', '0', '0', '2'],\n",
       "   '7',\n",
       "   [False, False, True, False, False, False, False, True, True, True],\n",
       "   [0, 0, -2, 2, 2, 2, 3, 2, 1, 0],\n",
       "   39140385594338117778624812803635773128),\n",
       "  ('Dayna Deruelle',\n",
       "   'event.php?view=Team&eventid=6400&teamid=144347&profileid=12435&eventid=6400&teamid=144346&profileid=26636#1',\n",
       "   False,\n",
       "   ['0', '0', '1', '0', '0', '0', '0', 'X'],\n",
       "   '1',\n",
       "   [False, False, True, False, True, True, True, True],\n",
       "   [0, 0, -2, -1, -3, -4, -5, -9],\n",
       "   182582263649611763642640733444821526973),\n",
       "  ('Tyler Stewart',\n",
       "   'event.php?view=Team&eventid=6400&teamid=144347&profileid=12435&eventid=6400&teamid=144352&profileid=12477#1',\n",
       "   True,\n",
       "   ['0', '2', '0', '2', '1', '1', '4', 'X'],\n",
       "   '10',\n",
       "   [True, True, False, True, False, False, False, False],\n",
       "   [0, 0, 2, 1, 3, 4, 5, 9],\n",
       "   182582263649611763642640733444821526973),\n",
       "  ('Mark Kean',\n",
       "   'event.php?view=Team&eventid=6400&teamid=144352&profileid=12477&eventid=6400&teamid=144348&profileid=25961#1',\n",
       "   True,\n",
       "   ['2', '0', '1', '0', '0', '0', '1', '3', 'X'],\n",
       "   '7',\n",
       "   [True, False, False, False, False, True, True, False, False],\n",
       "   [0, 2, 2, 3, 3, 1, 0, 1, 4],\n",
       "   238377356539057783926780016855137887706),\n",
       "  ('Jason March',\n",
       "   'event.php?view=Team&eventid=6400&teamid=144352&profileid=12477&eventid=6400&teamid=144350#1',\n",
       "   False,\n",
       "   ['0', '0', '0', '0', '2', '1', '0', '0', 'X'],\n",
       "   '3',\n",
       "   [False, True, True, True, True, False, False, True, True],\n",
       "   [0, -2, -2, -3, -3, -1, 0, -1, -4],\n",
       "   238377356539057783926780016855137887706),\n",
       "  ('Richard Krell',\n",
       "   'event.php?view=Team&eventid=6400&teamid=144350&profileid=0&eventid=6400&teamid=144349&profileid=25962#1',\n",
       "   True,\n",
       "   ['2', '0', '1', '0', '2', '1', '1', 'X'],\n",
       "   '7',\n",
       "   [True, False, False, False, True, False, False, False],\n",
       "   [0, 2, 2, 3, 2, 4, 5, 6],\n",
       "   244634296254930528079494002391542268429),\n",
       "  ('Rob Ainsley',\n",
       "   'event.php?view=Team&eventid=6400&teamid=144350&profileid=0&eventid=6400&teamid=144345&profileid=15779#1',\n",
       "   False,\n",
       "   ['0', '0', '0', '1', '0', '0', '0', 'X'],\n",
       "   '1',\n",
       "   [False, True, True, True, False, True, True, True],\n",
       "   [0, -2, -2, -3, -2, -4, -5, -6],\n",
       "   244634296254930528079494002391542268429)],\n",
       " [('Matthew Hall',\n",
       "   'event.php?view=Team&eventid=6400&teamid=144347&profileid=12435#1',\n",
       "   True,\n",
       "   ['0', '0', '2', '1', '2', '1', '0', '2', 'X'],\n",
       "   '8',\n",
       "   [True, True, True, False, False, False, False, True, False],\n",
       "   [0, 0, -1, 1, 2, 4, 5, 3, 5],\n",
       "   148118268356091257053526977557132460901),\n",
       "  ('Tyler Stewart',\n",
       "   'event.php?view=Team&eventid=6400&teamid=144352&profileid=12477#1',\n",
       "   False,\n",
       "   ['0', '1', '0', '0', '0', '0', '2', '0', 'X'],\n",
       "   '3',\n",
       "   [False, False, False, True, True, True, True, False, True],\n",
       "   [0, 0, 1, -1, -2, -4, -5, -3, -5],\n",
       "   148118268356091257053526977557132460901),\n",
       "  ('Mark Kean',\n",
       "   'event.php?view=Team&eventid=6400&teamid=144352&profileid=12477&eventid=6400&teamid=144348&profileid=25961#1',\n",
       "   True,\n",
       "   ['0', '5', '0', '1', '1', '1', 'X'],\n",
       "   '8',\n",
       "   [True, True, False, True, False, False, False],\n",
       "   [0, -1, 4, 3, 4, 5, 6],\n",
       "   249120035731200172311066379717068566965),\n",
       "  ('Richard Krell',\n",
       "   'event.php?view=Team&eventid=6400&teamid=144352&profileid=12477&eventid=6400&teamid=144349&profileid=25962#1',\n",
       "   False,\n",
       "   ['1', '0', '1', '0', '0', '0', 'X'],\n",
       "   '2',\n",
       "   [False, False, True, False, True, True, True],\n",
       "   [0, 1, -4, -3, -4, -5, -6],\n",
       "   249120035731200172311066379717068566965),\n",
       "  ('Damien Villard',\n",
       "   'event.php?view=Team&eventid=6400&teamid=144349&profileid=25962&eventid=6400&teamid=144354&profileid=27373#1',\n",
       "   True,\n",
       "   ['2', '1', '0', '1', '0', '0', '1', '0', '0', '0'],\n",
       "   '5',\n",
       "   [True, False, False, True, False, True, True, False, True, True],\n",
       "   [0, 2, 3, 2, 3, 1, 1, 2, 1, 0],\n",
       "   77913157316853485335258918183325016600),\n",
       "  ('Sam Steep',\n",
       "   'event.php?view=Team&eventid=6400&teamid=144349&profileid=25962&eventid=6400&teamid=144351&profileid=25978#1',\n",
       "   False,\n",
       "   ['0', '0', '1', '0', '2', '0', '0', '1', '1', '1'],\n",
       "   '6',\n",
       "   [False, True, True, False, True, False, False, True, False, False],\n",
       "   [0, -2, -3, -2, -3, -1, -1, -2, -1, 0],\n",
       "   77913157316853485335258918183325016600),\n",
       "  ('Jason March',\n",
       "   'event.php?view=Team&eventid=6400&teamid=144351&profileid=25978&eventid=6400&teamid=144350#1',\n",
       "   True,\n",
       "   ['1', '1', '0', '0', '0', '0', '2', '1', '2', 'X'],\n",
       "   '7',\n",
       "   [True, False, False, True, True, True, True, False, False, False],\n",
       "   [0, 1, 2, 1, 0, 0, 0, 2, 3, 5],\n",
       "   91664094819538036007625112162152635631),\n",
       "  ('Matthew Mepstead',\n",
       "   'event.php?view=Team&eventid=6400&teamid=144351&profileid=25978&eventid=6400&teamid=144356#1',\n",
       "   False,\n",
       "   ['0', '0', '1', '1', '0', '0', '0', '0', '0', 'X'],\n",
       "   '2',\n",
       "   [False, True, True, False, False, False, False, True, True, True],\n",
       "   [0, -1, -2, -1, 0, 0, 0, -2, -3, -5],\n",
       "   91664094819538036007625112162152635631),\n",
       "  ('Wayne Tuck Jr.',\n",
       "   'event.php?view=Team&eventid=6400&teamid=144356&profileid=0&eventid=6400&teamid=144353&profileid=12486#1',\n",
       "   False,\n",
       "   ['0', '0', '0', '2', '0', '0', '0', '0', 'X'],\n",
       "   '2',\n",
       "   [False, True, True, True, False, True, True, True, True],\n",
       "   [0, -2, -3, -3, -1, -2, -4, -5, -6],\n",
       "   334049149790476310718231774101990409172),\n",
       "  ('Rob Ainsley',\n",
       "   'event.php?view=Team&eventid=6400&teamid=144356&profileid=0&eventid=6400&teamid=144345&profileid=15779#1',\n",
       "   True,\n",
       "   ['2', '1', '0', '0', '1', '2', '1', '1', 'X'],\n",
       "   '8',\n",
       "   [True, False, False, False, True, False, False, False, False],\n",
       "   [0, 2, 3, 3, 1, 2, 4, 5, 6],\n",
       "   334049149790476310718231774101990409172)],\n",
       " [('Matthew Hall',\n",
       "   'event.php?view=Team&eventid=6400&teamid=144347&profileid=12435#1',\n",
       "   True,\n",
       "   ['1', '0', '1', '0', '1', '0', '2', '0', '1', '0'],\n",
       "   '6',\n",
       "   [True, False, True, False, True, False, True, False, True, False],\n",
       "   [0, 1, -1, 0, -2, -1, -2, 0, -1, 0],\n",
       "   171362079427525655104001852295218959934),\n",
       "  ('Mark Kean',\n",
       "   'event.php?view=Team&eventid=6400&teamid=144348&profileid=25961#1',\n",
       "   False,\n",
       "   ['0', '2', '0', '2', '0', '1', '0', '1', '0', '1'],\n",
       "   '7',\n",
       "   [False, True, False, True, False, True, False, True, False, True],\n",
       "   [0, -1, 1, 0, 2, 1, 2, 0, 1, 0],\n",
       "   171362079427525655104001852295218959934),\n",
       "  ('Sam Steep',\n",
       "   'event.php?view=Team&eventid=6400&teamid=144348&profileid=25961&eventid=6400&teamid=144351&profileid=25978#1',\n",
       "   False,\n",
       "   ['1', '0', '0', '2', '0', '1', '1', '0', '1', '1'],\n",
       "   '7',\n",
       "   [False, False, True, True, False, True, False, False, True, False],\n",
       "   [0, 1, 0, -2, 0, -2, -1, 0, -1, 0],\n",
       "   312310721257481328818548946107763995991),\n",
       "  ('Jason March',\n",
       "   'event.php?view=Team&eventid=6400&teamid=144348&profileid=25961&eventid=6400&teamid=144350#1',\n",
       "   True,\n",
       "   ['0', '1', '2', '0', '2', '0', '0', '1', '0', '0'],\n",
       "   '6',\n",
       "   [True, True, False, False, True, False, True, True, False, True],\n",
       "   [0, -1, 0, 2, 0, 2, 1, 0, 1, 0],\n",
       "   312310721257481328818548946107763995991),\n",
       "  ('Dayna Deruelle',\n",
       "   'event.php?view=Team&eventid=6400&teamid=144350&profileid=0&eventid=6400&teamid=144346&profileid=26636#1',\n",
       "   False,\n",
       "   ['0', '2', '1', '1', '1', '0', '3', 'X'],\n",
       "   '8',\n",
       "   [False, True, False, False, False, False, True, False],\n",
       "   [0, -1, 1, 2, 3, 4, 3, 6],\n",
       "   286202013765520468691689045394818856314),\n",
       "  ('Rob Ainsley',\n",
       "   'event.php?view=Team&eventid=6400&teamid=144350&profileid=0&eventid=6400&teamid=144345&profileid=15779#1',\n",
       "   True,\n",
       "   ['1', '0', '0', '0', '0', '1', '0', 'X'],\n",
       "   '2',\n",
       "   [True, False, True, True, True, True, False, True],\n",
       "   [0, 1, -1, -2, -3, -4, -3, -6],\n",
       "   286202013765520468691689045394818856314)],\n",
       " [('Sam Steep',\n",
       "   'event.php?view=Team&eventid=6400&teamid=144351&profileid=25978#1',\n",
       "   False,\n",
       "   ['0', '1', '0', '0', '0', '2', '0', '2', '0', '0'],\n",
       "   '5',\n",
       "   [False, False, False, True, True, True, False, True, False, False],\n",
       "   [0, 0, 1, 0, -1, -3, -1, -3, -1, -1],\n",
       "   6974865534642153206105020579364191877),\n",
       "  ('Richard Krell',\n",
       "   'event.php?view=Team&eventid=6400&teamid=144349&profileid=25962#1',\n",
       "   True,\n",
       "   ['0', '0', '1', '1', '2', '0', '2', '0', '0', '1'],\n",
       "   '7',\n",
       "   [True, True, True, False, False, False, True, False, True, True],\n",
       "   [0, 0, -1, 0, 1, 3, 1, 3, 1, 1],\n",
       "   6974865534642153206105020579364191877),\n",
       "  ('Dayna Deruelle',\n",
       "   'event.php?view=Team&eventid=6400&teamid=144349&profileid=25962&eventid=6400&teamid=144346&profileid=26636#1',\n",
       "   False,\n",
       "   ['0', '0', '1', '0', '0', '0', '1', '0', '3', '1', '0'],\n",
       "   '6',\n",
       "   [False, True, True, False, True, True, True, False, True, False, False],\n",
       "   [0, -1, -1, 0, -1, -1, -3, -2, -4, -1, 0],\n",
       "   11666305282485848395477401456249415494),\n",
       "  ('Tyler Stewart',\n",
       "   'event.php?view=Team&eventid=6400&teamid=144349&profileid=25962&eventid=6400&teamid=144352&profileid=12477#1',\n",
       "   True,\n",
       "   ['1', '0', '0', '1', '0', '2', '0', '2', '0', '0', '1'],\n",
       "   '7',\n",
       "   [True, False, False, True, False, False, False, True, False, True, True],\n",
       "   [0, 1, 1, 0, 1, 1, 3, 2, 4, 1, 0],\n",
       "   11666305282485848395477401456249415494)],\n",
       " [('Richard Krell',\n",
       "   'event.php?view=Team&eventid=6400&teamid=144349&profileid=25962#1',\n",
       "   False,\n",
       "   ['0', '0', '1', '1', '0', '0', '1', '0', 'X'],\n",
       "   '3',\n",
       "   [False, False, True, False, False, True, True, False, True],\n",
       "   [0, 0, -2, -1, 0, -2, -5, -4, -5],\n",
       "   308821229989464002987746831815412897212),\n",
       "  ('Tyler Stewart',\n",
       "   'event.php?view=Team&eventid=6400&teamid=144352&profileid=12477#1',\n",
       "   True,\n",
       "   ['0', '2', '0', '0', '2', '3', '0', '1', 'X'],\n",
       "   '8',\n",
       "   [True, True, False, True, True, False, False, True, False],\n",
       "   [0, 0, 2, 1, 0, 2, 5, 4, 5],\n",
       "   308821229989464002987746831815412897212)],\n",
       " [('Tyler Stewart',\n",
       "   'event.php?view=Team&eventid=6400&teamid=144352&profileid=12477#1',\n",
       "   False,\n",
       "   ['0', '0', '1', '1', '0', '3', '0', '0', '1', '0'],\n",
       "   '6',\n",
       "   [False, False, True, False, False, True, False, False, True, False],\n",
       "   [0, 0, -1, 0, 1, -2, 1, 1, 0, 1],\n",
       "   141376204131397514047801901828601390592),\n",
       "  ('Matthew Hall',\n",
       "   'event.php?view=Team&eventid=6400&teamid=144347&profileid=12435#1',\n",
       "   True,\n",
       "   ['0', '1', '0', '0', '3', '0', '0', '1', '0', '2'],\n",
       "   '7',\n",
       "   [True, True, False, True, True, False, True, True, False, True],\n",
       "   [0, 0, 1, 0, -1, 2, -1, -1, 0, -1],\n",
       "   141376204131397514047801901828601390592)]]"
      ]
     },
     "execution_count": 23,
     "metadata": {},
     "output_type": "execute_result"
    }
   ],
   "source": [
    "event.get_flat_boxscores()"
   ]
  },
  {
   "cell_type": "code",
   "execution_count": 24,
   "metadata": {},
   "outputs": [
    {
     "data": {
      "text/plain": [
       "[('Damien Villard',\n",
       "  'event.php?view=Team&eventid=6400&teamid=144354&profileid=27373#1',\n",
       "  True,\n",
       "  ['0', '0', '0', '0', 'X'],\n",
       "  '0',\n",
       "  [True, True, True, True, True],\n",
       "  [0, -1, -4, -6, -8],\n",
       "  248919024004949934716914821388389967307),\n",
       " ('Matthew Hall',\n",
       "  'event.php?view=Team&eventid=6400&teamid=144347&profileid=12435#1',\n",
       "  False,\n",
       "  ['1', '3', '2', '2', 'X'],\n",
       "  '8',\n",
       "  [False, False, False, False, False],\n",
       "  [0, 1, 4, 6, 8],\n",
       "  248919024004949934716914821388389967307),\n",
       " ('Matthew Mepstead',\n",
       "  'event.php?view=Team&eventid=6400&teamid=144347&profileid=12435&eventid=6400&teamid=144356#1',\n",
       "  False,\n",
       "  ['0', '0', '1', '1', '0', '1', '0', '0', '0', '1', '0'],\n",
       "  '4',\n",
       "  [False, False, True, False, False, True, False, False, False, True, False],\n",
       "  [0, 0, -2, -1, 0, -1, 0, 0, 0, -1, 0],\n",
       "  142381201445779913776545786214530950693),\n",
       " ('Tyler Stewart',\n",
       "  'event.php?view=Team&eventid=6400&teamid=144347&profileid=12435&eventid=6400&teamid=144352&profileid=12477#1',\n",
       "  True,\n",
       "  ['0', '2', '0', '0', '1', '0', '0', '0', '1', '0', '1'],\n",
       "  '5',\n",
       "  [True, True, False, True, True, False, True, True, True, False, True],\n",
       "  [0, 0, 2, 1, 0, 1, 0, 0, 0, 1, 0],\n",
       "  142381201445779913776545786214530950693),\n",
       " ('Jason March',\n",
       "  'event.php?view=Team&eventid=6400&teamid=144352&profileid=12477&eventid=6400&teamid=144350#1',\n",
       "  False,\n",
       "  ['0', '2', '0', '1', '0', '2', '2', '0', '2', 'X'],\n",
       "  '9',\n",
       "  [False, False, False, False, False, True, False, False, True, False],\n",
       "  [0, 0, 2, 2, 3, 2, 4, 6, 3, 5],\n",
       "  189218020674116681018121003195340058320),\n",
       " ('Sam Steep',\n",
       "  'event.php?view=Team&eventid=6400&teamid=144352&profileid=12477&eventid=6400&teamid=144351&profileid=25978#1',\n",
       "  True,\n",
       "  ['0', '0', '0', '0', '1', '0', '0', '3', '0', 'X'],\n",
       "  '4',\n",
       "  [True, True, True, True, True, False, True, True, False, True],\n",
       "  [0, 0, -2, -2, -3, -2, -4, -6, -3, -5],\n",
       "  189218020674116681018121003195340058320)]"
      ]
     },
     "execution_count": 24,
     "metadata": {},
     "output_type": "execute_result"
    }
   ],
   "source": [
    "event.get_flat_boxscores()[0]"
   ]
  },
  {
   "cell_type": "code",
   "execution_count": 25,
   "metadata": {},
   "outputs": [
    {
     "data": {
      "text/plain": [
       "[('Tyler Stewart',\n",
       "  'event.php?view=Team&eventid=6400&teamid=144352&profileid=12477#1',\n",
       "  False,\n",
       "  ['0', '0', '1', '1', '0', '3', '0', '0', '1', '0'],\n",
       "  '6',\n",
       "  [False, False, True, False, False, True, False, False, True, False],\n",
       "  [0, 0, -1, 0, 1, -2, 1, 1, 0, 1],\n",
       "  141376204131397514047801901828601390592),\n",
       " ('Matthew Hall',\n",
       "  'event.php?view=Team&eventid=6400&teamid=144347&profileid=12435#1',\n",
       "  True,\n",
       "  ['0', '1', '0', '0', '3', '0', '0', '1', '0', '2'],\n",
       "  '7',\n",
       "  [True, True, False, True, True, False, True, True, False, True],\n",
       "  [0, 0, 1, 0, -1, 2, -1, -1, 0, -1],\n",
       "  141376204131397514047801901828601390592)]"
      ]
     },
     "execution_count": 25,
     "metadata": {},
     "output_type": "execute_result"
    }
   ],
   "source": [
    "event.get_flat_boxscores()[-1]"
   ]
  },
  {
   "cell_type": "markdown",
   "metadata": {},
   "source": [
    "## About czapi\n",
    "czapi is a Python library for scraping curling linescores."
   ]
  }
 ],
 "metadata": {
  "kernelspec": {
   "display_name": "Python 3 (ipykernel)",
   "language": "python",
   "name": "python3"
  },
  "language_info": {
   "codemirror_mode": {
    "name": "ipython",
    "version": 3
   },
   "file_extension": ".py",
   "mimetype": "text/x-python",
   "name": "python",
   "nbconvert_exporter": "python",
   "pygments_lexer": "ipython3",
   "version": "3.9.7"
  }
 },
 "nbformat": 4,
 "nbformat_minor": 2
}
