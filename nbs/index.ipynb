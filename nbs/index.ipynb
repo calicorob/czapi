{
 "cells": [
  {
   "cell_type": "markdown",
   "metadata": {},
   "source": [
    "# Welcome to czapi\n",
    "\n",
    "> A basic API for scraping curling boxscores off of the popular [CurlingZone](https://www.curlingzone.com) website. "
   ]
  },
  {
   "cell_type": "markdown",
   "metadata": {},
   "source": [
    "## Install"
   ]
  },
  {
   "cell_type": "markdown",
   "metadata": {},
   "source": [
    "```\n",
    "pip install czapi\n",
    "```"
   ]
  },
  {
   "cell_type": "markdown",
   "metadata": {},
   "source": [
    "## How to use"
   ]
  },
  {
   "cell_type": "code",
   "execution_count": 1,
   "metadata": {},
   "outputs": [],
   "source": [
    "import czapi.api as api"
   ]
  },
  {
   "cell_type": "markdown",
   "metadata": {},
   "source": [
    "## General Information\n",
    "The czapi is based around the `LinescorePage` object which represents a linescore page on the CurlingZone website. \n",
    "\n",
    "Click [here](https://curlingzone.com/event.php?view=Scores&eventid=7795#1) to see an example linescore page.\n",
    "\n",
    "Creating an instance of the `LinescorePage` class gives access to every boxscore on that linescore page."
   ]
  },
  {
   "cell_type": "code",
   "execution_count": 2,
   "metadata": {},
   "outputs": [],
   "source": [
    "linescore_page = api.LinescorePage(cz_event_id = 6400, cz_draw_id = 2)"
   ]
  },
  {
   "cell_type": "markdown",
   "metadata": {},
   "source": [
    "The `cz_event_id` and `cz_draw_id` arguments are found in the CurlingZone URL. \n",
    "\n",
    "Here's an example:\n",
    "\n",
    "\n",
    "> ht<span>t</span>ps://curlingzone.com/event.php?**eventid=7795**&view=Scores&show**drawid=21**#1"
   ]
  },
  {
   "cell_type": "markdown",
   "metadata": {},
   "source": [
    "The boxscores on the linescore page can be accessed through the `boxscores` property which returns a list of boxscores."
   ]
  },
  {
   "cell_type": "code",
   "execution_count": 3,
   "metadata": {},
   "outputs": [
    {
     "data": {
      "text/plain": [
       "[defaultdict(list,\n",
       "             {'Wayne Tuck Jr.': defaultdict(list,\n",
       "                          {'href': 'event.php?view=Team&eventid=6400&teamid=144353&profileid=12486#1',\n",
       "                           'hammer': True,\n",
       "                           'score': ['0',\n",
       "                            '2',\n",
       "                            '0',\n",
       "                            '0',\n",
       "                            '0',\n",
       "                            '0',\n",
       "                            '1',\n",
       "                            '1',\n",
       "                            '1',\n",
       "                            '0'],\n",
       "                           'finalscore': '5'}),\n",
       "              'Matthew Hall': defaultdict(list,\n",
       "                          {'href': 'event.php?view=Team&eventid=6400&teamid=144347&profileid=12435#1',\n",
       "                           'hammer': False,\n",
       "                           'score': ['0',\n",
       "                            '0',\n",
       "                            '4',\n",
       "                            '0',\n",
       "                            '0',\n",
       "                            '1',\n",
       "                            '0',\n",
       "                            '0',\n",
       "                            '0',\n",
       "                            '2'],\n",
       "                           'finalscore': '7'})}),\n",
       " defaultdict(list,\n",
       "             {'Dayna Deruelle': defaultdict(list,\n",
       "                          {'href': 'event.php?view=Team&eventid=6400&teamid=144347&profileid=12435&eventid=6400&teamid=144346&profileid=26636#1',\n",
       "                           'hammer': False,\n",
       "                           'score': ['0', '0', '1', '0', '0', '0', '0', 'X'],\n",
       "                           'finalscore': '1'}),\n",
       "              'Tyler Stewart': defaultdict(list,\n",
       "                          {'href': 'event.php?view=Team&eventid=6400&teamid=144347&profileid=12435&eventid=6400&teamid=144352&profileid=12477#1',\n",
       "                           'hammer': True,\n",
       "                           'score': ['0', '2', '0', '2', '1', '1', '4', 'X'],\n",
       "                           'finalscore': '10'})}),\n",
       " defaultdict(list,\n",
       "             {'Mark Kean': defaultdict(list,\n",
       "                          {'href': 'event.php?view=Team&eventid=6400&teamid=144352&profileid=12477&eventid=6400&teamid=144348&profileid=25961#1',\n",
       "                           'hammer': True,\n",
       "                           'score': ['2',\n",
       "                            '0',\n",
       "                            '1',\n",
       "                            '0',\n",
       "                            '0',\n",
       "                            '0',\n",
       "                            '1',\n",
       "                            '3',\n",
       "                            'X'],\n",
       "                           'finalscore': '7'}),\n",
       "              'Jason March': defaultdict(list,\n",
       "                          {'href': 'event.php?view=Team&eventid=6400&teamid=144352&profileid=12477&eventid=6400&teamid=144350#1',\n",
       "                           'hammer': False,\n",
       "                           'score': ['0',\n",
       "                            '0',\n",
       "                            '0',\n",
       "                            '0',\n",
       "                            '2',\n",
       "                            '1',\n",
       "                            '0',\n",
       "                            '0',\n",
       "                            'X'],\n",
       "                           'finalscore': '3'})}),\n",
       " defaultdict(list,\n",
       "             {'Richard Krell': defaultdict(list,\n",
       "                          {'href': 'event.php?view=Team&eventid=6400&teamid=144350&profileid=0&eventid=6400&teamid=144349&profileid=25962#1',\n",
       "                           'hammer': True,\n",
       "                           'score': ['2', '0', '1', '0', '2', '1', '1', 'X'],\n",
       "                           'finalscore': '7'}),\n",
       "              'Rob Ainsley': defaultdict(list,\n",
       "                          {'href': 'event.php?view=Team&eventid=6400&teamid=144350&profileid=0&eventid=6400&teamid=144345&profileid=15779#1',\n",
       "                           'hammer': False,\n",
       "                           'score': ['0', '0', '0', '1', '0', '0', '0', 'X'],\n",
       "                           'finalscore': '1'})})]"
      ]
     },
     "execution_count": 3,
     "metadata": {},
     "output_type": "execute_result"
    }
   ],
   "source": [
    "linescore_page.boxscores"
   ]
  },
  {
   "cell_type": "markdown",
   "metadata": {},
   "source": [
    "A boxscore is returned as a dictionary of team names, game information dictionary key, value pairs.\n",
    "\n",
    "Each game information dictionary contains:\n",
    "\n",
    "* 'href' key with a corresponding string value of CurlingZone IDs identifying the team.\n",
    "* 'hammer' key with corresponding boolean value of whether or not that team started the game with hammer.\n",
    "* 'score' key with corresponding list of string value of end-by-end results for that team.\n",
    "* 'finalscore' key with corresponding final score for the team.\n",
    "\n",
    "Individual boxscores can be accessed through the `get_boxscore_from` method."
   ]
  },
  {
   "cell_type": "code",
   "execution_count": 4,
   "metadata": {},
   "outputs": [
    {
     "data": {
      "text/plain": [
       "defaultdict(list,\n",
       "            {'Wayne Tuck Jr.': defaultdict(list,\n",
       "                         {'href': 'event.php?view=Team&eventid=6400&teamid=144353&profileid=12486#1',\n",
       "                          'hammer': True,\n",
       "                          'score': ['0',\n",
       "                           '2',\n",
       "                           '0',\n",
       "                           '0',\n",
       "                           '0',\n",
       "                           '0',\n",
       "                           '1',\n",
       "                           '1',\n",
       "                           '1',\n",
       "                           '0'],\n",
       "                          'finalscore': '5'}),\n",
       "             'Matthew Hall': defaultdict(list,\n",
       "                         {'href': 'event.php?view=Team&eventid=6400&teamid=144347&profileid=12435#1',\n",
       "                          'hammer': False,\n",
       "                          'score': ['0',\n",
       "                           '0',\n",
       "                           '4',\n",
       "                           '0',\n",
       "                           '0',\n",
       "                           '1',\n",
       "                           '0',\n",
       "                           '0',\n",
       "                           '0',\n",
       "                           '2'],\n",
       "                          'finalscore': '7'})})"
      ]
     },
     "execution_count": 4,
     "metadata": {},
     "output_type": "execute_result"
    }
   ],
   "source": [
    "boxscore = linescore_page.get_boxscore_from(cz_game_id = 1)\n",
    "boxscore"
   ]
  },
  {
   "cell_type": "markdown",
   "metadata": {},
   "source": [
    "`cz_game_id` argument corresponds to the number the boxscore appears in on the linescore page."
   ]
  },
  {
   "cell_type": "markdown",
   "metadata": {},
   "source": [
    "The LinescorePage object contains these properties which details information on the boxscores:\n",
    "\n",
    "* event_name\n",
    "* event_date\n",
    "* draw"
   ]
  },
  {
   "cell_type": "code",
   "execution_count": 5,
   "metadata": {},
   "outputs": [
    {
     "name": "stdout",
     "output_type": "stream",
     "text": [
      "Ontario Tankard - Open Qualifier , Jan 17 - 19, 2020 , Draw: 2\n"
     ]
    }
   ],
   "source": [
    "print(linescore_page.event_name,',',linescore_page.event_date,',' ,linescore_page.draw)"
   ]
  },
  {
   "cell_type": "markdown",
   "metadata": {},
   "source": [
    "For convenience, upon instantiation of a `LinescorePage` object, a `NormalizedBoxscore` instance for each boxscore is created. A `NormalizedBoxscore` holds the same information as a boxscore dictionary with two new pieces of information added: \n",
    "1. The hammer progression for both teams throughout the game, i.e. who had hammer in what end.\n",
    "2. Each team's relative score, i.e. who was up/down X after end Y."
   ]
  },
  {
   "cell_type": "code",
   "execution_count": 6,
   "metadata": {},
   "outputs": [
    {
     "data": {
      "text/plain": [
       "NormalizedBoxscore(boxscore=defaultdict(<class 'list'>, {'Wayne Tuck Jr.': defaultdict(<class 'list'>, {'href': 'event.php?view=Team&eventid=6400&teamid=144353&profileid=12486#1', 'hammer': True, 'score': ['0', '2', '0', '0', '0', '0', '1', '1', '1', '0'], 'finalscore': '5'}), 'Matthew Hall': defaultdict(<class 'list'>, {'href': 'event.php?view=Team&eventid=6400&teamid=144347&profileid=12435#1', 'hammer': False, 'score': ['0', '0', '4', '0', '0', '1', '0', '0', '0', '2'], 'finalscore': '7'})}))"
      ]
     },
     "execution_count": 6,
     "metadata": {},
     "output_type": "execute_result"
    }
   ],
   "source": [
    "normalized_boxscore = linescore_page.get_normalized_boxscore_from(cz_game_id = 1)\n",
    "normalized_boxscore"
   ]
  },
  {
   "cell_type": "markdown",
   "metadata": {},
   "source": [
    "A `NormalizedBoxscore` object holds two `NormalizedHalfBoxscore` instances. "
   ]
  },
  {
   "cell_type": "code",
   "execution_count": 7,
   "metadata": {},
   "outputs": [
    {
     "data": {
      "text/plain": [
       "NormalizedHalfBoxscore(team_name='Wayne Tuck Jr.', href='event.php?view=Team&eventid=6400&teamid=144353&profileid=12486#1', hammer=True, score=['0', '2', '0', '0', '0', '0', '1', '1', '1', '0'], finalscore='5', hammer_progression=[True, False, True, True, True, True, False, False, False, True], normalized_score=[0, 2, -2, -2, -2, -3, -2, -1, 0, -2])"
      ]
     },
     "execution_count": 7,
     "metadata": {},
     "output_type": "execute_result"
    }
   ],
   "source": [
    "normalized_boxscore.normalized_half_boxscore_pair[0]"
   ]
  },
  {
   "cell_type": "markdown",
   "metadata": {},
   "source": [
    "For Wayne Tuck Jr. the `hammer_progression` attribute can be interpreted as follows: \n",
    "\n",
    "* After end 1: Wayne had hammer\n",
    "* After end 2: Wayne didn't have hammer\n",
    "* After end 3: Wayne had hammer\n",
    "* And so on and so forth.."
   ]
  },
  {
   "cell_type": "code",
   "execution_count": 8,
   "metadata": {},
   "outputs": [
    {
     "data": {
      "text/plain": [
       "NormalizedHalfBoxscore(team_name='Matthew Hall', href='event.php?view=Team&eventid=6400&teamid=144347&profileid=12435#1', hammer=False, score=['0', '0', '4', '0', '0', '1', '0', '0', '0', '2'], finalscore='7', hammer_progression=[False, True, False, False, False, False, True, True, True, False], normalized_score=[0, -2, 2, 2, 2, 3, 2, 1, 0, 2])"
      ]
     },
     "execution_count": 8,
     "metadata": {},
     "output_type": "execute_result"
    }
   ],
   "source": [
    "normalized_boxscore.normalized_half_boxscore_pair[-1]"
   ]
  },
  {
   "cell_type": "markdown",
   "metadata": {},
   "source": [
    "For Matthew Hall, the `normalized_score` attribute can be interpreted as follows:\n",
    "\n",
    "* After end 1: Matthew was tied.\n",
    "* After end 2: Matthew was down 2.\n",
    "* After end 3: Matthew was up 2.\n",
    "* And so on and so forth.."
   ]
  },
  {
   "cell_type": "markdown",
   "metadata": {},
   "source": [
    "You'll also notice the `NormalizedBoxscore` object has a guid property which identifies that two `NormalizedHalfBoxscore` belong to the same game."
   ]
  },
  {
   "cell_type": "code",
   "execution_count": 9,
   "metadata": {},
   "outputs": [
    {
     "data": {
      "text/plain": [
       "64730384393780475526149827004054085680"
      ]
     },
     "execution_count": 9,
     "metadata": {},
     "output_type": "execute_result"
    }
   ],
   "source": [
    "normalized_boxscore.guid"
   ]
  },
  {
   "cell_type": "markdown",
   "metadata": {},
   "source": [
    "czapi's `get_flat_boxscores_from` function takes a `LinescorePage` as an argument and returns a (flat) nested list object of all the boxscore information on the linescore page. This nested list object can be ingested into a pandas DataFrame or pushed to a SQL database."
   ]
  },
  {
   "cell_type": "code",
   "execution_count": 10,
   "metadata": {},
   "outputs": [
    {
     "data": {
      "text/plain": [
       "[['Wayne Tuck Jr.',\n",
       "  'event.php?view=Team&eventid=6400&teamid=144353&profileid=12486#1',\n",
       "  True,\n",
       "  ['0', '2', '0', '0', '0', '0', '1', '1', '1', '0'],\n",
       "  '5',\n",
       "  [True, False, True, True, True, True, False, False, False, True],\n",
       "  [0, 2, -2, -2, -2, -3, -2, -1, 0, -2],\n",
       "  64730384393780475526149827004054085680],\n",
       " ['Matthew Hall',\n",
       "  'event.php?view=Team&eventid=6400&teamid=144347&profileid=12435#1',\n",
       "  False,\n",
       "  ['0', '0', '4', '0', '0', '1', '0', '0', '0', '2'],\n",
       "  '7',\n",
       "  [False, True, False, False, False, False, True, True, True, False],\n",
       "  [0, -2, 2, 2, 2, 3, 2, 1, 0, 2],\n",
       "  64730384393780475526149827004054085680],\n",
       " ['Dayna Deruelle',\n",
       "  'event.php?view=Team&eventid=6400&teamid=144347&profileid=12435&eventid=6400&teamid=144346&profileid=26636#1',\n",
       "  False,\n",
       "  ['0', '0', '1', '0', '0', '0', '0', 'X'],\n",
       "  '1',\n",
       "  [False, True, False, True, True, True, True],\n",
       "  [0, -2, -1, -3, -4, -5, -9],\n",
       "  75500335560895025960417581608763223393],\n",
       " ['Tyler Stewart',\n",
       "  'event.php?view=Team&eventid=6400&teamid=144347&profileid=12435&eventid=6400&teamid=144352&profileid=12477#1',\n",
       "  True,\n",
       "  ['0', '2', '0', '2', '1', '1', '4', 'X'],\n",
       "  '10',\n",
       "  [True, False, True, False, False, False, False],\n",
       "  [0, 2, 1, 3, 4, 5, 9],\n",
       "  75500335560895025960417581608763223393],\n",
       " ['Mark Kean',\n",
       "  'event.php?view=Team&eventid=6400&teamid=144352&profileid=12477&eventid=6400&teamid=144348&profileid=25961#1',\n",
       "  True,\n",
       "  ['2', '0', '1', '0', '0', '0', '1', '3', 'X'],\n",
       "  '7',\n",
       "  [True, True, False, False, True, True, False, False],\n",
       "  [2, 2, 3, 3, 1, 0, 1, 4],\n",
       "  17220047150342431879853352856338106525],\n",
       " ['Jason March',\n",
       "  'event.php?view=Team&eventid=6400&teamid=144352&profileid=12477&eventid=6400&teamid=144350#1',\n",
       "  False,\n",
       "  ['0', '0', '0', '0', '2', '1', '0', '0', 'X'],\n",
       "  '3',\n",
       "  [False, False, True, True, False, False, True, True],\n",
       "  [-2, -2, -3, -3, -1, 0, -1, -4],\n",
       "  17220047150342431879853352856338106525],\n",
       " ['Richard Krell',\n",
       "  'event.php?view=Team&eventid=6400&teamid=144350&profileid=0&eventid=6400&teamid=144349&profileid=25962#1',\n",
       "  True,\n",
       "  ['2', '0', '1', '0', '2', '1', '1', 'X'],\n",
       "  '7',\n",
       "  [True, True, False, True, False, False, False],\n",
       "  [2, 2, 3, 2, 4, 5, 6],\n",
       "  121287577363239613372599594369672773573],\n",
       " ['Rob Ainsley',\n",
       "  'event.php?view=Team&eventid=6400&teamid=144350&profileid=0&eventid=6400&teamid=144345&profileid=15779#1',\n",
       "  False,\n",
       "  ['0', '0', '0', '1', '0', '0', '0', 'X'],\n",
       "  '1',\n",
       "  [False, False, True, False, True, True, True],\n",
       "  [-2, -2, -3, -2, -4, -5, -6],\n",
       "  121287577363239613372599594369672773573]]"
      ]
     },
     "execution_count": 10,
     "metadata": {},
     "output_type": "execute_result"
    }
   ],
   "source": [
    "api.get_flat_boxscores_from(linescore_page = linescore_page)"
   ]
  },
  {
   "cell_type": "markdown",
   "metadata": {},
   "source": [
    "## About czapi\n",
    "czapi is a Python library for scraping curling linescores."
   ]
  }
 ],
 "metadata": {
  "kernelspec": {
   "display_name": "Python 3 (ipykernel)",
   "language": "python",
   "name": "python3"
  },
  "language_info": {
   "codemirror_mode": {
    "name": "ipython",
    "version": 3
   },
   "file_extension": ".py",
   "mimetype": "text/x-python",
   "name": "python",
   "nbconvert_exporter": "python",
   "pygments_lexer": "ipython3",
   "version": "3.7.9"
  }
 },
 "nbformat": 4,
 "nbformat_minor": 2
}
