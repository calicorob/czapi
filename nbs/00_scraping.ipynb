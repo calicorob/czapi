{
 "cells": [
  {
   "cell_type": "code",
   "execution_count": null,
   "metadata": {},
   "outputs": [],
   "source": [
    "# default_exp core.scraping"
   ]
  },
  {
   "cell_type": "markdown",
   "metadata": {},
   "source": [
    "# Scraping\n",
    "\n",
    "> Provides basic scraping functionality."
   ]
  },
  {
   "cell_type": "code",
   "execution_count": null,
   "metadata": {},
   "outputs": [],
   "source": [
    "#hide\n",
    "from nbdev.showdoc import *"
   ]
  },
  {
   "cell_type": "code",
   "execution_count": null,
   "metadata": {},
   "outputs": [],
   "source": [
    "#export\n",
    "\n",
    "import requests \n",
    "from bs4 import BeautifulSoup"
   ]
  },
  {
   "cell_type": "code",
   "execution_count": null,
   "metadata": {},
   "outputs": [],
   "source": [
    "#export\n",
    "def make_soup(\n",
    "    \n",
    "     url : str\n",
    "    ,parser : str = 'html.parser'\n",
    "    ,**request_kwargs\n",
    "\n",
    ")->BeautifulSoup:\n",
    "    \"\"\" Returns a Beautifulsoup object for the passed URL.\"\"\"\n",
    "    \n",
    "    # TODO : error handling?\n",
    "    request = requests.get(url=url,**request_kwargs)    \n",
    "    return BeautifulSoup(request.content,parser)"
   ]
  },
  {
   "cell_type": "code",
   "execution_count": null,
   "metadata": {},
   "outputs": [],
   "source": [
    "# tests\n",
    "\n",
    "url = 'https://www.curlingzone.com/event.php?view=Main&eventid=6938'\n",
    "assert isinstance(make_soup(url=url),BeautifulSoup)"
   ]
  }
 ],
 "metadata": {
  "kernelspec": {
   "display_name": "Python 3 (ipykernel)",
   "language": "python",
   "name": "python3"
  }
 },
 "nbformat": 4,
 "nbformat_minor": 2
}
