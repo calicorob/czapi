{
 "cells": [
  {
   "cell_type": "code",
   "execution_count": null,
   "metadata": {},
   "outputs": [],
   "source": [
    "# default_exp api"
   ]
  },
  {
   "cell_type": "markdown",
   "metadata": {},
   "source": [
    "# API\n",
    "> API module for the czapi library."
   ]
  },
  {
   "cell_type": "code",
   "execution_count": null,
   "metadata": {},
   "outputs": [],
   "source": [
    "#hide\n",
    "from nbdev.showdoc import *"
   ]
  },
  {
   "cell_type": "code",
   "execution_count": null,
   "metadata": {},
   "outputs": [],
   "source": [
    "#export\n",
    "\n",
    "from czapi.core.scraping.linescore import (\n",
    "     get_boxscore\n",
    "    ,get_full_boxscore\n",
    ")\n",
    "\n",
    "from czapi.core.scraping.event import (\n",
    "\n",
    "     get_event_date\n",
    "    ,get_event_name\n",
    ")"
   ]
  },
  {
   "cell_type": "code",
   "execution_count": null,
   "metadata": {},
   "outputs": [
    {
     "data": {
      "text/markdown": [
       "<h4 id=\"get_full_boxscore\" class=\"doc_header\"><code>get_full_boxscore</code><a href=\"https://github.com/calicorob/czapi/tree/master/czapi/core/scraping/linescore.py#L144\" class=\"source_link\" style=\"float:right\">[source]</a></h4>\n",
       "\n",
       "> <code>get_full_boxscore</code>(**`cz_event_id`**:`Union`\\[`str`, `int`, `NoneType`\\]=*`None`*, **`cz_draw_id`**:`Optional`\\[`int`\\]=*`None`*, **`game_number`**:`Optional`\\[`int`\\]=*`None`*, **`cz_game_id`**:`Optional`\\[`str`\\]=*`None`*, **\\*\\*`request_kwargs`**)\n",
       "\n",
       "Returns a curling boxscore (dict) based on the cz_event_id, cz_draw_id and game_number or the cz_game_id with additional information."
      ],
      "text/plain": [
       "<IPython.core.display.Markdown object>"
      ]
     },
     "metadata": {},
     "output_type": "display_data"
    }
   ],
   "source": [
    "show_doc(get_full_boxscore)"
   ]
  },
  {
   "cell_type": "code",
   "execution_count": null,
   "metadata": {},
   "outputs": [],
   "source": []
  }
 ],
 "metadata": {
  "kernelspec": {
   "display_name": "Python 3 (ipykernel)",
   "language": "python",
   "name": "python3"
  }
 },
 "nbformat": 4,
 "nbformat_minor": 2
}
