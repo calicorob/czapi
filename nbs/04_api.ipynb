{
 "cells": [
  {
   "cell_type": "code",
   "execution_count": 1,
   "metadata": {},
   "outputs": [],
   "source": [
    "# default_exp api"
   ]
  },
  {
   "cell_type": "markdown",
   "metadata": {},
   "source": [
    "# API\n",
    "> API module for the czapi library."
   ]
  },
  {
   "cell_type": "code",
   "execution_count": 2,
   "metadata": {},
   "outputs": [],
   "source": [
    "#hide\n",
    "from nbdev.showdoc import *"
   ]
  },
  {
   "cell_type": "code",
   "execution_count": 3,
   "metadata": {},
   "outputs": [],
   "source": [
    "#export\n",
    "\n",
    "from czapi.core.scraping.linescore import (\n",
    "     get_boxscore\n",
    "    ,get_full_boxscore\n",
    ")\n",
    "\n",
    "from czapi.core.scraping.event import (\n",
    "\n",
    "     get_event_date\n",
    "    ,get_event_name\n",
    ")"
   ]
  },
  {
   "cell_type": "markdown",
   "metadata": {},
   "source": [
    "# Event Details"
   ]
  },
  {
   "cell_type": "code",
   "execution_count": 4,
   "metadata": {},
   "outputs": [
    {
     "data": {
      "text/markdown": [
       "<h4 id=\"get_event_date\" class=\"doc_header\"><code>get_event_date</code><a href=\"https://github.com/calicorob/czapi/tree/master/czapi/core/scraping/event.py#L138\" class=\"source_link\" style=\"float:right\">[source]</a></h4>\n",
       "\n",
       "> <code>get_event_date</code>(**`cz_event_id`**:`Union`\\[`str`, `int`, `NoneType`\\]=*`None`*, **`cz_draw_id`**:`Union`\\[`str`, `int`, `NoneType`\\]=*`None`*, **`cz_game_id`**:`Union`\\[`str`, `int`, `NoneType`\\]=*`None`*, **\\*\\*`request_kwargs`**)\n",
       "\n",
       "Returns the dates of the event based on the cz_event_id or the cz_game_id."
      ],
      "text/plain": [
       "<IPython.core.display.Markdown object>"
      ]
     },
     "metadata": {},
     "output_type": "display_data"
    }
   ],
   "source": [
    "show_doc(get_event_date)"
   ]
  },
  {
   "cell_type": "code",
   "execution_count": 5,
   "metadata": {},
   "outputs": [
    {
     "data": {
      "text/markdown": [
       "<h4 id=\"get_event_name\" class=\"doc_header\"><code>get_event_name</code><a href=\"https://github.com/calicorob/czapi/tree/master/czapi/core/scraping/event.py#L68\" class=\"source_link\" style=\"float:right\">[source]</a></h4>\n",
       "\n",
       "> <code>get_event_name</code>(**`cz_event_id`**:`Union`\\[`str`, `int`, `NoneType`\\]=*`None`*, **`cz_draw_id`**:`Union`\\[`str`, `int`, `NoneType`\\]=*`None`*, **`cz_game_id`**:`Union`\\[`str`, `int`, `NoneType`\\]=*`None`*, **\\*\\*`request_kwargs`**)\n",
       "\n",
       "Returns the name of the event based on the cz_event_id or the cz_game_id."
      ],
      "text/plain": [
       "<IPython.core.display.Markdown object>"
      ]
     },
     "metadata": {},
     "output_type": "display_data"
    }
   ],
   "source": [
    "show_doc(get_event_name)"
   ]
  },
  {
   "cell_type": "markdown",
   "metadata": {},
   "source": [
    "# Boxscore Details"
   ]
  },
  {
   "cell_type": "code",
   "execution_count": 6,
   "metadata": {},
   "outputs": [
    {
     "data": {
      "text/markdown": [
       "<h4 id=\"get_full_boxscore\" class=\"doc_header\"><code>get_full_boxscore</code><a href=\"https://github.com/calicorob/czapi/tree/master/czapi/core/scraping/linescore.py#L207\" class=\"source_link\" style=\"float:right\">[source]</a></h4>\n",
       "\n",
       "> <code>get_full_boxscore</code>(**`cz_event_id`**:`Union`\\[`str`, `int`, `NoneType`\\]=*`None`*, **`cz_draw_id`**:`Optional`\\[`int`\\]=*`None`*, **`game_number`**:`Optional`\\[`int`\\]=*`None`*, **`cz_game_id`**:`Union`\\[`str`, `int`, `NoneType`\\]=*`None`*, **\\*\\*`request_kwargs`**)\n",
       "\n",
       "Returns a curling boxscore (dict) with data hash based on the cz_event_id, cz_draw_id and game_number or the cz_game_id.\n",
       "get_full_boxscore limits the number of get_requests that are made to the CurlingZone site."
      ],
      "text/plain": [
       "<IPython.core.display.Markdown object>"
      ]
     },
     "metadata": {},
     "output_type": "display_data"
    }
   ],
   "source": [
    "show_doc(get_full_boxscore)"
   ]
  },
  {
   "cell_type": "code",
   "execution_count": 7,
   "metadata": {},
   "outputs": [
    {
     "data": {
      "text/markdown": [
       "<h4 id=\"get_boxscore\" class=\"doc_header\"><code>get_boxscore</code><a href=\"https://github.com/calicorob/czapi/tree/master/czapi/core/scraping/linescore.py#L141\" class=\"source_link\" style=\"float:right\">[source]</a></h4>\n",
       "\n",
       "> <code>get_boxscore</code>(**`cz_event_id`**:`Union`\\[`str`, `int`, `NoneType`\\]=*`None`*, **`cz_draw_id`**:`Optional`\\[`int`\\]=*`None`*, **`game_number`**:`Optional`\\[`int`\\]=*`None`*, **`cz_game_id`**:`Optional`\\[`str`\\]=*`None`*, **\\*\\*`request_kwargs`**)\n",
       "\n",
       "Returns a curling boxscore (dict) based on the cz_event_id, cz_draw_id and game_number or the cz_game_id.\n",
       "Not recommended for use as it makes too many get requests (slow). Use get_full_boxscore instead."
      ],
      "text/plain": [
       "<IPython.core.display.Markdown object>"
      ]
     },
     "metadata": {},
     "output_type": "display_data"
    }
   ],
   "source": [
    "show_doc(get_boxscore)"
   ]
  },
  {
   "cell_type": "code",
   "execution_count": null,
   "metadata": {},
   "outputs": [],
   "source": []
  }
 ],
 "metadata": {
  "kernelspec": {
   "display_name": "Python 3 (ipykernel)",
   "language": "python",
   "name": "python3"
  },
  "language_info": {
   "codemirror_mode": {
    "name": "ipython",
    "version": 3
   },
   "file_extension": ".py",
   "mimetype": "text/x-python",
   "name": "python",
   "nbconvert_exporter": "python",
   "pygments_lexer": "ipython3",
   "version": "3.7.9"
  }
 },
 "nbformat": 4,
 "nbformat_minor": 2
}
