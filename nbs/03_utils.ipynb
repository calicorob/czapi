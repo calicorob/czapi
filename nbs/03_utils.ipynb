{
 "cells": [
  {
   "cell_type": "code",
   "execution_count": 1,
   "id": "f6c232ed",
   "metadata": {},
   "outputs": [],
   "source": [
    "# default_exp core.utils"
   ]
  },
  {
   "cell_type": "markdown",
   "id": "63b101a7",
   "metadata": {},
   "source": [
    "# Utils\n",
    "\n",
    "> Provides utility functions for scraping."
   ]
  },
  {
   "cell_type": "code",
   "execution_count": 2,
   "id": "bf16b2b6",
   "metadata": {},
   "outputs": [],
   "source": [
    "#hide\n",
    "from nbdev.showdoc import *"
   ]
  },
  {
   "cell_type": "code",
   "execution_count": 3,
   "id": "4e6b42c9",
   "metadata": {},
   "outputs": [],
   "source": [
    "# export\n",
    "\n",
    "import requests\n",
    "from bs4 import BeautifulSoup"
   ]
  },
  {
   "cell_type": "code",
   "execution_count": 4,
   "id": "bdbc04a0",
   "metadata": {},
   "outputs": [],
   "source": [
    "#exporti\n",
    "    \n",
    "def make_request_from(\n",
    "\n",
    "     *\n",
    "    ,url : str\n",
    "    ,**kwargs\n",
    "\n",
    ")->requests.Response:\n",
    "    \"\"\"Returns a GET response from the passed URL.\"\"\"\n",
    "    return requests.get(url=url,**kwargs)\n",
    "        \n",
    "\n",
    "def make_soup_from(\n",
    "    \n",
    "     *\n",
    "    ,response : requests.Response\n",
    "    ,**kwargs\n",
    "\n",
    ")->BeautifulSoup:\n",
    "    \"\"\" Returns a Beautifulsoup object for the passed GET response.\"\"\"\n",
    "    \n",
    "    return BeautifulSoup(response.content,features='html.parser',**kwargs)"
   ]
  }
 ],
 "metadata": {
  "kernelspec": {
   "display_name": "Python 3 (ipykernel)",
   "language": "python",
   "name": "python3"
  },
  "language_info": {
   "codemirror_mode": {
    "name": "ipython",
    "version": 3
   },
   "file_extension": ".py",
   "mimetype": "text/x-python",
   "name": "python",
   "nbconvert_exporter": "python",
   "pygments_lexer": "ipython3",
   "version": "3.9.7"
  }
 },
 "nbformat": 4,
 "nbformat_minor": 5
}
