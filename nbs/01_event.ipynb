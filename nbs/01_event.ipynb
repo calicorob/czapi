{
 "cells": [
  {
   "cell_type": "code",
   "execution_count": null,
   "metadata": {},
   "outputs": [],
   "source": [
    "# default_exp core.scraping.event"
   ]
  },
  {
   "cell_type": "markdown",
   "metadata": {},
   "source": [
    "# Event\n",
    "\n",
    "> Scrapes CZ event information."
   ]
  },
  {
   "cell_type": "code",
   "execution_count": null,
   "metadata": {},
   "outputs": [],
   "source": [
    "#hide\n",
    "from nbdev.showdoc import *"
   ]
  },
  {
   "cell_type": "code",
   "execution_count": null,
   "metadata": {},
   "outputs": [],
   "source": [
    "#export\n",
    "\n",
    "from czapi.core.scraping.base import make_soup\n",
    "from bs4 import BeautifulSoup\n",
    "from typing import Union, Optional"
   ]
  },
  {
   "cell_type": "code",
   "execution_count": null,
   "metadata": {},
   "outputs": [],
   "source": [
    "#hide\n",
    "\n",
    "url = 'https://www.curlingzone.com/event.php?view=Main&eventid=6938'\n",
    "soup = make_soup(url)"
   ]
  },
  {
   "cell_type": "code",
   "execution_count": null,
   "metadata": {},
   "outputs": [],
   "source": [
    "# export\n",
    "\n",
    "def _get_event_name_from_linescore_page(\n",
    "     soup : BeautifulSoup\n",
    ")->str:\n",
    "    \"\"\"Returns the name of the event based on the event_id. Built so for larger-scale scraping less API calls are made.\"\"\"\n",
    "    return soup.find('title').string\n",
    "\n",
    "def _get_event_name_from_boxscore_page(\n",
    "    \n",
    "    soup : BeautifulSoup\n",
    "\n",
    ")->str:\n",
    "    \"\"\"Returns the name of the vent based on the game_id. Build so for larger-scale scrpaing less API calls are made.\"\"\"\n",
    "    \n",
    "    return soup.find('h3',attrs={'class':'entry-title-widget'}).string"
   ]
  },
  {
   "cell_type": "code",
   "execution_count": null,
   "metadata": {},
   "outputs": [],
   "source": [
    "# export\n",
    "\n",
    "\n",
    "def _get_event_url(\n",
    "     cz_event_id : Union[str,int]\n",
    ")->str:\n",
    "    \"\"\"Returns the cz event page url.\"\"\"\n",
    "    \n",
    "    return 'https://curlingzone.com/event.php?view=Main&eventid=%s#1'%cz_event_id\n",
    "\n",
    "def _get_game_url(\n",
    "    cz_game_id : Union[str,int]\n",
    ")->str:\n",
    "    \"\"\"Returns the cz game page url.\"\"\"\n",
    "\n",
    "    return 'https://www.curlingzone.com/game.php?1=1&showgameid=%s#1'%cz_game_id\n",
    "\n",
    "def get_event_name(\n",
    "     cz_event_id : Optional[Union[str,int]] = None\n",
    "    ,cz_game_id : Optional[Union[str,int]] = None\n",
    "    ,**request_kwargs\n",
    ")->str:\n",
    "    \"\"\"Returns the name of the event based on the cz_event_id or the cz_game_id.\"\"\"\n",
    "    \n",
    "    # TODO : how to handle situations where an event_id is valid but that event hasn't been conducted yet?\n",
    "    # e.g. event_id = 12312321312 returns 'CurlingZone – Everything Curling'\n",
    "    \n",
    "    ids = [cz_event_id,cz_game_id]\n",
    "    if all(ids) or not any(ids):\n",
    "        raise ValueError(\"One of cz_event_id or cz_game_id can be a non NoneType.\")\n",
    "    \n",
    "    if cz_event_id:\n",
    "        url = _get_event_url(cz_event_id = cz_event_id)\n",
    "        f = _get_event_name_from_linescore_page\n",
    "    else:\n",
    "        url = _get_game_url(cz_game_id = cz_game_id)\n",
    "        f = _get_event_name_from_boxscore_page\n",
    "        \n",
    "    soup = make_soup(url=url,**request_kwargs)\n",
    "    \n",
    "    return f(soup=soup)"
   ]
  },
  {
   "cell_type": "code",
   "execution_count": null,
   "metadata": {},
   "outputs": [
    {
     "data": {
      "text/plain": [
       "'Scotties Tournament of Hearts'"
      ]
     },
     "execution_count": null,
     "metadata": {},
     "output_type": "execute_result"
    }
   ],
   "source": [
    "#hide\n",
    "soup = make_soup('https://curlingzone.com/event.php?view=Main&eventid=6900#1')\n",
    "soup.find('title').string"
   ]
  },
  {
   "cell_type": "code",
   "execution_count": null,
   "metadata": {},
   "outputs": [],
   "source": [
    "# tests\n",
    "\n",
    "# scotties \n",
    "assert get_event_name(cz_event_id = '6900') == 'Scotties Tournament of Hearts'\n",
    "assert get_event_name(cz_game_id = 297288) == 'Scotties Tournament of Hearts'\n",
    "\n",
    "# random event\n",
    "assert get_event_name(cz_event_id = '6938') == 'Hokkaido Bank Curling Classic'\n",
    "assert get_event_name(cz_game_id = 284807) == 'Hokkaido Bank Curling Classic'\n",
    "\n",
    "try:\n",
    "    get_event_name(1,2)\n",
    "except ValueError as e:\n",
    "    assert isinstance(e,ValueError)\n",
    "    \n",
    "try:\n",
    "    get_event_name()\n",
    "except ValueError as e:\n",
    "    assert isinstance(e,ValueError)"
   ]
  },
  {
   "cell_type": "code",
   "execution_count": null,
   "metadata": {},
   "outputs": [],
   "source": [
    "# export\n",
    "\n",
    "def _get_event_date_from_linescore_page(\n",
    "\n",
    "     soup : BeautifulSoup\n",
    ")->str:\n",
    "    \"\"\"Returns the dates of the event from the passed soup. Built so for larger-scale scraping less API calls are made.\"\"\"\n",
    "    return soup.find(name='div',attrs={'class':'badge-widget'}).string\n",
    "\n",
    "def _get_event_date_from_boxscore_page(\n",
    "\n",
    "    soup : BeautifulSoup\n",
    "\n",
    ")->str:\n",
    "    \"\"\"Returns the dates of the event from the passed soup. Built so for larger-scale scraping less API calls are made.\"\"\"\n",
    "    return soup.find('div',attrs={'class':'badge-widget'}).string"
   ]
  },
  {
   "cell_type": "code",
   "execution_count": null,
   "metadata": {},
   "outputs": [],
   "source": [
    "# export\n",
    "\n",
    "def get_event_date(\n",
    "\n",
    "     cz_event_id : Optional[Union[str,int]] = None\n",
    "    ,cz_game_id : Optional[Union[str,int]] = None\n",
    "    ,**request_kwargs\n",
    "\n",
    ")->str:\n",
    "    \"\"\"Returns the dates of the event based on the cz_event_id or the cz_game_id.\"\"\"\n",
    "    \n",
    "    # TODO : how to handle situations where an event_id is valid but that event hasn't been conducted yet?\n",
    "    # e.g. event_id = 12312321312 returns 'Recent'\n",
    "    \n",
    "    ids = [cz_event_id,cz_game_id]\n",
    "    if all(ids) or not any(ids):\n",
    "        raise ValueError(\"One of cz_event_id or cz_game_id can be a non NoneType.\")\n",
    "    \n",
    "    if cz_event_id:\n",
    "        url = _get_event_url(cz_event_id = cz_event_id)\n",
    "        f = _get_event_date_from_linescore_page\n",
    "    else:\n",
    "        url = _get_game_url(cz_game_id = cz_game_id)\n",
    "        f = _get_event_date_from_boxscore_page\n",
    "        \n",
    "    soup = make_soup(url=url,**request_kwargs)\n",
    "    \n",
    "    return f(soup=soup)"
   ]
  },
  {
   "cell_type": "code",
   "execution_count": null,
   "metadata": {},
   "outputs": [],
   "source": [
    "# tests\n",
    "\n",
    "# scotties\n",
    "assert get_event_date(cz_event_id = '6900') == 'Jan 28 - Feb 6, 2022'\n",
    "assert get_event_date(cz_game_id = 297288) == 'Jan 28 - Feb 6, 2022'\n",
    "\n",
    "try:\n",
    "    get_event_date()\n",
    "except ValueError as e:\n",
    "    assert isinstance(e,ValueError)\n",
    "\n",
    "try:\n",
    "    get_event_date(1,2)\n",
    "except ValueError as e:\n",
    "    assert isinstance(e,ValueError)\n",
    "    \n",
    "# random event\n",
    "assert get_event_date(cz_event_id = '6938') == 'Aug 19 - 22, 2021'\n",
    "assert get_event_date(cz_game_id = 284807) == 'Aug 19 - 22, 2021'"
   ]
  },
  {
   "cell_type": "code",
   "execution_count": null,
   "metadata": {},
   "outputs": [],
   "source": []
  }
 ],
 "metadata": {
  "kernelspec": {
   "display_name": "Python 3 (ipykernel)",
   "language": "python",
   "name": "python3"
  },
  "language_info": {
   "codemirror_mode": {
    "name": "ipython",
    "version": 3
   },
   "file_extension": ".py",
   "mimetype": "text/x-python",
   "name": "python",
   "nbconvert_exporter": "python",
   "pygments_lexer": "ipython3",
   "version": "3.9.7"
  }
 },
 "nbformat": 4,
 "nbformat_minor": 2
}
