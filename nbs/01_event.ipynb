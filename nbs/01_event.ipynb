{
 "cells": [
  {
   "cell_type": "code",
   "execution_count": null,
   "metadata": {},
   "outputs": [],
   "source": [
    "# default_exp core.scraping.event"
   ]
  },
  {
   "cell_type": "markdown",
   "metadata": {},
   "source": [
    "# Event\n",
    "\n",
    "> Scrapes CZ event information."
   ]
  },
  {
   "cell_type": "code",
   "execution_count": null,
   "metadata": {},
   "outputs": [],
   "source": [
    "#hide\n",
    "from nbdev.showdoc import *"
   ]
  },
  {
   "cell_type": "code",
   "execution_count": null,
   "metadata": {},
   "outputs": [],
   "source": [
    "#export\n",
    "\n",
    "from czapi.core.scraping.base import make_soup\n",
    "from bs4 import BeautifulSoup"
   ]
  },
  {
   "cell_type": "code",
   "execution_count": null,
   "metadata": {},
   "outputs": [],
   "source": [
    "#hide\n",
    "\n",
    "url = 'https://www.curlingzone.com/event.php?view=Main&eventid=6938'\n",
    "soup = make_soup(url)"
   ]
  },
  {
   "cell_type": "code",
   "execution_count": null,
   "metadata": {},
   "outputs": [],
   "source": [
    "# export\n",
    "\n",
    "def _get_event_name(\n",
    "     soup : BeautifulSoup\n",
    ")->str:\n",
    "    \"\"\"Returns the name of the event based on the event_id. Built so for larger-scale scraping less API calls are made.\"\"\"\n",
    "    return soup.find('title').string"
   ]
  },
  {
   "cell_type": "code",
   "execution_count": null,
   "metadata": {},
   "outputs": [],
   "source": [
    "# export\n",
    "\n",
    "def get_event_name(\n",
    "     cz_event_id : str\n",
    "    ,**request_kwargs\n",
    ")->str:\n",
    "    \"\"\"Returns the name of the event based on the event_id.\"\"\"\n",
    "    \n",
    "    \n",
    "    # TODO : how to handle situations where an event_id is valid but that event hasn't been conducted yet?\n",
    "    # e.g. event_id = 12312321312 returns 'CurlingZone – Everything Curling'\n",
    "    \n",
    "    url = 'https://curlingzone.com/event.php?view=Main&eventid=%s#1'%cz_event_id\n",
    "    return _get_event_name(make_soup(url=url,**request_kwargs))"
   ]
  },
  {
   "cell_type": "code",
   "execution_count": null,
   "metadata": {},
   "outputs": [
    {
     "data": {
      "text/plain": [
       "'Scotties Tournament of Hearts'"
      ]
     },
     "execution_count": null,
     "metadata": {},
     "output_type": "execute_result"
    }
   ],
   "source": [
    "#hide\n",
    "soup = make_soup('https://curlingzone.com/event.php?view=Main&eventid=6900#1')\n",
    "soup.find('title').string"
   ]
  },
  {
   "cell_type": "code",
   "execution_count": null,
   "metadata": {},
   "outputs": [],
   "source": [
    "# tests\n",
    "\n",
    "# scotties \n",
    "assert get_event_name('6900') == 'Scotties Tournament of Hearts'\n",
    "\n",
    "# random event\n",
    "assert get_event_name('6938') == 'Hokkaido Bank Curling Classic'"
   ]
  },
  {
   "cell_type": "code",
   "execution_count": null,
   "metadata": {},
   "outputs": [],
   "source": [
    "# export\n",
    "\n",
    "def _get_event_date(\n",
    "\n",
    "     soup : BeautifulSoup\n",
    ")->str:\n",
    "    \"\"\"Returns the dates of the event from the passed soup. Built so for larger-scale scraping less API calls are made.\"\"\"\n",
    "    return soup.find(name='div',attrs={'class':'badge-widget'}).string"
   ]
  },
  {
   "cell_type": "code",
   "execution_count": null,
   "metadata": {},
   "outputs": [],
   "source": [
    "# export\n",
    "\n",
    "def get_event_date(\n",
    "\n",
    "     cz_event_id : str\n",
    "    ,**request_kwargs\n",
    "\n",
    ")->str:\n",
    "    \"\"\"Returns the dates of the event based on the event_id.\"\"\"\n",
    "    \n",
    "    # TODO : how to handle situations where an event_id is valid but that event hasn't been conducted yet?\n",
    "    # e.g. event_id = 12312321312 returns 'Recent'\n",
    "    \n",
    "    url = 'https://curlingzone.com/event.php?view=Main&eventid=%s#1'%cz_event_id\n",
    "    return _get_event_date(make_soup(url=url,**request_kwargs))"
   ]
  },
  {
   "cell_type": "code",
   "execution_count": null,
   "metadata": {},
   "outputs": [],
   "source": [
    "# tests\n",
    "\n",
    "# scotties\n",
    "assert get_event_date('6900') == 'Jan 28 - Feb 6, 2022'\n",
    "\n",
    "# random event\n",
    "assert get_event_date('6938') == 'Aug 19 - 22, 2021'"
   ]
  }
 ],
 "metadata": {
  "kernelspec": {
   "display_name": "Python 3 (ipykernel)",
   "language": "python",
   "name": "python3"
  }
 },
 "nbformat": 4,
 "nbformat_minor": 2
}
