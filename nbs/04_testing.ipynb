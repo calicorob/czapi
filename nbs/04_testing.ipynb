{
 "cells": [
  {
   "cell_type": "code",
   "execution_count": null,
   "id": "2d690765",
   "metadata": {},
   "outputs": [],
   "source": [
    "# default_exp core.testing"
   ]
  },
  {
   "attachments": {},
   "cell_type": "markdown",
   "id": "7f266dfe",
   "metadata": {},
   "source": [
    "# Testing\n",
    "\n",
    "> Utility functions and objects for testing."
   ]
  },
  {
   "cell_type": "code",
   "execution_count": null,
   "id": "cbec25be",
   "metadata": {},
   "outputs": [],
   "source": [
    "#hide\n",
    "from nbdev.showdoc import *"
   ]
  },
  {
   "cell_type": "code",
   "execution_count": null,
   "id": "89836014",
   "metadata": {},
   "outputs": [],
   "source": [
    "#export\n",
    "\n",
    "from abc import ABC, abstractmethod, abstractproperty"
   ]
  },
  {
   "cell_type": "code",
   "execution_count": null,
   "id": "4a3f825f",
   "metadata": {},
   "outputs": [],
   "source": [
    "# exporti\n",
    "\n",
    "\n",
    "class TagBase(ABC):\n",
    "    @abstractmethod\n",
    "    def find_all(self,name:str)->None:\n",
    "        pass\n",
    "    \n",
    "    @abstractproperty\n",
    "    def attrs(self)->dict:\n",
    "        pass\n",
    "    @abstractproperty\n",
    "    def a(self):\n",
    "        pass\n",
    "    @abstractproperty\n",
    "    def b(self):\n",
    "        pass\n",
    "    @abstractproperty\n",
    "    def string(self)->str:\n",
    "        pass\n",
    "    \n",
    "    @abstractmethod\n",
    "    def __getitem__(self,key):\n",
    "        pass\n",
    "    \n",
    "    @abstractproperty\n",
    "    def href(self)->str:\n",
    "        pass\n",
    "    \n",
    "class TagLike(TagBase):\n",
    "    def __init__(self,children:dict=None,attrs:dict=None,a=None,b=None,string=None,href=None)->None:\n",
    "        if attrs is None:\n",
    "            self.attrs = {}\n",
    "        else:\n",
    "            self.attrs = attrs\n",
    "        if children is None:\n",
    "            self.children = {}\n",
    "        else:\n",
    "            self.children = children\n",
    "            \n",
    "        self.a = a\n",
    "        self.b = b\n",
    "        self.string = string\n",
    "        self.href = href\n",
    "            \n",
    "    def find_all(self,name:str)->None:\n",
    "        return self.children.get(name,[])\n",
    "        \n",
    "    def attrs(self)->dict:\n",
    "        return self.attrs\n",
    "    \n",
    "    def a(self):\n",
    "        return self.a\n",
    "    \n",
    "    def b(self):\n",
    "        return self.b\n",
    "    \n",
    "    def string(self):\n",
    "        return self.string\n",
    "    \n",
    "    def href(self)->str:\n",
    "        return self.href\n",
    "    \n",
    "    def __getitem__(self,key):\n",
    "        try:\n",
    "            return getattr(self,key)\n",
    "        except AttributeError:\n",
    "            return AttributeError('This attribute does not exist.')\n",
    "        "
   ]
  }
 ],
 "metadata": {
  "kernelspec": {
   "display_name": "Python 3 (ipykernel)",
   "language": "python",
   "name": "python3"
  },
  "language_info": {
   "codemirror_mode": {
    "name": "ipython",
    "version": 3
   },
   "file_extension": ".py",
   "mimetype": "text/x-python",
   "name": "python",
   "nbconvert_exporter": "python",
   "pygments_lexer": "ipython3",
   "version": "3.9.7"
  }
 },
 "nbformat": 4,
 "nbformat_minor": 5
}
