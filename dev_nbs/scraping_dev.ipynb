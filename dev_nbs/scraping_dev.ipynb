{
 "cells": [
  {
   "cell_type": "code",
   "execution_count": 17,
   "id": "82abf21f",
   "metadata": {},
   "outputs": [],
   "source": [
    "import czapi.api as api\n",
    "from tqdm import tqdm\n",
    "import concurrent.futures\n",
    "import time"
   ]
  },
  {
   "cell_type": "code",
   "execution_count": 22,
   "id": "ea3c18ba",
   "metadata": {},
   "outputs": [
    {
     "name": "stdout",
     "output_type": "stream",
     "text": [
      "36.88\n"
     ]
    }
   ],
   "source": [
    "lst = list()\n",
    "\n",
    "start = time.perf_counter()\n",
    "with concurrent.futures.ThreadPoolExecutor() as executor:\n",
    "    results = [executor.submit(api.get_full_boxscore,cz_game_id=i) for i in range(1,100)]\n",
    "    for future in concurrent.futures.as_completed(results):\n",
    "        lst.append(future.result())\n",
    "end = time.perf_counter()\n",
    "\n",
    "print(round(end-start,2))"
   ]
  }
 ],
 "metadata": {
  "kernelspec": {
   "display_name": "Python 3 (ipykernel)",
   "language": "python",
   "name": "python3"
  },
  "language_info": {
   "codemirror_mode": {
    "name": "ipython",
    "version": 3
   },
   "file_extension": ".py",
   "mimetype": "text/x-python",
   "name": "python",
   "nbconvert_exporter": "python",
   "pygments_lexer": "ipython3",
   "version": "3.7.9"
  }
 },
 "nbformat": 4,
 "nbformat_minor": 5
}
